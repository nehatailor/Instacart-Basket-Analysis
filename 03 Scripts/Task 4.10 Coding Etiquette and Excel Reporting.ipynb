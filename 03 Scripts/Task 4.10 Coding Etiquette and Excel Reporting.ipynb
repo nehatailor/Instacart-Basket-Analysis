{
 "cells": [
  {
   "cell_type": "markdown",
   "id": "7a2d4e7e",
   "metadata": {},
   "source": [
    "# 4.10 Coding Etiquette & Excel Reporting"
   ]
  },
  {
   "cell_type": "markdown",
   "id": "109160dd",
   "metadata": {},
   "source": [
    "# Instacart Basket Analysis Part 1"
   ]
  },
  {
   "cell_type": "markdown",
   "id": "d644d18c",
   "metadata": {},
   "source": [
    "### 1. Import the data set exported in Task 4.9. Orders/Products/Customers"
   ]
  },
  {
   "cell_type": "code",
   "execution_count": 1,
   "id": "14b2c766",
   "metadata": {},
   "outputs": [],
   "source": [
    "# Import Libraries\n",
    "\n",
    "import pandas as pd\n",
    "import numpy as np\n",
    "import os\n",
    "import matplotlib.pyplot as plt\n",
    "import seaborn as sns\n",
    "import scipy"
   ]
  },
  {
   "cell_type": "code",
   "execution_count": 2,
   "id": "e32f876e",
   "metadata": {},
   "outputs": [],
   "source": [
    "path = r'C:\\Users\\nehat\\OneDrive\\Desktop\\CF DA Immersion\\Achievement 4\\Instacart Basket Analysis 09'"
   ]
  },
  {
   "cell_type": "code",
   "execution_count": 3,
   "id": "5ea7df8c",
   "metadata": {},
   "outputs": [],
   "source": [
    "# Import merged data set\n",
    "\n",
    "df = pd.read_pickle(os.path.join(path, '02 Data', 'Prepared Data', 'ords_prods_cust_part1.pkl'))"
   ]
  },
  {
   "cell_type": "code",
   "execution_count": 4,
   "id": "45669bbf",
   "metadata": {},
   "outputs": [
    {
     "data": {
      "text/plain": [
       "(32434212, 29)"
      ]
     },
     "execution_count": 4,
     "metadata": {},
     "output_type": "execute_result"
    }
   ],
   "source": [
    "df.shape"
   ]
  },
  {
   "cell_type": "code",
   "execution_count": 5,
   "id": "1459b799",
   "metadata": {},
   "outputs": [
    {
     "data": {
      "text/plain": [
       "order_id                     int64\n",
       "User_Id                      int64\n",
       "order_number                 int64\n",
       "orders_day_of_the_week      uint16\n",
       "order_hour_of_day           uint16\n",
       "days_since_prior_order     float64\n",
       "product_id                   int64\n",
       "add_to_cart_order            int64\n",
       "product_name              category\n",
       "aisle_id                     int64\n",
       "department_id               uint16\n",
       "prices                       int32\n",
       "price_range_loc           category\n",
       "busiest_days              category\n",
       "existing_customers        category\n",
       "max_order                    int16\n",
       "loyalty_flag              category\n",
       "spending                   float64\n",
       "spending_flag             category\n",
       "frequency                  float64\n",
       "frequency_flag              object\n",
       "Gender                      object\n",
       "State                       object\n",
       "Age                          int64\n",
       "Date_Joined                 object\n",
       "Number_of_Dependants         int64\n",
       "Family_status               object\n",
       "Income                       int64\n",
       "_merge                    category\n",
       "dtype: object"
      ]
     },
     "execution_count": 5,
     "metadata": {},
     "output_type": "execute_result"
    }
   ],
   "source": [
    "df.dtypes"
   ]
  },
  {
   "cell_type": "markdown",
   "id": "4aeaca81",
   "metadata": {},
   "source": [
    "### 2. Consider any security implications that might exist for this new data. Address any PII data."
   ]
  },
  {
   "cell_type": "code",
   "execution_count": 6,
   "id": "b285f77d",
   "metadata": {},
   "outputs": [
    {
     "data": {
      "text/plain": [
       "Index(['order_id', 'User_Id', 'order_number', 'orders_day_of_the_week',\n",
       "       'order_hour_of_day', 'days_since_prior_order', 'product_id',\n",
       "       'add_to_cart_order', 'product_name', 'aisle_id', 'department_id',\n",
       "       'prices', 'price_range_loc', 'busiest_days', 'existing_customers',\n",
       "       'max_order', 'loyalty_flag', 'spending', 'spending_flag', 'frequency',\n",
       "       'frequency_flag', 'Gender', 'State', 'Age', 'Date_Joined',\n",
       "       'Number_of_Dependants', 'Family_status', 'Income', '_merge'],\n",
       "      dtype='object')"
      ]
     },
     "execution_count": 6,
     "metadata": {},
     "output_type": "execute_result"
    }
   ],
   "source": [
    "df.columns"
   ]
  },
  {
   "cell_type": "code",
   "execution_count": 7,
   "id": "42168d12",
   "metadata": {},
   "outputs": [
    {
     "data": {
      "text/html": [
       "<div>\n",
       "<style scoped>\n",
       "    .dataframe tbody tr th:only-of-type {\n",
       "        vertical-align: middle;\n",
       "    }\n",
       "\n",
       "    .dataframe tbody tr th {\n",
       "        vertical-align: top;\n",
       "    }\n",
       "\n",
       "    .dataframe thead th {\n",
       "        text-align: right;\n",
       "    }\n",
       "</style>\n",
       "<table border=\"1\" class=\"dataframe\">\n",
       "  <thead>\n",
       "    <tr style=\"text-align: right;\">\n",
       "      <th></th>\n",
       "      <th>order_id</th>\n",
       "      <th>User_Id</th>\n",
       "      <th>order_number</th>\n",
       "      <th>orders_day_of_the_week</th>\n",
       "      <th>order_hour_of_day</th>\n",
       "      <th>days_since_prior_order</th>\n",
       "      <th>product_id</th>\n",
       "      <th>add_to_cart_order</th>\n",
       "      <th>product_name</th>\n",
       "      <th>aisle_id</th>\n",
       "      <th>...</th>\n",
       "      <th>frequency</th>\n",
       "      <th>frequency_flag</th>\n",
       "      <th>Gender</th>\n",
       "      <th>State</th>\n",
       "      <th>Age</th>\n",
       "      <th>Date_Joined</th>\n",
       "      <th>Number_of_Dependants</th>\n",
       "      <th>Family_status</th>\n",
       "      <th>Income</th>\n",
       "      <th>_merge</th>\n",
       "    </tr>\n",
       "  </thead>\n",
       "  <tbody>\n",
       "    <tr>\n",
       "      <th>0</th>\n",
       "      <td>2539329</td>\n",
       "      <td>1</td>\n",
       "      <td>1</td>\n",
       "      <td>2</td>\n",
       "      <td>8</td>\n",
       "      <td>1.111484</td>\n",
       "      <td>196</td>\n",
       "      <td>1</td>\n",
       "      <td>Soda</td>\n",
       "      <td>77</td>\n",
       "      <td>...</td>\n",
       "      <td>20.0</td>\n",
       "      <td>Regular customer</td>\n",
       "      <td>Female</td>\n",
       "      <td>Alabama</td>\n",
       "      <td>31</td>\n",
       "      <td>2/17/2019</td>\n",
       "      <td>3</td>\n",
       "      <td>married</td>\n",
       "      <td>40423</td>\n",
       "      <td>both</td>\n",
       "    </tr>\n",
       "    <tr>\n",
       "      <th>1</th>\n",
       "      <td>2398795</td>\n",
       "      <td>1</td>\n",
       "      <td>2</td>\n",
       "      <td>3</td>\n",
       "      <td>7</td>\n",
       "      <td>15.000000</td>\n",
       "      <td>196</td>\n",
       "      <td>1</td>\n",
       "      <td>Soda</td>\n",
       "      <td>77</td>\n",
       "      <td>...</td>\n",
       "      <td>20.0</td>\n",
       "      <td>Regular customer</td>\n",
       "      <td>Female</td>\n",
       "      <td>Alabama</td>\n",
       "      <td>31</td>\n",
       "      <td>2/17/2019</td>\n",
       "      <td>3</td>\n",
       "      <td>married</td>\n",
       "      <td>40423</td>\n",
       "      <td>both</td>\n",
       "    </tr>\n",
       "    <tr>\n",
       "      <th>2</th>\n",
       "      <td>473747</td>\n",
       "      <td>1</td>\n",
       "      <td>3</td>\n",
       "      <td>3</td>\n",
       "      <td>12</td>\n",
       "      <td>21.000000</td>\n",
       "      <td>196</td>\n",
       "      <td>1</td>\n",
       "      <td>Soda</td>\n",
       "      <td>77</td>\n",
       "      <td>...</td>\n",
       "      <td>20.0</td>\n",
       "      <td>Regular customer</td>\n",
       "      <td>Female</td>\n",
       "      <td>Alabama</td>\n",
       "      <td>31</td>\n",
       "      <td>2/17/2019</td>\n",
       "      <td>3</td>\n",
       "      <td>married</td>\n",
       "      <td>40423</td>\n",
       "      <td>both</td>\n",
       "    </tr>\n",
       "    <tr>\n",
       "      <th>3</th>\n",
       "      <td>2254736</td>\n",
       "      <td>1</td>\n",
       "      <td>4</td>\n",
       "      <td>4</td>\n",
       "      <td>7</td>\n",
       "      <td>29.000000</td>\n",
       "      <td>196</td>\n",
       "      <td>1</td>\n",
       "      <td>Soda</td>\n",
       "      <td>77</td>\n",
       "      <td>...</td>\n",
       "      <td>20.0</td>\n",
       "      <td>Regular customer</td>\n",
       "      <td>Female</td>\n",
       "      <td>Alabama</td>\n",
       "      <td>31</td>\n",
       "      <td>2/17/2019</td>\n",
       "      <td>3</td>\n",
       "      <td>married</td>\n",
       "      <td>40423</td>\n",
       "      <td>both</td>\n",
       "    </tr>\n",
       "    <tr>\n",
       "      <th>4</th>\n",
       "      <td>431534</td>\n",
       "      <td>1</td>\n",
       "      <td>5</td>\n",
       "      <td>4</td>\n",
       "      <td>15</td>\n",
       "      <td>28.000000</td>\n",
       "      <td>196</td>\n",
       "      <td>1</td>\n",
       "      <td>Soda</td>\n",
       "      <td>77</td>\n",
       "      <td>...</td>\n",
       "      <td>20.0</td>\n",
       "      <td>Regular customer</td>\n",
       "      <td>Female</td>\n",
       "      <td>Alabama</td>\n",
       "      <td>31</td>\n",
       "      <td>2/17/2019</td>\n",
       "      <td>3</td>\n",
       "      <td>married</td>\n",
       "      <td>40423</td>\n",
       "      <td>both</td>\n",
       "    </tr>\n",
       "  </tbody>\n",
       "</table>\n",
       "<p>5 rows × 29 columns</p>\n",
       "</div>"
      ],
      "text/plain": [
       "   order_id  User_Id  order_number  orders_day_of_the_week  order_hour_of_day  \\\n",
       "0   2539329        1             1                       2                  8   \n",
       "1   2398795        1             2                       3                  7   \n",
       "2    473747        1             3                       3                 12   \n",
       "3   2254736        1             4                       4                  7   \n",
       "4    431534        1             5                       4                 15   \n",
       "\n",
       "   days_since_prior_order  product_id  add_to_cart_order product_name  \\\n",
       "0                1.111484         196                  1         Soda   \n",
       "1               15.000000         196                  1         Soda   \n",
       "2               21.000000         196                  1         Soda   \n",
       "3               29.000000         196                  1         Soda   \n",
       "4               28.000000         196                  1         Soda   \n",
       "\n",
       "   aisle_id  ...  frequency    frequency_flag  Gender    State Age  \\\n",
       "0        77  ...       20.0  Regular customer  Female  Alabama  31   \n",
       "1        77  ...       20.0  Regular customer  Female  Alabama  31   \n",
       "2        77  ...       20.0  Regular customer  Female  Alabama  31   \n",
       "3        77  ...       20.0  Regular customer  Female  Alabama  31   \n",
       "4        77  ...       20.0  Regular customer  Female  Alabama  31   \n",
       "\n",
       "   Date_Joined Number_of_Dependants  Family_status Income  _merge  \n",
       "0    2/17/2019                    3        married  40423    both  \n",
       "1    2/17/2019                    3        married  40423    both  \n",
       "2    2/17/2019                    3        married  40423    both  \n",
       "3    2/17/2019                    3        married  40423    both  \n",
       "4    2/17/2019                    3        married  40423    both  \n",
       "\n",
       "[5 rows x 29 columns]"
      ]
     },
     "execution_count": 7,
     "metadata": {},
     "output_type": "execute_result"
    }
   ],
   "source": [
    "# Look at the columns to identify the types of data.\n",
    "\n",
    "df.head()"
   ]
  },
  {
   "cell_type": "markdown",
   "id": "82aa7a54",
   "metadata": {},
   "source": [
    "Currently in my data set I had already removed 'First names' and 'Surname' from the dataset. Even though Income may be classifed as PII for this data set I have decided to not remove the column. The Income columns has been used for part of the analysis."
   ]
  },
  {
   "cell_type": "markdown",
   "id": "65376110",
   "metadata": {},
   "source": [
    "### 3. Compare customer behaviour with different geopgraphic areas.\n",
    "\n",
    "### a. Create regional segmentation by creating a 'Region' column based on 'State' from the customers data set."
   ]
  },
  {
   "cell_type": "code",
   "execution_count": 8,
   "id": "a1e66ff3",
   "metadata": {},
   "outputs": [],
   "source": [
    "\n",
    "region_1 = ['Maine', 'New Hampshire', 'Vermont', 'Massachusetts', 'Rhode Island', 'Connecticut', 'New York', 'Pennsylvania', 'New Jersey']\n",
    "\n",
    "region_2 = ['Wisconsin', 'Michigan', 'Illinois', 'Indiana', 'Ohio', 'North Dakota', 'South Dakota', 'Nebraska', 'Kansas', 'Minnesota', 'Iowa', 'Missouri']\n",
    "\n",
    "region_3 = ['Delaware','Maryland', 'District of Columbia', 'Virginia', 'West Virginia', 'North Carolina', 'South Carolina', 'Georgia', 'Florida', 'Kentucky', 'Tennessee', 'Mississippi', 'Alabama', 'Oklahoma', 'Texas', 'Arkansas', 'Louisiana']\n",
    "\n",
    "region_4 = ['Idaho', 'Montana', 'Wyoming', 'Nevada', 'Utah', 'Colorado', 'Arizona', 'New Mexico', 'Alaska', 'Washington', 'Oregon', 'California', 'Hawaii']"
   ]
  },
  {
   "cell_type": "code",
   "execution_count": 9,
   "id": "8de1da6c",
   "metadata": {},
   "outputs": [],
   "source": [
    "# Create 'Region' column based on 'State'\n",
    "result = []\n",
    "\n",
    "for value in df['State']:\n",
    "    if value in region_1:\n",
    "        result.append('Northeast')\n",
    "    elif value in region_2:\n",
    "        result.append('Midwest')\n",
    "    elif value in region_3:\n",
    "        result.append('South')\n",
    "    elif value in region_4:\n",
    "        result.append('West')\n",
    "    else:\n",
    "        result.append('No Region')"
   ]
  },
  {
   "cell_type": "code",
   "execution_count": 10,
   "id": "a44f0b72",
   "metadata": {},
   "outputs": [],
   "source": [
    "df['Region'] = result"
   ]
  },
  {
   "cell_type": "code",
   "execution_count": 11,
   "id": "fd7dcb7c",
   "metadata": {},
   "outputs": [
    {
     "data": {
      "text/plain": [
       "South        10801610\n",
       "West          8300445\n",
       "Midwest       7603810\n",
       "Northeast     5728347\n",
       "Name: Region, dtype: int64"
      ]
     },
     "execution_count": 11,
     "metadata": {},
     "output_type": "execute_result"
    }
   ],
   "source": [
    "# Check the 'Region' column\n",
    "\n",
    "df['Region'].value_counts()"
   ]
  },
  {
   "cell_type": "code",
   "execution_count": 12,
   "id": "25776e13",
   "metadata": {},
   "outputs": [
    {
     "data": {
      "text/plain": [
       "32434212"
      ]
     },
     "execution_count": 12,
     "metadata": {},
     "output_type": "execute_result"
    }
   ],
   "source": [
    "# df.shape = 32435212, check all states \n",
    "\n",
    "10801610+8300445+7603810+5728347"
   ]
  },
  {
   "cell_type": "code",
   "execution_count": 13,
   "id": "f419abfd",
   "metadata": {},
   "outputs": [
    {
     "data": {
      "text/plain": [
       "32434212"
      ]
     },
     "execution_count": 13,
     "metadata": {},
     "output_type": "execute_result"
    }
   ],
   "source": [
    "#length of states\n",
    "\n",
    "len(df['State'])"
   ]
  },
  {
   "cell_type": "code",
   "execution_count": 14,
   "id": "e926a99f",
   "metadata": {},
   "outputs": [
    {
     "data": {
      "text/plain": [
       "order_id                     int64\n",
       "User_Id                      int64\n",
       "order_number                 int64\n",
       "orders_day_of_the_week      uint16\n",
       "order_hour_of_day           uint16\n",
       "days_since_prior_order     float64\n",
       "product_id                   int64\n",
       "add_to_cart_order            int64\n",
       "product_name              category\n",
       "aisle_id                     int64\n",
       "department_id               uint16\n",
       "prices                       int32\n",
       "price_range_loc           category\n",
       "busiest_days              category\n",
       "existing_customers        category\n",
       "max_order                    int16\n",
       "loyalty_flag              category\n",
       "spending                   float64\n",
       "spending_flag             category\n",
       "frequency                  float64\n",
       "frequency_flag              object\n",
       "Gender                      object\n",
       "State                       object\n",
       "Age                          int64\n",
       "Date_Joined                 object\n",
       "Number_of_Dependants         int64\n",
       "Family_status               object\n",
       "Income                       int64\n",
       "_merge                    category\n",
       "Region                      object\n",
       "dtype: object"
      ]
     },
     "execution_count": 14,
     "metadata": {},
     "output_type": "execute_result"
    }
   ],
   "source": [
    "# Check the dtype of the 'Region' column, if necessary I will change it\n",
    "\n",
    "df.dtypes"
   ]
  },
  {
   "cell_type": "code",
   "execution_count": 15,
   "id": "5387a0e2",
   "metadata": {},
   "outputs": [],
   "source": [
    "df['Region'] = df['Region'].astype('category')"
   ]
  },
  {
   "cell_type": "markdown",
   "id": "2d7204f5",
   "metadata": {},
   "source": [
    "### b. Determine whether there is a difference in spending habits between the US regions"
   ]
  },
  {
   "cell_type": "code",
   "execution_count": 16,
   "id": "9a142c0c",
   "metadata": {},
   "outputs": [],
   "source": [
    "crosstab = pd.crosstab(df['Region'], df['spending_flag'], dropna = False)"
   ]
  },
  {
   "cell_type": "code",
   "execution_count": 17,
   "id": "3a8a16a9",
   "metadata": {},
   "outputs": [
    {
     "data": {
      "text/html": [
       "<div>\n",
       "<style scoped>\n",
       "    .dataframe tbody tr th:only-of-type {\n",
       "        vertical-align: middle;\n",
       "    }\n",
       "\n",
       "    .dataframe tbody tr th {\n",
       "        vertical-align: top;\n",
       "    }\n",
       "\n",
       "    .dataframe thead th {\n",
       "        text-align: right;\n",
       "    }\n",
       "</style>\n",
       "<table border=\"1\" class=\"dataframe\">\n",
       "  <thead>\n",
       "    <tr style=\"text-align: right;\">\n",
       "      <th>spending_flag</th>\n",
       "      <th>High Spender</th>\n",
       "      <th>Low Spender</th>\n",
       "    </tr>\n",
       "    <tr>\n",
       "      <th>Region</th>\n",
       "      <th></th>\n",
       "      <th></th>\n",
       "    </tr>\n",
       "  </thead>\n",
       "  <tbody>\n",
       "    <tr>\n",
       "      <th>Midwest</th>\n",
       "      <td>156100</td>\n",
       "      <td>7447710</td>\n",
       "    </tr>\n",
       "    <tr>\n",
       "      <th>Northeast</th>\n",
       "      <td>108336</td>\n",
       "      <td>5620011</td>\n",
       "    </tr>\n",
       "    <tr>\n",
       "      <th>South</th>\n",
       "      <td>210128</td>\n",
       "      <td>10591482</td>\n",
       "    </tr>\n",
       "    <tr>\n",
       "      <th>West</th>\n",
       "      <td>160769</td>\n",
       "      <td>8139676</td>\n",
       "    </tr>\n",
       "  </tbody>\n",
       "</table>\n",
       "</div>"
      ],
      "text/plain": [
       "spending_flag  High Spender  Low Spender\n",
       "Region                                  \n",
       "Midwest              156100      7447710\n",
       "Northeast            108336      5620011\n",
       "South                210128     10591482\n",
       "West                 160769      8139676"
      ]
     },
     "execution_count": 17,
     "metadata": {},
     "output_type": "execute_result"
    }
   ],
   "source": [
    "crosstab"
   ]
  },
  {
   "cell_type": "code",
   "execution_count": 18,
   "id": "57a5b658",
   "metadata": {},
   "outputs": [],
   "source": [
    "crosstab.to_clipboard()"
   ]
  },
  {
   "cell_type": "markdown",
   "id": "73104601",
   "metadata": {},
   "source": [
    "### Work out the percentage for each Region"
   ]
  },
  {
   "cell_type": "code",
   "execution_count": 19,
   "id": "dcf342e7",
   "metadata": {},
   "outputs": [
    {
     "data": {
      "text/plain": [
       "7603810"
      ]
     },
     "execution_count": 19,
     "metadata": {},
     "output_type": "execute_result"
    }
   ],
   "source": [
    "# Midwest\n",
    "\n",
    "156100+7447710"
   ]
  },
  {
   "cell_type": "code",
   "execution_count": 20,
   "id": "877f36c3",
   "metadata": {},
   "outputs": [
    {
     "data": {
      "text/plain": [
       "2.0529182081088297"
      ]
     },
     "execution_count": 20,
     "metadata": {},
     "output_type": "execute_result"
    }
   ],
   "source": [
    "# High Spender (Midwest)\n",
    "\n",
    "(156100/7603810)*100"
   ]
  },
  {
   "cell_type": "code",
   "execution_count": 21,
   "id": "3a7f27c1",
   "metadata": {},
   "outputs": [
    {
     "data": {
      "text/plain": [
       "97.94708179189116"
      ]
     },
     "execution_count": 21,
     "metadata": {},
     "output_type": "execute_result"
    }
   ],
   "source": [
    "# Low Spender (Midwest)\n",
    "\n",
    "(7447710/7603810)*100"
   ]
  },
  {
   "cell_type": "code",
   "execution_count": 22,
   "id": "a848d4e4",
   "metadata": {},
   "outputs": [
    {
     "data": {
      "text/plain": [
       "5728347"
      ]
     },
     "execution_count": 22,
     "metadata": {},
     "output_type": "execute_result"
    }
   ],
   "source": [
    "# Northeast\n",
    "\n",
    "108336+5620011"
   ]
  },
  {
   "cell_type": "code",
   "execution_count": 23,
   "id": "5619f267",
   "metadata": {},
   "outputs": [
    {
     "data": {
      "text/plain": [
       "1.891226212378545"
      ]
     },
     "execution_count": 23,
     "metadata": {},
     "output_type": "execute_result"
    }
   ],
   "source": [
    "# High Spender\n",
    "(108336/5728347)*100"
   ]
  },
  {
   "cell_type": "code",
   "execution_count": 24,
   "id": "17e7a37d",
   "metadata": {},
   "outputs": [
    {
     "data": {
      "text/plain": [
       "98.10877378762144"
      ]
     },
     "execution_count": 24,
     "metadata": {},
     "output_type": "execute_result"
    }
   ],
   "source": [
    "# Low Spender\n",
    "(5620011/5728347)*100"
   ]
  },
  {
   "cell_type": "code",
   "execution_count": 25,
   "id": "ae1d70d5",
   "metadata": {},
   "outputs": [
    {
     "data": {
      "text/plain": [
       "10801610"
      ]
     },
     "execution_count": 25,
     "metadata": {},
     "output_type": "execute_result"
    }
   ],
   "source": [
    "# South\n",
    "\n",
    "210128+10591482"
   ]
  },
  {
   "cell_type": "code",
   "execution_count": 26,
   "id": "50618bcf",
   "metadata": {},
   "outputs": [
    {
     "data": {
      "text/plain": [
       "1.945339629925539"
      ]
     },
     "execution_count": 26,
     "metadata": {},
     "output_type": "execute_result"
    }
   ],
   "source": [
    "# High Spender\n",
    "(210128/10801610)*100"
   ]
  },
  {
   "cell_type": "code",
   "execution_count": 27,
   "id": "cb2bb595",
   "metadata": {},
   "outputs": [
    {
     "data": {
      "text/plain": [
       "98.05466037007446"
      ]
     },
     "execution_count": 27,
     "metadata": {},
     "output_type": "execute_result"
    }
   ],
   "source": [
    "# Low Spender\n",
    "(10591482/10801610)*100"
   ]
  },
  {
   "cell_type": "code",
   "execution_count": 28,
   "id": "8dcc2b77",
   "metadata": {},
   "outputs": [
    {
     "data": {
      "text/plain": [
       "8300445"
      ]
     },
     "execution_count": 28,
     "metadata": {},
     "output_type": "execute_result"
    }
   ],
   "source": [
    "# West\n",
    "\n",
    "160769+8139676"
   ]
  },
  {
   "cell_type": "code",
   "execution_count": 29,
   "id": "08c5ef06",
   "metadata": {},
   "outputs": [
    {
     "data": {
      "text/plain": [
       "1.9368720592691113"
      ]
     },
     "execution_count": 29,
     "metadata": {},
     "output_type": "execute_result"
    }
   ],
   "source": [
    "# High Spender\n",
    "(160769/8300445)*100"
   ]
  },
  {
   "cell_type": "code",
   "execution_count": 30,
   "id": "c34c25d9",
   "metadata": {},
   "outputs": [
    {
     "data": {
      "text/plain": [
       "98.0631279407309"
      ]
     },
     "execution_count": 30,
     "metadata": {},
     "output_type": "execute_result"
    }
   ],
   "source": [
    "# Low Spender\n",
    "(8139676/8300445)*100"
   ]
  },
  {
   "cell_type": "markdown",
   "id": "94151f6e",
   "metadata": {},
   "source": [
    "From the above results we can see that in all four regions there is a higher percentage of 'Low Spenders' than 'High Spenders'. There is no significant difference between the regions in either category."
   ]
  },
  {
   "cell_type": "markdown",
   "id": "735b78e7",
   "metadata": {},
   "source": [
    "### 4. CFO is not interested in customers who do not generate much revenue for the app. \n",
    "### Create an exclusion flag fo low_activity customers, < than 5 orders and exclude from data.\n",
    "### Export the sample"
   ]
  },
  {
   "cell_type": "code",
   "execution_count": 31,
   "id": "2e395b98",
   "metadata": {
    "scrolled": true
   },
   "outputs": [
    {
     "data": {
      "text/plain": [
       "0                Regular customer\n",
       "1                Regular customer\n",
       "2                Regular customer\n",
       "3                Regular customer\n",
       "4                Regular customer\n",
       "                    ...          \n",
       "32434207        Frequent Customer\n",
       "32434208    Non-frequent customer\n",
       "32434209    Non-frequent customer\n",
       "32434210    Non-frequent customer\n",
       "32434211    Non-frequent customer\n",
       "Name: frequency_flag, Length: 32434212, dtype: object"
      ]
     },
     "execution_count": 31,
     "metadata": {},
     "output_type": "execute_result"
    }
   ],
   "source": [
    "df['frequency_flag']"
   ]
  },
  {
   "cell_type": "code",
   "execution_count": 32,
   "id": "a70b6e10",
   "metadata": {},
   "outputs": [
    {
     "data": {
      "text/plain": [
       "0           10\n",
       "1           10\n",
       "2           10\n",
       "3           10\n",
       "4           10\n",
       "            ..\n",
       "32434207    26\n",
       "32434208     4\n",
       "32434209     4\n",
       "32434210     4\n",
       "32434211     4\n",
       "Name: max_order, Length: 32434212, dtype: int16"
      ]
     },
     "execution_count": 32,
     "metadata": {},
     "output_type": "execute_result"
    }
   ],
   "source": [
    "df['max_order']"
   ]
  },
  {
   "cell_type": "code",
   "execution_count": 33,
   "id": "9e43fe61",
   "metadata": {},
   "outputs": [],
   "source": [
    "# Create low-activity flag using the loc function\n",
    "\n",
    "df.loc[df['max_order'] < 5, 'Exclusion_Flag'] = 'Low Activity Customers'"
   ]
  },
  {
   "cell_type": "code",
   "execution_count": 34,
   "id": "e1d85002",
   "metadata": {},
   "outputs": [],
   "source": [
    "# Create an exclusion flag for the rest of the customers\n",
    "\n",
    "df.loc[df['max_order'] >= 5, 'Exclusion_Flag'] = 'Higher Activity Customers'"
   ]
  },
  {
   "cell_type": "code",
   "execution_count": 35,
   "id": "9f5a0ac4",
   "metadata": {},
   "outputs": [
    {
     "data": {
      "text/plain": [
       "Higher Activity Customers    30992664\n",
       "Low Activity Customers        1441548\n",
       "Name: Exclusion_Flag, dtype: int64"
      ]
     },
     "execution_count": 35,
     "metadata": {},
     "output_type": "execute_result"
    }
   ],
   "source": [
    "# Check if the exclusion has worked\n",
    "\n",
    "df['Exclusion_Flag'].value_counts(dropna = False)"
   ]
  },
  {
   "cell_type": "code",
   "execution_count": 36,
   "id": "b49185f3",
   "metadata": {},
   "outputs": [],
   "source": [
    "# Create a subset for low activity customers only\n",
    "\n",
    "low_act_custs = df[df['Exclusion_Flag'] == 'Low Activity Customers']"
   ]
  },
  {
   "cell_type": "code",
   "execution_count": 37,
   "id": "e1ffafa2",
   "metadata": {},
   "outputs": [
    {
     "data": {
      "text/plain": [
       "4    754260\n",
       "3    687288\n",
       "Name: max_order, dtype: int64"
      ]
     },
     "execution_count": 37,
     "metadata": {},
     "output_type": "execute_result"
    }
   ],
   "source": [
    "# Values in Max order should be less than 5\n",
    "\n",
    "low_act_custs['max_order'].value_counts()"
   ]
  },
  {
   "cell_type": "code",
   "execution_count": 38,
   "id": "3ddfe532",
   "metadata": {},
   "outputs": [],
   "source": [
    "# Export the sample to pickle\n",
    "\n",
    "low_act_custs.to_pickle(os.path.join(path, '02 Data', 'Prepared Data', 'Low Activity Customers.pkl'))"
   ]
  },
  {
   "cell_type": "markdown",
   "id": "b0aded9c",
   "metadata": {},
   "source": [
    "### 5. Create a profiling variable based on age, income, certain goods in the 'department_id' column and number of dependants. \n",
    "### May use 'orders_day_of_the_week' and 'order_hour_of_day' columns. \n",
    "### What characteristics would lead you to profile \"Single adult\" or \"Young parent\"\n",
    "\n",
    "\n",
    "### 6. Create an appropriate visualization to show the distribution of profiles"
   ]
  },
  {
   "cell_type": "markdown",
   "id": "3607c860",
   "metadata": {},
   "source": [
    "#### AGE"
   ]
  },
  {
   "cell_type": "code",
   "execution_count": 39,
   "id": "3f7efa6a",
   "metadata": {},
   "outputs": [
    {
     "data": {
      "text/plain": [
       "0           31\n",
       "1           31\n",
       "2           31\n",
       "3           31\n",
       "4           31\n",
       "            ..\n",
       "32434207    25\n",
       "32434208    22\n",
       "32434209    22\n",
       "32434210    22\n",
       "32434211    22\n",
       "Name: Age, Length: 32434212, dtype: int64"
      ]
     },
     "execution_count": 39,
     "metadata": {},
     "output_type": "execute_result"
    }
   ],
   "source": [
    "# Look at 'age' column\n",
    "\n",
    "df['Age']"
   ]
  },
  {
   "cell_type": "code",
   "execution_count": 40,
   "id": "4f0cf0b6",
   "metadata": {},
   "outputs": [
    {
     "data": {
      "text/plain": [
       "18    500872\n",
       "19    520183\n",
       "20    503309\n",
       "21    512977\n",
       "22    514409\n",
       "       ...  \n",
       "77    502641\n",
       "78    495703\n",
       "79    530298\n",
       "80    515657\n",
       "81    509727\n",
       "Name: Age, Length: 64, dtype: int64"
      ]
     },
     "execution_count": 40,
     "metadata": {},
     "output_type": "execute_result"
    }
   ],
   "source": [
    "df['Age'].value_counts().sort_index()"
   ]
  },
  {
   "cell_type": "markdown",
   "id": "5eec5c9f",
   "metadata": {},
   "source": [
    "Due to the range of ages it would be beneficial to create age groups. \n",
    "\n",
    "18-20\n",
    "21-30\n",
    "31-40\n",
    "41-50\n",
    "51-60\n",
    "61-70\n",
    "71-80\n",
    "81+"
   ]
  },
  {
   "cell_type": "code",
   "execution_count": 41,
   "id": "1a21f9ac",
   "metadata": {},
   "outputs": [],
   "source": [
    "# Create a column for age brackets\n",
    "\n",
    "age_bracket = []\n",
    "\n",
    "for value in df['Age']:\n",
    "    if value <=20:\n",
    "        age_bracket.append('18-20')\n",
    "    elif (value > 20) and (value <= 30):\n",
    "        age_bracket.append('21-30')\n",
    "    elif (value > 30) and (value <= 40):\n",
    "        age_bracket.append('31-40')\n",
    "    elif (value > 40) and (value <= 50):\n",
    "        age_bracket.append('41-50')\n",
    "    elif (value > 50) and (value <= 60):\n",
    "        age_bracket.append('51-60')\n",
    "    elif (value > 60) and (value <= 70):\n",
    "        age_bracket.append('61-70')\n",
    "    elif (value > 70) and (value <= 80):\n",
    "        age_bracket.append('71-80')\n",
    "    elif (value > 80) and (value <= 90):\n",
    "        age_bracket.append('80+')    \n",
    "    else:\n",
    "        result.append('No Age Group')"
   ]
  },
  {
   "cell_type": "code",
   "execution_count": 42,
   "id": "87008d2d",
   "metadata": {},
   "outputs": [],
   "source": [
    "# Check if the loop has worked\n",
    "\n",
    "df['age_bracket'] = age_bracket"
   ]
  },
  {
   "cell_type": "code",
   "execution_count": 43,
   "id": "0148b9ca",
   "metadata": {},
   "outputs": [
    {
     "data": {
      "text/plain": [
       "18-20    1524364\n",
       "21-30    5081136\n",
       "31-40    5075016\n",
       "41-50    5096563\n",
       "51-60    5064860\n",
       "61-70    5009316\n",
       "71-80    5073230\n",
       "80+       509727\n",
       "Name: age_bracket, dtype: int64"
      ]
     },
     "execution_count": 43,
     "metadata": {},
     "output_type": "execute_result"
    }
   ],
   "source": [
    "df['age_bracket'].value_counts().sort_index()"
   ]
  },
  {
   "cell_type": "code",
   "execution_count": 44,
   "id": "999032d0",
   "metadata": {},
   "outputs": [
    {
     "data": {
      "image/png": "[encoded data removed]",
      "text/plain": [
       "<Figure size 432x288 with 1 Axes>"
      ]
     },
     "metadata": {
      "needs_background": "light"
     },
     "output_type": "display_data"
    }
   ],
   "source": [
    "# Create a bar chart for age_bracket column\n",
    "\n",
    "bar_age_bracket = df['age_bracket'].value_counts().sort_index().plot.bar(color = sns.color_palette('BuGn', 8))"
   ]
  },
  {
   "cell_type": "code",
   "execution_count": 45,
   "id": "6a39375b",
   "metadata": {},
   "outputs": [],
   "source": [
    "# Export chart\n",
    "\n",
    "bar_age_bracket.figure.savefig(os.path.join(path, '04 Analysis', 'Visualizations', 'bar_age_brackets.png'))"
   ]
  },
  {
   "cell_type": "markdown",
   "id": "cff9bb77",
   "metadata": {},
   "source": [
    "#### INCOME"
   ]
  },
  {
   "cell_type": "code",
   "execution_count": 46,
   "id": "c6fc8407",
   "metadata": {
    "scrolled": true
   },
   "outputs": [
    {
     "data": {
      "text/plain": [
       "0           40423\n",
       "1           40423\n",
       "2           40423\n",
       "3           40423\n",
       "4           40423\n",
       "            ...  \n",
       "32434207    53755\n",
       "32434208    46151\n",
       "32434209    46151\n",
       "32434210    46151\n",
       "32434211    46151\n",
       "Name: Income, Length: 32434212, dtype: int64"
      ]
     },
     "execution_count": 46,
     "metadata": {},
     "output_type": "execute_result"
    }
   ],
   "source": [
    "# Look at the Income column\n",
    "\n",
    "df['Income']"
   ]
  },
  {
   "cell_type": "code",
   "execution_count": 47,
   "id": "98fb6bdc",
   "metadata": {
    "scrolled": true
   },
   "outputs": [
    {
     "data": {
      "text/plain": [
       "25903      20\n",
       "25911      28\n",
       "25937      39\n",
       "25941      31\n",
       "25955     392\n",
       "         ... \n",
       "584097    826\n",
       "590790     54\n",
       "591089    176\n",
       "592409    318\n",
       "593901    640\n",
       "Name: Income, Length: 108012, dtype: int64"
      ]
     },
     "execution_count": 47,
     "metadata": {},
     "output_type": "execute_result"
    }
   ],
   "source": [
    "df['Income'].value_counts().sort_index()"
   ]
  },
  {
   "cell_type": "code",
   "execution_count": 48,
   "id": "06c81a7d",
   "metadata": {},
   "outputs": [
    {
     "data": {
      "text/plain": [
       "<AxesSubplot:xlabel='Income', ylabel='Income'>"
      ]
     },
     "execution_count": 48,
     "metadata": {},
     "output_type": "execute_result"
    },
    {
     "data": {
      "image/png": "[encoded data removed]",
      "text/plain": [
       "<Figure size 432x288 with 1 Axes>"
      ]
     },
     "metadata": {
      "needs_background": "light"
     },
     "output_type": "display_data"
    }
   ],
   "source": [
    "# Create scatterplot by plotting the 'Income' column against itself\n",
    "\n",
    "sns.scatterplot(x = 'Income', y = 'Income', data = df)"
   ]
  },
  {
   "cell_type": "markdown",
   "id": "77a724f3",
   "metadata": {},
   "source": [
    "Although there is positive correlation when the column is plotted against itself but I need to plot a histogram chart to look in to the Income column deeper."
   ]
  },
  {
   "cell_type": "code",
   "execution_count": 49,
   "id": "cb71d45d",
   "metadata": {},
   "outputs": [
    {
     "data": {
      "text/plain": [
       "<AxesSubplot:ylabel='Frequency'>"
      ]
     },
     "execution_count": 49,
     "metadata": {},
     "output_type": "execute_result"
    },
    {
     "data": {
      "image/png": "[encoded data removed]",
      "text/plain": [
       "<Figure size 432x288 with 1 Axes>"
      ]
     },
     "metadata": {
      "needs_background": "light"
     },
     "output_type": "display_data"
    }
   ],
   "source": [
    "# Create a Histogram.\n",
    "\n",
    "df['Income'].plot.hist(bins = 25)"
   ]
  },
  {
   "cell_type": "code",
   "execution_count": 50,
   "id": "3a556ceb",
   "metadata": {},
   "outputs": [],
   "source": [
    "# Income needs to be filtered in to brackets\n",
    "\n",
    "\n",
    "df.loc[df['Income'] < 100000, 'Income_Range'] = '0 - 100k'\n",
    "df.loc[(df['Income'] >= 100000) & (df['Income'] < 200000), 'Income_Range'] = '100-200k'\n",
    "df.loc[(df['Income'] >= 200000) & (df['Income'] < 300000), 'Income_Range'] = '200-300k'\n",
    "df.loc[(df['Income'] >= 300000) & (df['Income'] < 400000), 'Income_Range'] = '300-400k'\n",
    "df.loc[(df['Income'] >= 400000) & (df['Income'] < 500000), 'Income_Range'] = '400-500k'\n",
    "df.loc[df['Income'] >= 500000, 'Income_Range'] = 'Over 500k'"
   ]
  },
  {
   "cell_type": "code",
   "execution_count": 51,
   "id": "c0329100",
   "metadata": {},
   "outputs": [
    {
     "data": {
      "text/plain": [
       "0 - 100k     17606875\n",
       "100-200k     14568745\n",
       "200-300k       156927\n",
       "300-400k        53971\n",
       "400-500k        28339\n",
       "Over 500k       19355\n",
       "Name: Income_Range, dtype: int64"
      ]
     },
     "execution_count": 51,
     "metadata": {},
     "output_type": "execute_result"
    }
   ],
   "source": [
    "#Check the \"Income_Range\" column\n",
    "\n",
    "df['Income_Range'].value_counts().sort_index()"
   ]
  },
  {
   "cell_type": "code",
   "execution_count": 52,
   "id": "3eac46f2",
   "metadata": {},
   "outputs": [
    {
     "data": {
      "image/png": "[encoded data removed]",
      "text/plain": [
       "<Figure size 432x288 with 1 Axes>"
      ]
     },
     "metadata": {
      "needs_background": "light"
     },
     "output_type": "display_data"
    }
   ],
   "source": [
    "# Create bar chart for Income ranges\n",
    "\n",
    "bar_income_range = df['Income_Range'].value_counts().sort_index().plot.bar(color = sns.color_palette('OrRd', 6))"
   ]
  },
  {
   "cell_type": "code",
   "execution_count": 53,
   "id": "d76f0ad8",
   "metadata": {},
   "outputs": [],
   "source": [
    "# Export the bar chart\n",
    "\n",
    "bar_income_range.figure.savefig(os.path.join(path, '04 Analysis', 'Visualizations', 'bar_income_range.png'))"
   ]
  },
  {
   "cell_type": "code",
   "execution_count": 54,
   "id": "1116c39b",
   "metadata": {},
   "outputs": [],
   "source": [
    "# Age bracket and Income\n",
    "\n",
    "crosstab_age_income = pd.crosstab(df['age_bracket'], df['Income_Range'], dropna = False)"
   ]
  },
  {
   "cell_type": "code",
   "execution_count": 55,
   "id": "66953123",
   "metadata": {},
   "outputs": [
    {
     "data": {
      "text/html": [
       "<div>\n",
       "<style scoped>\n",
       "    .dataframe tbody tr th:only-of-type {\n",
       "        vertical-align: middle;\n",
       "    }\n",
       "\n",
       "    .dataframe tbody tr th {\n",
       "        vertical-align: top;\n",
       "    }\n",
       "\n",
       "    .dataframe thead th {\n",
       "        text-align: right;\n",
       "    }\n",
       "</style>\n",
       "<table border=\"1\" class=\"dataframe\">\n",
       "  <thead>\n",
       "    <tr style=\"text-align: right;\">\n",
       "      <th>Income_Range</th>\n",
       "      <th>0 - 100k</th>\n",
       "      <th>100-200k</th>\n",
       "      <th>200-300k</th>\n",
       "      <th>300-400k</th>\n",
       "      <th>400-500k</th>\n",
       "      <th>Over 500k</th>\n",
       "    </tr>\n",
       "    <tr>\n",
       "      <th>age_bracket</th>\n",
       "      <th></th>\n",
       "      <th></th>\n",
       "      <th></th>\n",
       "      <th></th>\n",
       "      <th></th>\n",
       "      <th></th>\n",
       "    </tr>\n",
       "  </thead>\n",
       "  <tbody>\n",
       "    <tr>\n",
       "      <th>18-20</th>\n",
       "      <td>1475394</td>\n",
       "      <td>44889</td>\n",
       "      <td>1832</td>\n",
       "      <td>2249</td>\n",
       "      <td>0</td>\n",
       "      <td>0</td>\n",
       "    </tr>\n",
       "    <tr>\n",
       "      <th>21-30</th>\n",
       "      <td>4925943</td>\n",
       "      <td>137895</td>\n",
       "      <td>6780</td>\n",
       "      <td>10518</td>\n",
       "      <td>0</td>\n",
       "      <td>0</td>\n",
       "    </tr>\n",
       "    <tr>\n",
       "      <th>31-40</th>\n",
       "      <td>4906036</td>\n",
       "      <td>148260</td>\n",
       "      <td>10474</td>\n",
       "      <td>10246</td>\n",
       "      <td>0</td>\n",
       "      <td>0</td>\n",
       "    </tr>\n",
       "    <tr>\n",
       "      <th>41-50</th>\n",
       "      <td>1533402</td>\n",
       "      <td>3499864</td>\n",
       "      <td>40740</td>\n",
       "      <td>6470</td>\n",
       "      <td>9702</td>\n",
       "      <td>6385</td>\n",
       "    </tr>\n",
       "    <tr>\n",
       "      <th>51-60</th>\n",
       "      <td>1564290</td>\n",
       "      <td>3454194</td>\n",
       "      <td>26758</td>\n",
       "      <td>11636</td>\n",
       "      <td>4541</td>\n",
       "      <td>3441</td>\n",
       "    </tr>\n",
       "    <tr>\n",
       "      <th>61-70</th>\n",
       "      <td>1515119</td>\n",
       "      <td>3442375</td>\n",
       "      <td>34278</td>\n",
       "      <td>7461</td>\n",
       "      <td>7480</td>\n",
       "      <td>2603</td>\n",
       "    </tr>\n",
       "    <tr>\n",
       "      <th>71-80</th>\n",
       "      <td>1524153</td>\n",
       "      <td>3499062</td>\n",
       "      <td>33401</td>\n",
       "      <td>5391</td>\n",
       "      <td>5501</td>\n",
       "      <td>5722</td>\n",
       "    </tr>\n",
       "    <tr>\n",
       "      <th>80+</th>\n",
       "      <td>162538</td>\n",
       "      <td>342206</td>\n",
       "      <td>2664</td>\n",
       "      <td>0</td>\n",
       "      <td>1115</td>\n",
       "      <td>1204</td>\n",
       "    </tr>\n",
       "  </tbody>\n",
       "</table>\n",
       "</div>"
      ],
      "text/plain": [
       "Income_Range  0 - 100k  100-200k  200-300k  300-400k  400-500k  Over 500k\n",
       "age_bracket                                                              \n",
       "18-20          1475394     44889      1832      2249         0          0\n",
       "21-30          4925943    137895      6780     10518         0          0\n",
       "31-40          4906036    148260     10474     10246         0          0\n",
       "41-50          1533402   3499864     40740      6470      9702       6385\n",
       "51-60          1564290   3454194     26758     11636      4541       3441\n",
       "61-70          1515119   3442375     34278      7461      7480       2603\n",
       "71-80          1524153   3499062     33401      5391      5501       5722\n",
       "80+             162538    342206      2664         0      1115       1204"
      ]
     },
     "execution_count": 55,
     "metadata": {},
     "output_type": "execute_result"
    }
   ],
   "source": [
    "crosstab_age_income"
   ]
  },
  {
   "cell_type": "code",
   "execution_count": 56,
   "id": "c0fb47af",
   "metadata": {},
   "outputs": [
    {
     "data": {
      "text/plain": [
       "<matplotlib.legend.Legend at 0x228967d10d0>"
      ]
     },
     "execution_count": 56,
     "metadata": {},
     "output_type": "execute_result"
    },
    {
     "data": {
      "image/png": "[encoded data removed]",
      "text/plain": [
       "<Figure size 432x288 with 1 Axes>"
      ]
     },
     "metadata": {
      "needs_background": "light"
     },
     "output_type": "display_data"
    }
   ],
   "source": [
    "# Create Stacked bar for Income Range and Age Bracket\n",
    "\n",
    "bar_age_income = crosstab_age_income.plot.bar(stacked = True, color = ['red', 'yellow', 'orange', 'green', 'blue', 'pink', 'purple', 'brown'])\n",
    "plt.legend(title = 'Income_Range')"
   ]
  },
  {
   "cell_type": "code",
   "execution_count": 57,
   "id": "24d382a8",
   "metadata": {},
   "outputs": [],
   "source": [
    "# Export stacked bar chart for Age bracket and Income range\n",
    "\n",
    "bar_age_income.figure.savefig(os.path.join(path, '04 Analysis', 'Visualizations', 'stacked_agebracket_incomerange.png'))"
   ]
  },
  {
   "cell_type": "markdown",
   "id": "fbd8929d",
   "metadata": {},
   "source": [
    "#### FAMILY STATUS"
   ]
  },
  {
   "cell_type": "code",
   "execution_count": 58,
   "id": "70f9aba6",
   "metadata": {},
   "outputs": [
    {
     "data": {
      "text/plain": [
       "married                             22776913\n",
       "single                               5330769\n",
       "divorced/widowed                     2774428\n",
       "living with parents and siblings     1552102\n",
       "Name: Family_status, dtype: int64"
      ]
     },
     "execution_count": 58,
     "metadata": {},
     "output_type": "execute_result"
    }
   ],
   "source": [
    "#Look at Family Status\n",
    "\n",
    "df['Family_status'].value_counts()"
   ]
  },
  {
   "cell_type": "code",
   "execution_count": 59,
   "id": "17887278",
   "metadata": {},
   "outputs": [],
   "source": [
    "# Income Range and Family Status\n",
    "\n",
    "crosstab_income_status = pd.crosstab(df['Income_Range'], df['Family_status'], dropna = False)"
   ]
  },
  {
   "cell_type": "code",
   "execution_count": 60,
   "id": "58b13a51",
   "metadata": {},
   "outputs": [
    {
     "data": {
      "text/html": [
       "<div>\n",
       "<style scoped>\n",
       "    .dataframe tbody tr th:only-of-type {\n",
       "        vertical-align: middle;\n",
       "    }\n",
       "\n",
       "    .dataframe tbody tr th {\n",
       "        vertical-align: top;\n",
       "    }\n",
       "\n",
       "    .dataframe thead th {\n",
       "        text-align: right;\n",
       "    }\n",
       "</style>\n",
       "<table border=\"1\" class=\"dataframe\">\n",
       "  <thead>\n",
       "    <tr style=\"text-align: right;\">\n",
       "      <th>Family_status</th>\n",
       "      <th>divorced/widowed</th>\n",
       "      <th>living with parents and siblings</th>\n",
       "      <th>married</th>\n",
       "      <th>single</th>\n",
       "    </tr>\n",
       "    <tr>\n",
       "      <th>Income_Range</th>\n",
       "      <th></th>\n",
       "      <th></th>\n",
       "      <th></th>\n",
       "      <th></th>\n",
       "    </tr>\n",
       "  </thead>\n",
       "  <tbody>\n",
       "    <tr>\n",
       "      <th>0 - 100k</th>\n",
       "      <td>844737</td>\n",
       "      <td>1503078</td>\n",
       "      <td>11722077</td>\n",
       "      <td>3536983</td>\n",
       "    </tr>\n",
       "    <tr>\n",
       "      <th>100-200k</th>\n",
       "      <td>1904921</td>\n",
       "      <td>44849</td>\n",
       "      <td>10866000</td>\n",
       "      <td>1752975</td>\n",
       "    </tr>\n",
       "    <tr>\n",
       "      <th>200-300k</th>\n",
       "      <td>17188</td>\n",
       "      <td>2080</td>\n",
       "      <td>116747</td>\n",
       "      <td>20912</td>\n",
       "    </tr>\n",
       "    <tr>\n",
       "      <th>300-400k</th>\n",
       "      <td>2038</td>\n",
       "      <td>2095</td>\n",
       "      <td>36879</td>\n",
       "      <td>12959</td>\n",
       "    </tr>\n",
       "    <tr>\n",
       "      <th>400-500k</th>\n",
       "      <td>4229</td>\n",
       "      <td>0</td>\n",
       "      <td>20334</td>\n",
       "      <td>3776</td>\n",
       "    </tr>\n",
       "    <tr>\n",
       "      <th>Over 500k</th>\n",
       "      <td>1315</td>\n",
       "      <td>0</td>\n",
       "      <td>14876</td>\n",
       "      <td>3164</td>\n",
       "    </tr>\n",
       "  </tbody>\n",
       "</table>\n",
       "</div>"
      ],
      "text/plain": [
       "Family_status  divorced/widowed  living with parents and siblings   married  \\\n",
       "Income_Range                                                                  \n",
       "0 - 100k                 844737                           1503078  11722077   \n",
       "100-200k                1904921                             44849  10866000   \n",
       "200-300k                  17188                              2080    116747   \n",
       "300-400k                   2038                              2095     36879   \n",
       "400-500k                   4229                                 0     20334   \n",
       "Over 500k                  1315                                 0     14876   \n",
       "\n",
       "Family_status   single  \n",
       "Income_Range            \n",
       "0 - 100k       3536983  \n",
       "100-200k       1752975  \n",
       "200-300k         20912  \n",
       "300-400k         12959  \n",
       "400-500k          3776  \n",
       "Over 500k         3164  "
      ]
     },
     "execution_count": 60,
     "metadata": {},
     "output_type": "execute_result"
    }
   ],
   "source": [
    "crosstab_income_status"
   ]
  },
  {
   "cell_type": "code",
   "execution_count": 61,
   "id": "7b35459f",
   "metadata": {},
   "outputs": [
    {
     "data": {
      "text/plain": [
       "<matplotlib.legend.Legend at 0x22680a381c0>"
      ]
     },
     "execution_count": 61,
     "metadata": {},
     "output_type": "execute_result"
    },
    {
     "data": {
      "image/png": "[encoded data removed]",
      "text/plain": [
       "<Figure size 432x288 with 1 Axes>"
      ]
     },
     "metadata": {
      "needs_background": "light"
     },
     "output_type": "display_data"
    }
   ],
   "source": [
    "# Create stacked bar for income range and family status\n",
    "\n",
    "bar_familystatus_income = crosstab_income_status.plot.bar(stacked = True, color = ['blue', 'orange', 'green', 'red'])\n",
    "plt.legend(title = 'Family_status')"
   ]
  },
  {
   "cell_type": "code",
   "execution_count": 62,
   "id": "14fba6db",
   "metadata": {},
   "outputs": [],
   "source": [
    "# Export the stacked bar chart \n",
    "\n",
    "bar_familystatus_income.figure.savefig(os.path.join(path, '04 Analysis', 'Visualizations', 'bar_familystatus_income.png'))"
   ]
  },
  {
   "cell_type": "code",
   "execution_count": 63,
   "id": "8fb49135",
   "metadata": {},
   "outputs": [],
   "source": [
    "# Look at which Family status has the highest and lowest spenders\n",
    "\n",
    "crosstab_fam_status = pd.crosstab(df['Family_status'], df['spending_flag'], dropna = False)"
   ]
  },
  {
   "cell_type": "code",
   "execution_count": 64,
   "id": "300b9645",
   "metadata": {},
   "outputs": [
    {
     "data": {
      "text/html": [
       "<div>\n",
       "<style scoped>\n",
       "    .dataframe tbody tr th:only-of-type {\n",
       "        vertical-align: middle;\n",
       "    }\n",
       "\n",
       "    .dataframe tbody tr th {\n",
       "        vertical-align: top;\n",
       "    }\n",
       "\n",
       "    .dataframe thead th {\n",
       "        text-align: right;\n",
       "    }\n",
       "</style>\n",
       "<table border=\"1\" class=\"dataframe\">\n",
       "  <thead>\n",
       "    <tr style=\"text-align: right;\">\n",
       "      <th>spending_flag</th>\n",
       "      <th>High Spender</th>\n",
       "      <th>Low Spender</th>\n",
       "    </tr>\n",
       "    <tr>\n",
       "      <th>Family_status</th>\n",
       "      <th></th>\n",
       "      <th></th>\n",
       "    </tr>\n",
       "  </thead>\n",
       "  <tbody>\n",
       "    <tr>\n",
       "      <th>divorced/widowed</th>\n",
       "      <td>52760</td>\n",
       "      <td>2721668</td>\n",
       "    </tr>\n",
       "    <tr>\n",
       "      <th>living with parents and siblings</th>\n",
       "      <td>29433</td>\n",
       "      <td>1522669</td>\n",
       "    </tr>\n",
       "    <tr>\n",
       "      <th>married</th>\n",
       "      <td>451924</td>\n",
       "      <td>22324989</td>\n",
       "    </tr>\n",
       "    <tr>\n",
       "      <th>single</th>\n",
       "      <td>101216</td>\n",
       "      <td>5229553</td>\n",
       "    </tr>\n",
       "  </tbody>\n",
       "</table>\n",
       "</div>"
      ],
      "text/plain": [
       "spending_flag                     High Spender  Low Spender\n",
       "Family_status                                              \n",
       "divorced/widowed                         52760      2721668\n",
       "living with parents and siblings         29433      1522669\n",
       "married                                 451924     22324989\n",
       "single                                  101216      5229553"
      ]
     },
     "execution_count": 64,
     "metadata": {},
     "output_type": "execute_result"
    }
   ],
   "source": [
    "crosstab_fam_status"
   ]
  },
  {
   "cell_type": "code",
   "execution_count": 65,
   "id": "b221e96d",
   "metadata": {},
   "outputs": [
    {
     "data": {
      "text/plain": [
       "<matplotlib.legend.Legend at 0x22680af6310>"
      ]
     },
     "execution_count": 65,
     "metadata": {},
     "output_type": "execute_result"
    },
    {
     "data": {
      "image/png": "[encoded data removed]",
      "text/plain": [
       "<Figure size 432x288 with 1 Axes>"
      ]
     },
     "metadata": {
      "needs_background": "light"
     },
     "output_type": "display_data"
    }
   ],
   "source": [
    "# Create stacked bar chart for family status and spending flag\n",
    "\n",
    "bar_familystatus_spending = crosstab_fam_status.plot.bar(stacked = True, color = ['blue', 'orange'])\n",
    "plt.legend(title = 'spending_flag')"
   ]
  },
  {
   "cell_type": "code",
   "execution_count": 66,
   "id": "7a19d519",
   "metadata": {},
   "outputs": [],
   "source": [
    "# Export stacked bar for Family status and spending flag\n",
    "\n",
    "bar_familystatus_spending.figure.savefig(os.path.join(path, '04 Analysis', 'Visualizations', 'bar_familystatus_spending.png'))"
   ]
  },
  {
   "cell_type": "code",
   "execution_count": 67,
   "id": "8a1d7d5c",
   "metadata": {},
   "outputs": [],
   "source": [
    "# Age and spending flag\n",
    "\n",
    "crosstab_age_spending = pd.crosstab(df['age_bracket'], df['spending_flag'], dropna = False)"
   ]
  },
  {
   "cell_type": "code",
   "execution_count": 68,
   "id": "56b35872",
   "metadata": {},
   "outputs": [
    {
     "data": {
      "text/html": [
       "<div>\n",
       "<style scoped>\n",
       "    .dataframe tbody tr th:only-of-type {\n",
       "        vertical-align: middle;\n",
       "    }\n",
       "\n",
       "    .dataframe tbody tr th {\n",
       "        vertical-align: top;\n",
       "    }\n",
       "\n",
       "    .dataframe thead th {\n",
       "        text-align: right;\n",
       "    }\n",
       "</style>\n",
       "<table border=\"1\" class=\"dataframe\">\n",
       "  <thead>\n",
       "    <tr style=\"text-align: right;\">\n",
       "      <th>spending_flag</th>\n",
       "      <th>High Spender</th>\n",
       "      <th>Low Spender</th>\n",
       "    </tr>\n",
       "    <tr>\n",
       "      <th>age_bracket</th>\n",
       "      <th></th>\n",
       "      <th></th>\n",
       "    </tr>\n",
       "  </thead>\n",
       "  <tbody>\n",
       "    <tr>\n",
       "      <th>18-20</th>\n",
       "      <td>27386</td>\n",
       "      <td>1496978</td>\n",
       "    </tr>\n",
       "    <tr>\n",
       "      <th>21-30</th>\n",
       "      <td>94252</td>\n",
       "      <td>4986884</td>\n",
       "    </tr>\n",
       "    <tr>\n",
       "      <th>31-40</th>\n",
       "      <td>100273</td>\n",
       "      <td>4974743</td>\n",
       "    </tr>\n",
       "    <tr>\n",
       "      <th>41-50</th>\n",
       "      <td>110447</td>\n",
       "      <td>4986116</td>\n",
       "    </tr>\n",
       "    <tr>\n",
       "      <th>51-60</th>\n",
       "      <td>94219</td>\n",
       "      <td>4970641</td>\n",
       "    </tr>\n",
       "    <tr>\n",
       "      <th>61-70</th>\n",
       "      <td>103509</td>\n",
       "      <td>4905807</td>\n",
       "    </tr>\n",
       "    <tr>\n",
       "      <th>71-80</th>\n",
       "      <td>94314</td>\n",
       "      <td>4978916</td>\n",
       "    </tr>\n",
       "    <tr>\n",
       "      <th>80+</th>\n",
       "      <td>10933</td>\n",
       "      <td>498794</td>\n",
       "    </tr>\n",
       "  </tbody>\n",
       "</table>\n",
       "</div>"
      ],
      "text/plain": [
       "spending_flag  High Spender  Low Spender\n",
       "age_bracket                             \n",
       "18-20                 27386      1496978\n",
       "21-30                 94252      4986884\n",
       "31-40                100273      4974743\n",
       "41-50                110447      4986116\n",
       "51-60                 94219      4970641\n",
       "61-70                103509      4905807\n",
       "71-80                 94314      4978916\n",
       "80+                   10933       498794"
      ]
     },
     "execution_count": 68,
     "metadata": {},
     "output_type": "execute_result"
    }
   ],
   "source": [
    "crosstab_age_spending"
   ]
  },
  {
   "cell_type": "code",
   "execution_count": 69,
   "id": "2524d049",
   "metadata": {},
   "outputs": [
    {
     "data": {
      "text/plain": [
       "<matplotlib.legend.Legend at 0x22680a88550>"
      ]
     },
     "execution_count": 69,
     "metadata": {},
     "output_type": "execute_result"
    },
    {
     "data": {
      "image/png": "[encoded data removed]",
      "text/plain": [
       "<Figure size 432x288 with 1 Axes>"
      ]
     },
     "metadata": {
      "needs_background": "light"
     },
     "output_type": "display_data"
    }
   ],
   "source": [
    "# Create stacked bar chart for age bracket and spending flag\n",
    "\n",
    "bar_agebracket_spending = crosstab_age_spending.plot.bar(stacked = True, color = ['blue', 'orange', 'green', 'red', 'orange', 'brown', 'pink', 'purple'])\n",
    "plt.legend(title = 'spending_flag')"
   ]
  },
  {
   "cell_type": "code",
   "execution_count": 70,
   "id": "dc1ed01a",
   "metadata": {},
   "outputs": [],
   "source": [
    "# Export the stacked bar chart\n",
    "\n",
    "bar_agebracket_spending.figure.savefig(os.path.join(path, '04 Analysis', 'Visualizations', 'bar_agebracket_spending.png'))"
   ]
  },
  {
   "cell_type": "code",
   "execution_count": 72,
   "id": "42b6e617",
   "metadata": {},
   "outputs": [],
   "source": [
    "# Age and family Status\n",
    "\n",
    "crosstab_age_famstat = pd.crosstab(df['age_bracket'], df['Family_status'], dropna = False)"
   ]
  },
  {
   "cell_type": "code",
   "execution_count": 196,
   "id": "eef2892e",
   "metadata": {},
   "outputs": [
    {
     "data": {
      "text/html": [
       "<div>\n",
       "<style scoped>\n",
       "    .dataframe tbody tr th:only-of-type {\n",
       "        vertical-align: middle;\n",
       "    }\n",
       "\n",
       "    .dataframe tbody tr th {\n",
       "        vertical-align: top;\n",
       "    }\n",
       "\n",
       "    .dataframe thead th {\n",
       "        text-align: right;\n",
       "    }\n",
       "</style>\n",
       "<table border=\"1\" class=\"dataframe\">\n",
       "  <thead>\n",
       "    <tr style=\"text-align: right;\">\n",
       "      <th>Family_status</th>\n",
       "      <th>divorced/widowed</th>\n",
       "      <th>living with parents and siblings</th>\n",
       "      <th>married</th>\n",
       "      <th>single</th>\n",
       "    </tr>\n",
       "    <tr>\n",
       "      <th>age_bracket</th>\n",
       "      <th></th>\n",
       "      <th></th>\n",
       "      <th></th>\n",
       "      <th></th>\n",
       "    </tr>\n",
       "  </thead>\n",
       "  <tbody>\n",
       "    <tr>\n",
       "      <th>18-20</th>\n",
       "      <td>0</td>\n",
       "      <td>1162216</td>\n",
       "      <td>0</td>\n",
       "      <td>362148</td>\n",
       "    </tr>\n",
       "    <tr>\n",
       "      <th>21-30</th>\n",
       "      <td>0</td>\n",
       "      <td>389886</td>\n",
       "      <td>3407473</td>\n",
       "      <td>1283777</td>\n",
       "    </tr>\n",
       "    <tr>\n",
       "      <th>31-40</th>\n",
       "      <td>0</td>\n",
       "      <td>0</td>\n",
       "      <td>3811752</td>\n",
       "      <td>1263264</td>\n",
       "    </tr>\n",
       "    <tr>\n",
       "      <th>41-50</th>\n",
       "      <td>0</td>\n",
       "      <td>0</td>\n",
       "      <td>3842274</td>\n",
       "      <td>1254289</td>\n",
       "    </tr>\n",
       "    <tr>\n",
       "      <th>51-60</th>\n",
       "      <td>117283</td>\n",
       "      <td>0</td>\n",
       "      <td>3780286</td>\n",
       "      <td>1167291</td>\n",
       "    </tr>\n",
       "    <tr>\n",
       "      <th>61-70</th>\n",
       "      <td>1269014</td>\n",
       "      <td>0</td>\n",
       "      <td>3740302</td>\n",
       "      <td>0</td>\n",
       "    </tr>\n",
       "    <tr>\n",
       "      <th>71-80</th>\n",
       "      <td>1243332</td>\n",
       "      <td>0</td>\n",
       "      <td>3829898</td>\n",
       "      <td>0</td>\n",
       "    </tr>\n",
       "    <tr>\n",
       "      <th>80+</th>\n",
       "      <td>144799</td>\n",
       "      <td>0</td>\n",
       "      <td>364928</td>\n",
       "      <td>0</td>\n",
       "    </tr>\n",
       "  </tbody>\n",
       "</table>\n",
       "</div>"
      ],
      "text/plain": [
       "Family_status  divorced/widowed  living with parents and siblings  married  \\\n",
       "age_bracket                                                                  \n",
       "18-20                         0                           1162216        0   \n",
       "21-30                         0                            389886  3407473   \n",
       "31-40                         0                                 0  3811752   \n",
       "41-50                         0                                 0  3842274   \n",
       "51-60                    117283                                 0  3780286   \n",
       "61-70                   1269014                                 0  3740302   \n",
       "71-80                   1243332                                 0  3829898   \n",
       "80+                      144799                                 0   364928   \n",
       "\n",
       "Family_status   single  \n",
       "age_bracket             \n",
       "18-20           362148  \n",
       "21-30          1283777  \n",
       "31-40          1263264  \n",
       "41-50          1254289  \n",
       "51-60          1167291  \n",
       "61-70                0  \n",
       "71-80                0  \n",
       "80+                  0  "
      ]
     },
     "execution_count": 196,
     "metadata": {},
     "output_type": "execute_result"
    }
   ],
   "source": [
    "crosstab_age_famstat"
   ]
  },
  {
   "cell_type": "code",
   "execution_count": 199,
   "id": "dc7f64eb",
   "metadata": {},
   "outputs": [
    {
     "data": {
      "text/plain": [
       "<matplotlib.legend.Legend at 0x226a33cc250>"
      ]
     },
     "execution_count": 199,
     "metadata": {},
     "output_type": "execute_result"
    },
    {
     "data": {
      "image/png": "[encoded data removed]",
      "text/plain": [
       "<Figure size 432x288 with 1 Axes>"
      ]
     },
     "metadata": {
      "needs_background": "light"
     },
     "output_type": "display_data"
    }
   ],
   "source": [
    "# Stacked bar for age and family status\n",
    "\n",
    "bar_age_famstat = crosstab_age_famstat.plot.bar(stacked = True, color = ['blue', 'orange', 'green', 'red', 'orange', 'brown', 'pink', 'purple'])\n",
    "plt.legend(title = 'Family status')"
   ]
  },
  {
   "cell_type": "code",
   "execution_count": 200,
   "id": "ab3788e1",
   "metadata": {},
   "outputs": [],
   "source": [
    "#  Export the stacked bar chart\n",
    "\n",
    "bar_age_famstat.figure.savefig(os.path.join(path, '04 Analysis', 'Visualizations', 'bar_age_famstat.png'))"
   ]
  },
  {
   "cell_type": "code",
   "execution_count": 204,
   "id": "5d21dca7",
   "metadata": {},
   "outputs": [],
   "source": [
    "# age and department\n",
    "\n",
    "crosstab_age_dept = pd.crosstab(df['department'], df['age_bracket'], dropna = False)"
   ]
  },
  {
   "cell_type": "code",
   "execution_count": 205,
   "id": "8a3b63f1",
   "metadata": {},
   "outputs": [
    {
     "data": {
      "text/html": [
       "<div>\n",
       "<style scoped>\n",
       "    .dataframe tbody tr th:only-of-type {\n",
       "        vertical-align: middle;\n",
       "    }\n",
       "\n",
       "    .dataframe tbody tr th {\n",
       "        vertical-align: top;\n",
       "    }\n",
       "\n",
       "    .dataframe thead th {\n",
       "        text-align: right;\n",
       "    }\n",
       "</style>\n",
       "<table border=\"1\" class=\"dataframe\">\n",
       "  <thead>\n",
       "    <tr style=\"text-align: right;\">\n",
       "      <th>age_bracket</th>\n",
       "      <th>18-20</th>\n",
       "      <th>21-30</th>\n",
       "      <th>31-40</th>\n",
       "      <th>41-50</th>\n",
       "      <th>51-60</th>\n",
       "      <th>61-70</th>\n",
       "      <th>71-80</th>\n",
       "      <th>80+</th>\n",
       "    </tr>\n",
       "    <tr>\n",
       "      <th>department</th>\n",
       "      <th></th>\n",
       "      <th></th>\n",
       "      <th></th>\n",
       "      <th></th>\n",
       "      <th></th>\n",
       "      <th></th>\n",
       "      <th></th>\n",
       "      <th></th>\n",
       "    </tr>\n",
       "  </thead>\n",
       "  <tbody>\n",
       "    <tr>\n",
       "      <th>alcohol</th>\n",
       "      <td>8852</td>\n",
       "      <td>23547</td>\n",
       "      <td>24851</td>\n",
       "      <td>24138</td>\n",
       "      <td>23789</td>\n",
       "      <td>22927</td>\n",
       "      <td>23458</td>\n",
       "      <td>2181</td>\n",
       "    </tr>\n",
       "    <tr>\n",
       "      <th>babies</th>\n",
       "      <td>20557</td>\n",
       "      <td>66414</td>\n",
       "      <td>65792</td>\n",
       "      <td>69771</td>\n",
       "      <td>64244</td>\n",
       "      <td>65326</td>\n",
       "      <td>64863</td>\n",
       "      <td>6835</td>\n",
       "    </tr>\n",
       "    <tr>\n",
       "      <th>bakery</th>\n",
       "      <td>54233</td>\n",
       "      <td>185082</td>\n",
       "      <td>183691</td>\n",
       "      <td>185608</td>\n",
       "      <td>184254</td>\n",
       "      <td>180793</td>\n",
       "      <td>184708</td>\n",
       "      <td>18418</td>\n",
       "    </tr>\n",
       "    <tr>\n",
       "      <th>beverages</th>\n",
       "      <td>122809</td>\n",
       "      <td>420077</td>\n",
       "      <td>414383</td>\n",
       "      <td>422968</td>\n",
       "      <td>424912</td>\n",
       "      <td>415269</td>\n",
       "      <td>425782</td>\n",
       "      <td>41959</td>\n",
       "    </tr>\n",
       "    <tr>\n",
       "      <th>breakfast</th>\n",
       "      <td>33887</td>\n",
       "      <td>111998</td>\n",
       "      <td>110662</td>\n",
       "      <td>112339</td>\n",
       "      <td>111203</td>\n",
       "      <td>107860</td>\n",
       "      <td>110935</td>\n",
       "      <td>11763</td>\n",
       "    </tr>\n",
       "    <tr>\n",
       "      <th>bulk</th>\n",
       "      <td>1648</td>\n",
       "      <td>5518</td>\n",
       "      <td>5342</td>\n",
       "      <td>5604</td>\n",
       "      <td>5170</td>\n",
       "      <td>5401</td>\n",
       "      <td>5365</td>\n",
       "      <td>525</td>\n",
       "    </tr>\n",
       "    <tr>\n",
       "      <th>canned goods</th>\n",
       "      <td>50237</td>\n",
       "      <td>169690</td>\n",
       "      <td>166296</td>\n",
       "      <td>166517</td>\n",
       "      <td>167489</td>\n",
       "      <td>165235</td>\n",
       "      <td>165958</td>\n",
       "      <td>16636</td>\n",
       "    </tr>\n",
       "    <tr>\n",
       "      <th>dairy eggs</th>\n",
       "      <td>254881</td>\n",
       "      <td>849619</td>\n",
       "      <td>853586</td>\n",
       "      <td>855715</td>\n",
       "      <td>835038</td>\n",
       "      <td>832303</td>\n",
       "      <td>848643</td>\n",
       "      <td>84231</td>\n",
       "    </tr>\n",
       "    <tr>\n",
       "      <th>deli</th>\n",
       "      <td>49052</td>\n",
       "      <td>164346</td>\n",
       "      <td>164900</td>\n",
       "      <td>164870</td>\n",
       "      <td>163690</td>\n",
       "      <td>163706</td>\n",
       "      <td>164478</td>\n",
       "      <td>16207</td>\n",
       "    </tr>\n",
       "    <tr>\n",
       "      <th>dry goods pasta</th>\n",
       "      <td>40840</td>\n",
       "      <td>137567</td>\n",
       "      <td>134023</td>\n",
       "      <td>134949</td>\n",
       "      <td>137123</td>\n",
       "      <td>133836</td>\n",
       "      <td>135132</td>\n",
       "      <td>13157</td>\n",
       "    </tr>\n",
       "    <tr>\n",
       "      <th>frozen</th>\n",
       "      <td>106218</td>\n",
       "      <td>348632</td>\n",
       "      <td>346793</td>\n",
       "      <td>349481</td>\n",
       "      <td>350560</td>\n",
       "      <td>348725</td>\n",
       "      <td>349847</td>\n",
       "      <td>36176</td>\n",
       "    </tr>\n",
       "    <tr>\n",
       "      <th>households</th>\n",
       "      <td>35426</td>\n",
       "      <td>114351</td>\n",
       "      <td>114733</td>\n",
       "      <td>115954</td>\n",
       "      <td>115319</td>\n",
       "      <td>114513</td>\n",
       "      <td>116988</td>\n",
       "      <td>11382</td>\n",
       "    </tr>\n",
       "    <tr>\n",
       "      <th>international</th>\n",
       "      <td>12995</td>\n",
       "      <td>42422</td>\n",
       "      <td>42560</td>\n",
       "      <td>42408</td>\n",
       "      <td>41929</td>\n",
       "      <td>41102</td>\n",
       "      <td>41726</td>\n",
       "      <td>4111</td>\n",
       "    </tr>\n",
       "    <tr>\n",
       "      <th>meat seafood</th>\n",
       "      <td>33665</td>\n",
       "      <td>110329</td>\n",
       "      <td>109731</td>\n",
       "      <td>111415</td>\n",
       "      <td>110243</td>\n",
       "      <td>110880</td>\n",
       "      <td>111377</td>\n",
       "      <td>11291</td>\n",
       "    </tr>\n",
       "    <tr>\n",
       "      <th>missing</th>\n",
       "      <td>3649</td>\n",
       "      <td>10960</td>\n",
       "      <td>10594</td>\n",
       "      <td>11045</td>\n",
       "      <td>10721</td>\n",
       "      <td>10412</td>\n",
       "      <td>10634</td>\n",
       "      <td>1130</td>\n",
       "    </tr>\n",
       "    <tr>\n",
       "      <th>other</th>\n",
       "      <td>1946</td>\n",
       "      <td>5793</td>\n",
       "      <td>5479</td>\n",
       "      <td>5656</td>\n",
       "      <td>5715</td>\n",
       "      <td>5667</td>\n",
       "      <td>5456</td>\n",
       "      <td>579</td>\n",
       "    </tr>\n",
       "    <tr>\n",
       "      <th>pantry</th>\n",
       "      <td>88243</td>\n",
       "      <td>292749</td>\n",
       "      <td>291574</td>\n",
       "      <td>296098</td>\n",
       "      <td>294554</td>\n",
       "      <td>290069</td>\n",
       "      <td>293066</td>\n",
       "      <td>29224</td>\n",
       "    </tr>\n",
       "    <tr>\n",
       "      <th>personal care</th>\n",
       "      <td>21476</td>\n",
       "      <td>69804</td>\n",
       "      <td>69109</td>\n",
       "      <td>71066</td>\n",
       "      <td>70977</td>\n",
       "      <td>68883</td>\n",
       "      <td>69411</td>\n",
       "      <td>6965</td>\n",
       "    </tr>\n",
       "    <tr>\n",
       "      <th>pets</th>\n",
       "      <td>5159</td>\n",
       "      <td>15451</td>\n",
       "      <td>14641</td>\n",
       "      <td>15317</td>\n",
       "      <td>15022</td>\n",
       "      <td>15270</td>\n",
       "      <td>15462</td>\n",
       "      <td>1402</td>\n",
       "    </tr>\n",
       "    <tr>\n",
       "      <th>produce</th>\n",
       "      <td>444498</td>\n",
       "      <td>1480396</td>\n",
       "      <td>1492122</td>\n",
       "      <td>1488008</td>\n",
       "      <td>1477648</td>\n",
       "      <td>1468158</td>\n",
       "      <td>1478993</td>\n",
       "      <td>149468</td>\n",
       "    </tr>\n",
       "    <tr>\n",
       "      <th>snacks</th>\n",
       "      <td>134093</td>\n",
       "      <td>456391</td>\n",
       "      <td>454154</td>\n",
       "      <td>447636</td>\n",
       "      <td>455260</td>\n",
       "      <td>442981</td>\n",
       "      <td>450948</td>\n",
       "      <td>46087</td>\n",
       "    </tr>\n",
       "  </tbody>\n",
       "</table>\n",
       "</div>"
      ],
      "text/plain": [
       "age_bracket       18-20    21-30    31-40    41-50    51-60    61-70    71-80  \\\n",
       "department                                                                      \n",
       "alcohol            8852    23547    24851    24138    23789    22927    23458   \n",
       "babies            20557    66414    65792    69771    64244    65326    64863   \n",
       "bakery            54233   185082   183691   185608   184254   180793   184708   \n",
       "beverages        122809   420077   414383   422968   424912   415269   425782   \n",
       "breakfast         33887   111998   110662   112339   111203   107860   110935   \n",
       "bulk               1648     5518     5342     5604     5170     5401     5365   \n",
       "canned goods      50237   169690   166296   166517   167489   165235   165958   \n",
       "dairy eggs       254881   849619   853586   855715   835038   832303   848643   \n",
       "deli              49052   164346   164900   164870   163690   163706   164478   \n",
       "dry goods pasta   40840   137567   134023   134949   137123   133836   135132   \n",
       "frozen           106218   348632   346793   349481   350560   348725   349847   \n",
       "households        35426   114351   114733   115954   115319   114513   116988   \n",
       "international     12995    42422    42560    42408    41929    41102    41726   \n",
       "meat seafood      33665   110329   109731   111415   110243   110880   111377   \n",
       "missing            3649    10960    10594    11045    10721    10412    10634   \n",
       "other              1946     5793     5479     5656     5715     5667     5456   \n",
       "pantry            88243   292749   291574   296098   294554   290069   293066   \n",
       "personal care     21476    69804    69109    71066    70977    68883    69411   \n",
       "pets               5159    15451    14641    15317    15022    15270    15462   \n",
       "produce          444498  1480396  1492122  1488008  1477648  1468158  1478993   \n",
       "snacks           134093   456391   454154   447636   455260   442981   450948   \n",
       "\n",
       "age_bracket         80+  \n",
       "department               \n",
       "alcohol            2181  \n",
       "babies             6835  \n",
       "bakery            18418  \n",
       "beverages         41959  \n",
       "breakfast         11763  \n",
       "bulk                525  \n",
       "canned goods      16636  \n",
       "dairy eggs        84231  \n",
       "deli              16207  \n",
       "dry goods pasta   13157  \n",
       "frozen            36176  \n",
       "households        11382  \n",
       "international      4111  \n",
       "meat seafood      11291  \n",
       "missing            1130  \n",
       "other               579  \n",
       "pantry            29224  \n",
       "personal care      6965  \n",
       "pets               1402  \n",
       "produce          149468  \n",
       "snacks            46087  "
      ]
     },
     "execution_count": 205,
     "metadata": {},
     "output_type": "execute_result"
    }
   ],
   "source": [
    "crosstab_age_dept"
   ]
  },
  {
   "cell_type": "code",
   "execution_count": 206,
   "id": "606315fb",
   "metadata": {},
   "outputs": [
    {
     "data": {
      "text/plain": [
       "<matplotlib.legend.Legend at 0x226a36e90a0>"
      ]
     },
     "execution_count": 206,
     "metadata": {},
     "output_type": "execute_result"
    },
    {
     "data": {
      "image/png": "[encoded data removed]",
      "text/plain": [
       "<Figure size 432x288 with 1 Axes>"
      ]
     },
     "metadata": {
      "needs_background": "light"
     },
     "output_type": "display_data"
    }
   ],
   "source": [
    "# Stacked bar for age and department\n",
    "\n",
    "bar_age_dep = crosstab_age_dept.plot.bar(stacked = True, color = ['blue', 'orange', 'green', 'red', 'orange', 'brown', 'pink', 'purple'])\n",
    "plt.legend(title = 'age_bracket')"
   ]
  },
  {
   "cell_type": "code",
   "execution_count": 208,
   "id": "eadf4520",
   "metadata": {},
   "outputs": [],
   "source": [
    "# Export chart\n",
    "\n",
    "bar_age_dep.figure.savefig(os.path.join(path, '04 Analysis', 'Visualizations', 'bar_age_dept.png'))"
   ]
  },
  {
   "cell_type": "markdown",
   "id": "69f80a83",
   "metadata": {},
   "source": [
    "#### NUMBER OF DEPENDANTS & PARENTAL STATUS"
   ]
  },
  {
   "cell_type": "code",
   "execution_count": 73,
   "id": "3e9af9d6",
   "metadata": {},
   "outputs": [
    {
     "data": {
      "text/plain": [
       "0    8105197\n",
       "1    8088310\n",
       "2    8098387\n",
       "3    8142318\n",
       "Name: Number_of_Dependants, dtype: int64"
      ]
     },
     "execution_count": 73,
     "metadata": {},
     "output_type": "execute_result"
    }
   ],
   "source": [
    "df['Number_of_Dependants'].value_counts().sort_index()"
   ]
  },
  {
   "cell_type": "code",
   "execution_count": 74,
   "id": "fac74db0",
   "metadata": {},
   "outputs": [],
   "source": [
    "# Create conditions within the Number of Dependants column\n",
    "\n",
    "df.loc[df['Number_of_Dependants'] == 0, 'parental_status'] = 'Not a Parent'"
   ]
  },
  {
   "cell_type": "code",
   "execution_count": 75,
   "id": "b105bb4b",
   "metadata": {},
   "outputs": [],
   "source": [
    "df.loc[df['Number_of_Dependants'] >= 1, 'parental_status'] = 'Parent'"
   ]
  },
  {
   "cell_type": "code",
   "execution_count": 76,
   "id": "aa1ff324",
   "metadata": {},
   "outputs": [
    {
     "data": {
      "text/plain": [
       "Parent          24329015\n",
       "Not a Parent     8105197\n",
       "Name: parental_status, dtype: int64"
      ]
     },
     "execution_count": 76,
     "metadata": {},
     "output_type": "execute_result"
    }
   ],
   "source": [
    "# Check the column\n",
    "\n",
    "df['parental_status'].value_counts(dropna = False)"
   ]
  },
  {
   "cell_type": "code",
   "execution_count": 77,
   "id": "026a3e6a",
   "metadata": {},
   "outputs": [],
   "source": [
    "# NUmber of Dependants and Parental Status\n",
    "\n",
    "crosstab_deps_parents = pd.crosstab(df['Number_of_Dependants'], df['parental_status'], dropna = False)"
   ]
  },
  {
   "cell_type": "code",
   "execution_count": 78,
   "id": "06a69454",
   "metadata": {},
   "outputs": [
    {
     "data": {
      "text/html": [
       "<div>\n",
       "<style scoped>\n",
       "    .dataframe tbody tr th:only-of-type {\n",
       "        vertical-align: middle;\n",
       "    }\n",
       "\n",
       "    .dataframe tbody tr th {\n",
       "        vertical-align: top;\n",
       "    }\n",
       "\n",
       "    .dataframe thead th {\n",
       "        text-align: right;\n",
       "    }\n",
       "</style>\n",
       "<table border=\"1\" class=\"dataframe\">\n",
       "  <thead>\n",
       "    <tr style=\"text-align: right;\">\n",
       "      <th>parental_status</th>\n",
       "      <th>Not a Parent</th>\n",
       "      <th>Parent</th>\n",
       "    </tr>\n",
       "    <tr>\n",
       "      <th>Number_of_Dependants</th>\n",
       "      <th></th>\n",
       "      <th></th>\n",
       "    </tr>\n",
       "  </thead>\n",
       "  <tbody>\n",
       "    <tr>\n",
       "      <th>0</th>\n",
       "      <td>8105197</td>\n",
       "      <td>0</td>\n",
       "    </tr>\n",
       "    <tr>\n",
       "      <th>1</th>\n",
       "      <td>0</td>\n",
       "      <td>8088310</td>\n",
       "    </tr>\n",
       "    <tr>\n",
       "      <th>2</th>\n",
       "      <td>0</td>\n",
       "      <td>8098387</td>\n",
       "    </tr>\n",
       "    <tr>\n",
       "      <th>3</th>\n",
       "      <td>0</td>\n",
       "      <td>8142318</td>\n",
       "    </tr>\n",
       "  </tbody>\n",
       "</table>\n",
       "</div>"
      ],
      "text/plain": [
       "parental_status       Not a Parent   Parent\n",
       "Number_of_Dependants                       \n",
       "0                          8105197        0\n",
       "1                                0  8088310\n",
       "2                                0  8098387\n",
       "3                                0  8142318"
      ]
     },
     "execution_count": 78,
     "metadata": {},
     "output_type": "execute_result"
    }
   ],
   "source": [
    "crosstab_deps_parents"
   ]
  },
  {
   "cell_type": "code",
   "execution_count": 79,
   "id": "f8a98c61",
   "metadata": {},
   "outputs": [
    {
     "data": {
      "text/plain": [
       "<matplotlib.legend.Legend at 0x227a9abe5e0>"
      ]
     },
     "execution_count": 79,
     "metadata": {},
     "output_type": "execute_result"
    },
    {
     "data": {
      "image/png": "[encoded data removed]",
      "text/plain": [
       "<Figure size 432x288 with 1 Axes>"
      ]
     },
     "metadata": {
      "needs_background": "light"
     },
     "output_type": "display_data"
    }
   ],
   "source": [
    "# Create stacked bar\n",
    "\n",
    "bar_dependants_parentalstatus = crosstab_deps_parents.plot.bar(stacked = True, color = ['green', 'red'])\n",
    "plt.legend(title = 'parental_status')"
   ]
  },
  {
   "cell_type": "code",
   "execution_count": 80,
   "id": "314f1b50",
   "metadata": {},
   "outputs": [],
   "source": [
    "# Export the chart\n",
    "\n",
    "bar_dependants_parentalstatus.figure.savefig(os.path.join(path, '04 Analysis', 'Visualizations', 'bar_dependants_parentstatus.png'))"
   ]
  },
  {
   "cell_type": "code",
   "execution_count": 81,
   "id": "369ac589",
   "metadata": {},
   "outputs": [],
   "source": [
    "# Parental Status and Spending Flag\n",
    "\n",
    "crosstab_par_stat_spending = pd.crosstab(df['parental_status'], df['spending_flag'], dropna = False)"
   ]
  },
  {
   "cell_type": "code",
   "execution_count": 82,
   "id": "583d475b",
   "metadata": {},
   "outputs": [
    {
     "data": {
      "text/html": [
       "<div>\n",
       "<style scoped>\n",
       "    .dataframe tbody tr th:only-of-type {\n",
       "        vertical-align: middle;\n",
       "    }\n",
       "\n",
       "    .dataframe tbody tr th {\n",
       "        vertical-align: top;\n",
       "    }\n",
       "\n",
       "    .dataframe thead th {\n",
       "        text-align: right;\n",
       "    }\n",
       "</style>\n",
       "<table border=\"1\" class=\"dataframe\">\n",
       "  <thead>\n",
       "    <tr style=\"text-align: right;\">\n",
       "      <th>spending_flag</th>\n",
       "      <th>High Spender</th>\n",
       "      <th>Low Spender</th>\n",
       "    </tr>\n",
       "    <tr>\n",
       "      <th>parental_status</th>\n",
       "      <th></th>\n",
       "      <th></th>\n",
       "    </tr>\n",
       "  </thead>\n",
       "  <tbody>\n",
       "    <tr>\n",
       "      <th>Not a Parent</th>\n",
       "      <td>153976</td>\n",
       "      <td>7951221</td>\n",
       "    </tr>\n",
       "    <tr>\n",
       "      <th>Parent</th>\n",
       "      <td>481357</td>\n",
       "      <td>23847658</td>\n",
       "    </tr>\n",
       "  </tbody>\n",
       "</table>\n",
       "</div>"
      ],
      "text/plain": [
       "spending_flag    High Spender  Low Spender\n",
       "parental_status                           \n",
       "Not a Parent           153976      7951221\n",
       "Parent                 481357     23847658"
      ]
     },
     "execution_count": 82,
     "metadata": {},
     "output_type": "execute_result"
    }
   ],
   "source": [
    "crosstab_par_stat_spending"
   ]
  },
  {
   "cell_type": "code",
   "execution_count": 83,
   "id": "ef1bf43c",
   "metadata": {},
   "outputs": [],
   "source": [
    "# Age and Dependants\n",
    "\n",
    "crosstab_age_depend = pd.crosstab(df['age_bracket'], df['Number_of_Dependants'], dropna = False)"
   ]
  },
  {
   "cell_type": "code",
   "execution_count": 84,
   "id": "3469ff7e",
   "metadata": {},
   "outputs": [
    {
     "data": {
      "text/html": [
       "<div>\n",
       "<style scoped>\n",
       "    .dataframe tbody tr th:only-of-type {\n",
       "        vertical-align: middle;\n",
       "    }\n",
       "\n",
       "    .dataframe tbody tr th {\n",
       "        vertical-align: top;\n",
       "    }\n",
       "\n",
       "    .dataframe thead th {\n",
       "        text-align: right;\n",
       "    }\n",
       "</style>\n",
       "<table border=\"1\" class=\"dataframe\">\n",
       "  <thead>\n",
       "    <tr style=\"text-align: right;\">\n",
       "      <th>Number_of_Dependants</th>\n",
       "      <th>0</th>\n",
       "      <th>1</th>\n",
       "      <th>2</th>\n",
       "      <th>3</th>\n",
       "    </tr>\n",
       "    <tr>\n",
       "      <th>age_bracket</th>\n",
       "      <th></th>\n",
       "      <th></th>\n",
       "      <th></th>\n",
       "      <th></th>\n",
       "    </tr>\n",
       "  </thead>\n",
       "  <tbody>\n",
       "    <tr>\n",
       "      <th>18-20</th>\n",
       "      <td>362148</td>\n",
       "      <td>398343</td>\n",
       "      <td>374767</td>\n",
       "      <td>389106</td>\n",
       "    </tr>\n",
       "    <tr>\n",
       "      <th>21-30</th>\n",
       "      <td>1283777</td>\n",
       "      <td>1253387</td>\n",
       "      <td>1265976</td>\n",
       "      <td>1277996</td>\n",
       "    </tr>\n",
       "    <tr>\n",
       "      <th>31-40</th>\n",
       "      <td>1263264</td>\n",
       "      <td>1266744</td>\n",
       "      <td>1285915</td>\n",
       "      <td>1259093</td>\n",
       "    </tr>\n",
       "    <tr>\n",
       "      <th>41-50</th>\n",
       "      <td>1254289</td>\n",
       "      <td>1297340</td>\n",
       "      <td>1259922</td>\n",
       "      <td>1285012</td>\n",
       "    </tr>\n",
       "    <tr>\n",
       "      <th>51-60</th>\n",
       "      <td>1284574</td>\n",
       "      <td>1277146</td>\n",
       "      <td>1215194</td>\n",
       "      <td>1287946</td>\n",
       "    </tr>\n",
       "    <tr>\n",
       "      <th>61-70</th>\n",
       "      <td>1269014</td>\n",
       "      <td>1211162</td>\n",
       "      <td>1280320</td>\n",
       "      <td>1248820</td>\n",
       "    </tr>\n",
       "    <tr>\n",
       "      <th>71-80</th>\n",
       "      <td>1243332</td>\n",
       "      <td>1270306</td>\n",
       "      <td>1290113</td>\n",
       "      <td>1269479</td>\n",
       "    </tr>\n",
       "    <tr>\n",
       "      <th>80+</th>\n",
       "      <td>144799</td>\n",
       "      <td>113882</td>\n",
       "      <td>126180</td>\n",
       "      <td>124866</td>\n",
       "    </tr>\n",
       "  </tbody>\n",
       "</table>\n",
       "</div>"
      ],
      "text/plain": [
       "Number_of_Dependants        0        1        2        3\n",
       "age_bracket                                             \n",
       "18-20                  362148   398343   374767   389106\n",
       "21-30                 1283777  1253387  1265976  1277996\n",
       "31-40                 1263264  1266744  1285915  1259093\n",
       "41-50                 1254289  1297340  1259922  1285012\n",
       "51-60                 1284574  1277146  1215194  1287946\n",
       "61-70                 1269014  1211162  1280320  1248820\n",
       "71-80                 1243332  1270306  1290113  1269479\n",
       "80+                    144799   113882   126180   124866"
      ]
     },
     "execution_count": 84,
     "metadata": {},
     "output_type": "execute_result"
    }
   ],
   "source": [
    "crosstab_age_depend"
   ]
  },
  {
   "cell_type": "code",
   "execution_count": 85,
   "id": "84633ebc",
   "metadata": {},
   "outputs": [
    {
     "data": {
      "text/plain": [
       "<matplotlib.legend.Legend at 0x22680e69ca0>"
      ]
     },
     "execution_count": 85,
     "metadata": {},
     "output_type": "execute_result"
    },
    {
     "data": {
      "image/png": "[encoded data removed]",
      "text/plain": [
       "<Figure size 432x288 with 1 Axes>"
      ]
     },
     "metadata": {
      "needs_background": "light"
     },
     "output_type": "display_data"
    }
   ],
   "source": [
    "# Create Stacked bar chart for number of dependants and age bracket\n",
    "\n",
    "bar_agebracket_dependants = crosstab_age_depend.plot.bar(stacked = True, color = ['blue', 'orange', 'green', 'red'])\n",
    "plt.legend(title = 'Number_of_Dependants')"
   ]
  },
  {
   "cell_type": "code",
   "execution_count": 86,
   "id": "0a95c6cc",
   "metadata": {},
   "outputs": [],
   "source": [
    "# Export the stacked bar chart\n",
    "\n",
    "bar_agebracket_dependants.figure.savefig(os.path.join(path, '04 Analysis', 'Visualizations', 'bar_agebracket_dependants.png'))"
   ]
  },
  {
   "cell_type": "markdown",
   "id": "0b4ac369",
   "metadata": {},
   "source": [
    "#### DEPARTMENTS"
   ]
  },
  {
   "cell_type": "code",
   "execution_count": 87,
   "id": "d7bf5752",
   "metadata": {},
   "outputs": [
    {
     "data": {
      "text/plain": [
       "1     2236432\n",
       "2       36291\n",
       "3     1176787\n",
       "4     9479291\n",
       "5      153743\n",
       "6      269253\n",
       "7     2688159\n",
       "8       97724\n",
       "9      866627\n",
       "10      34573\n",
       "11     447691\n",
       "12     708931\n",
       "13    1875577\n",
       "14     710647\n",
       "15    1068058\n",
       "16    5414016\n",
       "17     738666\n",
       "18     423802\n",
       "19    2887550\n",
       "20    1051249\n",
       "21      69145\n",
       "Name: department_id, dtype: int64"
      ]
     },
     "execution_count": 87,
     "metadata": {},
     "output_type": "execute_result"
    }
   ],
   "source": [
    "# Check the department_id column\n",
    "\n",
    "df['department_id'].value_counts().sort_index()"
   ]
  },
  {
   "cell_type": "code",
   "execution_count": 88,
   "id": "6315bfc9",
   "metadata": {},
   "outputs": [],
   "source": [
    "# Import department data to look at which category each id number is associated with.\n",
    "\n",
    "df_dep = pd.read_csv(os.path.join(path, '02 Data', 'Original Data', '4.4_departments', 'departments.csv'))"
   ]
  },
  {
   "cell_type": "code",
   "execution_count": 89,
   "id": "fd76cee0",
   "metadata": {},
   "outputs": [
    {
     "data": {
      "text/html": [
       "<div>\n",
       "<style scoped>\n",
       "    .dataframe tbody tr th:only-of-type {\n",
       "        vertical-align: middle;\n",
       "    }\n",
       "\n",
       "    .dataframe tbody tr th {\n",
       "        vertical-align: top;\n",
       "    }\n",
       "\n",
       "    .dataframe thead th {\n",
       "        text-align: right;\n",
       "    }\n",
       "</style>\n",
       "<table border=\"1\" class=\"dataframe\">\n",
       "  <thead>\n",
       "    <tr style=\"text-align: right;\">\n",
       "      <th></th>\n",
       "      <th>0</th>\n",
       "    </tr>\n",
       "  </thead>\n",
       "  <tbody>\n",
       "    <tr>\n",
       "      <th>department_id</th>\n",
       "      <td>department</td>\n",
       "    </tr>\n",
       "    <tr>\n",
       "      <th>1</th>\n",
       "      <td>frozen</td>\n",
       "    </tr>\n",
       "    <tr>\n",
       "      <th>2</th>\n",
       "      <td>other</td>\n",
       "    </tr>\n",
       "    <tr>\n",
       "      <th>3</th>\n",
       "      <td>bakery</td>\n",
       "    </tr>\n",
       "    <tr>\n",
       "      <th>4</th>\n",
       "      <td>produce</td>\n",
       "    </tr>\n",
       "    <tr>\n",
       "      <th>5</th>\n",
       "      <td>alcohol</td>\n",
       "    </tr>\n",
       "    <tr>\n",
       "      <th>6</th>\n",
       "      <td>international</td>\n",
       "    </tr>\n",
       "    <tr>\n",
       "      <th>7</th>\n",
       "      <td>beverages</td>\n",
       "    </tr>\n",
       "    <tr>\n",
       "      <th>8</th>\n",
       "      <td>pets</td>\n",
       "    </tr>\n",
       "    <tr>\n",
       "      <th>9</th>\n",
       "      <td>dry goods pasta</td>\n",
       "    </tr>\n",
       "    <tr>\n",
       "      <th>10</th>\n",
       "      <td>bulk</td>\n",
       "    </tr>\n",
       "    <tr>\n",
       "      <th>11</th>\n",
       "      <td>personal care</td>\n",
       "    </tr>\n",
       "    <tr>\n",
       "      <th>12</th>\n",
       "      <td>meat seafood</td>\n",
       "    </tr>\n",
       "    <tr>\n",
       "      <th>13</th>\n",
       "      <td>pantry</td>\n",
       "    </tr>\n",
       "    <tr>\n",
       "      <th>14</th>\n",
       "      <td>breakfast</td>\n",
       "    </tr>\n",
       "    <tr>\n",
       "      <th>15</th>\n",
       "      <td>canned goods</td>\n",
       "    </tr>\n",
       "    <tr>\n",
       "      <th>16</th>\n",
       "      <td>dairy eggs</td>\n",
       "    </tr>\n",
       "    <tr>\n",
       "      <th>17</th>\n",
       "      <td>household</td>\n",
       "    </tr>\n",
       "    <tr>\n",
       "      <th>18</th>\n",
       "      <td>babies</td>\n",
       "    </tr>\n",
       "    <tr>\n",
       "      <th>19</th>\n",
       "      <td>snacks</td>\n",
       "    </tr>\n",
       "    <tr>\n",
       "      <th>20</th>\n",
       "      <td>deli</td>\n",
       "    </tr>\n",
       "    <tr>\n",
       "      <th>21</th>\n",
       "      <td>missing</td>\n",
       "    </tr>\n",
       "  </tbody>\n",
       "</table>\n",
       "</div>"
      ],
      "text/plain": [
       "                             0\n",
       "department_id       department\n",
       "1                       frozen\n",
       "2                        other\n",
       "3                       bakery\n",
       "4                      produce\n",
       "5                      alcohol\n",
       "6                international\n",
       "7                    beverages\n",
       "8                         pets\n",
       "9              dry goods pasta\n",
       "10                        bulk\n",
       "11               personal care\n",
       "12                meat seafood\n",
       "13                      pantry\n",
       "14                   breakfast\n",
       "15                canned goods\n",
       "16                  dairy eggs\n",
       "17                   household\n",
       "18                      babies\n",
       "19                      snacks\n",
       "20                        deli\n",
       "21                     missing"
      ]
     },
     "execution_count": 89,
     "metadata": {},
     "output_type": "execute_result"
    }
   ],
   "source": [
    "df_dep.T"
   ]
  },
  {
   "cell_type": "code",
   "execution_count": 90,
   "id": "3b1eaa1a",
   "metadata": {},
   "outputs": [],
   "source": [
    "# Create new department_id columns\n",
    "\n",
    "\n",
    "df.loc[df['department_id'] == 1, 'department'] = 'frozen'\n",
    "df.loc[df['department_id'] == 2, 'department'] = 'other'\n",
    "df.loc[df['department_id'] == 3, 'department'] = 'bakery'\n",
    "df.loc[df['department_id'] == 4, 'department'] = 'produce'\n",
    "df.loc[df['department_id'] == 5, 'department'] = 'alcohol'\n",
    "df.loc[df['department_id'] == 6, 'department'] = 'international'\n",
    "df.loc[df['department_id'] == 7, 'department'] = 'beverages'\n",
    "df.loc[df['department_id'] == 8, 'department'] = 'pets'\n",
    "df.loc[df['department_id'] == 9, 'department'] = 'dry goods pasta'\n",
    "df.loc[df['department_id'] == 10, 'department'] = 'bulk'\n",
    "df.loc[df['department_id'] == 11, 'department'] = 'personal care'\n",
    "df.loc[df['department_id'] == 12, 'department'] = 'meat seafood'\n",
    "df.loc[df['department_id'] == 13, 'department'] = 'pantry'\n",
    "df.loc[df['department_id'] == 14, 'department'] = 'breakfast'\n",
    "df.loc[df['department_id'] == 15, 'department'] = 'canned goods'\n",
    "df.loc[df['department_id'] == 16, 'department'] = 'dairy eggs'\n",
    "df.loc[df['department_id'] == 17, 'department'] = 'households'\n",
    "df.loc[df['department_id'] == 18, 'department'] = 'babies'\n",
    "df.loc[df['department_id'] == 19, 'department'] = 'snacks'\n",
    "df.loc[df['department_id'] == 20, 'department'] = 'deli'\n",
    "df.loc[df['department_id'] == 21, 'department'] = 'missing'"
   ]
  },
  {
   "cell_type": "code",
   "execution_count": 91,
   "id": "e8a9c375",
   "metadata": {},
   "outputs": [
    {
     "data": {
      "text/plain": [
       "alcohol             153743\n",
       "babies              423802\n",
       "bakery             1176787\n",
       "beverages          2688159\n",
       "breakfast           710647\n",
       "bulk                 34573\n",
       "canned goods       1068058\n",
       "dairy eggs         5414016\n",
       "deli               1051249\n",
       "dry goods pasta     866627\n",
       "frozen             2236432\n",
       "households          738666\n",
       "international       269253\n",
       "meat seafood        708931\n",
       "missing              69145\n",
       "other                36291\n",
       "pantry             1875577\n",
       "personal care       447691\n",
       "pets                 97724\n",
       "produce            9479291\n",
       "snacks             2887550\n",
       "Name: department, dtype: int64"
      ]
     },
     "execution_count": 91,
     "metadata": {},
     "output_type": "execute_result"
    }
   ],
   "source": [
    "# Check the new department_id columns\n",
    "\n",
    "df['department'].value_counts().sort_index()"
   ]
  },
  {
   "cell_type": "code",
   "execution_count": 92,
   "id": "0387287f",
   "metadata": {},
   "outputs": [],
   "source": [
    "# Spending flag and Parental Status\n",
    "\n",
    "crosstab_depart_par_stat = pd.crosstab(df['department'], df['parental_status'], dropna = False)"
   ]
  },
  {
   "cell_type": "code",
   "execution_count": 93,
   "id": "32259167",
   "metadata": {},
   "outputs": [
    {
     "data": {
      "text/html": [
       "<div>\n",
       "<style scoped>\n",
       "    .dataframe tbody tr th:only-of-type {\n",
       "        vertical-align: middle;\n",
       "    }\n",
       "\n",
       "    .dataframe tbody tr th {\n",
       "        vertical-align: top;\n",
       "    }\n",
       "\n",
       "    .dataframe thead th {\n",
       "        text-align: right;\n",
       "    }\n",
       "</style>\n",
       "<table border=\"1\" class=\"dataframe\">\n",
       "  <thead>\n",
       "    <tr style=\"text-align: right;\">\n",
       "      <th>parental_status</th>\n",
       "      <th>Not a Parent</th>\n",
       "      <th>Parent</th>\n",
       "    </tr>\n",
       "    <tr>\n",
       "      <th>department</th>\n",
       "      <th></th>\n",
       "      <th></th>\n",
       "    </tr>\n",
       "  </thead>\n",
       "  <tbody>\n",
       "    <tr>\n",
       "      <th>alcohol</th>\n",
       "      <td>39143</td>\n",
       "      <td>114600</td>\n",
       "    </tr>\n",
       "    <tr>\n",
       "      <th>babies</th>\n",
       "      <td>106494</td>\n",
       "      <td>317308</td>\n",
       "    </tr>\n",
       "    <tr>\n",
       "      <th>bakery</th>\n",
       "      <td>295538</td>\n",
       "      <td>881249</td>\n",
       "    </tr>\n",
       "    <tr>\n",
       "      <th>beverages</th>\n",
       "      <td>674450</td>\n",
       "      <td>2013709</td>\n",
       "    </tr>\n",
       "    <tr>\n",
       "      <th>breakfast</th>\n",
       "      <td>176557</td>\n",
       "      <td>534090</td>\n",
       "    </tr>\n",
       "    <tr>\n",
       "      <th>bulk</th>\n",
       "      <td>8278</td>\n",
       "      <td>26295</td>\n",
       "    </tr>\n",
       "    <tr>\n",
       "      <th>canned goods</th>\n",
       "      <td>264838</td>\n",
       "      <td>803220</td>\n",
       "    </tr>\n",
       "    <tr>\n",
       "      <th>dairy eggs</th>\n",
       "      <td>1353388</td>\n",
       "      <td>4060628</td>\n",
       "    </tr>\n",
       "    <tr>\n",
       "      <th>deli</th>\n",
       "      <td>265145</td>\n",
       "      <td>786104</td>\n",
       "    </tr>\n",
       "    <tr>\n",
       "      <th>dry goods pasta</th>\n",
       "      <td>215262</td>\n",
       "      <td>651365</td>\n",
       "    </tr>\n",
       "    <tr>\n",
       "      <th>frozen</th>\n",
       "      <td>557584</td>\n",
       "      <td>1678848</td>\n",
       "    </tr>\n",
       "    <tr>\n",
       "      <th>households</th>\n",
       "      <td>180773</td>\n",
       "      <td>557893</td>\n",
       "    </tr>\n",
       "    <tr>\n",
       "      <th>international</th>\n",
       "      <td>67713</td>\n",
       "      <td>201540</td>\n",
       "    </tr>\n",
       "    <tr>\n",
       "      <th>meat seafood</th>\n",
       "      <td>174085</td>\n",
       "      <td>534846</td>\n",
       "    </tr>\n",
       "    <tr>\n",
       "      <th>missing</th>\n",
       "      <td>17088</td>\n",
       "      <td>52057</td>\n",
       "    </tr>\n",
       "    <tr>\n",
       "      <th>other</th>\n",
       "      <td>9175</td>\n",
       "      <td>27116</td>\n",
       "    </tr>\n",
       "    <tr>\n",
       "      <th>pantry</th>\n",
       "      <td>466822</td>\n",
       "      <td>1408755</td>\n",
       "    </tr>\n",
       "    <tr>\n",
       "      <th>personal care</th>\n",
       "      <td>112038</td>\n",
       "      <td>335653</td>\n",
       "    </tr>\n",
       "    <tr>\n",
       "      <th>pets</th>\n",
       "      <td>24583</td>\n",
       "      <td>73141</td>\n",
       "    </tr>\n",
       "    <tr>\n",
       "      <th>produce</th>\n",
       "      <td>2375445</td>\n",
       "      <td>7103846</td>\n",
       "    </tr>\n",
       "    <tr>\n",
       "      <th>snacks</th>\n",
       "      <td>720798</td>\n",
       "      <td>2166752</td>\n",
       "    </tr>\n",
       "  </tbody>\n",
       "</table>\n",
       "</div>"
      ],
      "text/plain": [
       "parental_status  Not a Parent   Parent\n",
       "department                            \n",
       "alcohol                 39143   114600\n",
       "babies                 106494   317308\n",
       "bakery                 295538   881249\n",
       "beverages              674450  2013709\n",
       "breakfast              176557   534090\n",
       "bulk                     8278    26295\n",
       "canned goods           264838   803220\n",
       "dairy eggs            1353388  4060628\n",
       "deli                   265145   786104\n",
       "dry goods pasta        215262   651365\n",
       "frozen                 557584  1678848\n",
       "households             180773   557893\n",
       "international           67713   201540\n",
       "meat seafood           174085   534846\n",
       "missing                 17088    52057\n",
       "other                    9175    27116\n",
       "pantry                 466822  1408755\n",
       "personal care          112038   335653\n",
       "pets                    24583    73141\n",
       "produce               2375445  7103846\n",
       "snacks                 720798  2166752"
      ]
     },
     "execution_count": 93,
     "metadata": {},
     "output_type": "execute_result"
    }
   ],
   "source": [
    "crosstab_depart_par_stat"
   ]
  },
  {
   "cell_type": "code",
   "execution_count": 94,
   "id": "e97ae1f6",
   "metadata": {},
   "outputs": [
    {
     "data": {
      "text/plain": [
       "<matplotlib.legend.Legend at 0x22680f48610>"
      ]
     },
     "execution_count": 94,
     "metadata": {},
     "output_type": "execute_result"
    },
    {
     "data": {
      "image/png": "[encoded data removed]",
      "text/plain": [
       "<Figure size 432x288 with 1 Axes>"
      ]
     },
     "metadata": {
      "needs_background": "light"
     },
     "output_type": "display_data"
    }
   ],
   "source": [
    "# Create stacked bar chart for department and parental status\n",
    "\n",
    "bar_dept_parstatus = crosstab_depart_par_stat.plot.bar(stacked = True, color = ['red', 'green'])\n",
    "plt.legend(title = 'parental_status')"
   ]
  },
  {
   "cell_type": "code",
   "execution_count": 95,
   "id": "36055897",
   "metadata": {},
   "outputs": [],
   "source": [
    "# Export stacked bar chart\n",
    "\n",
    "bar_dept_parstatus.figure.savefig(os.path.join(path, '04 Analysis', 'Visualizations', 'bar_dept_parstatus.png'))"
   ]
  },
  {
   "cell_type": "markdown",
   "id": "d8b6d791",
   "metadata": {},
   "source": [
    "#### ORDERS DAY OF THE WEEK"
   ]
  },
  {
   "cell_type": "code",
   "execution_count": 96,
   "id": "4f6f19ab",
   "metadata": {},
   "outputs": [
    {
     "data": {
      "text/plain": [
       "0    6209632\n",
       "1    5665830\n",
       "2    4217766\n",
       "3    3844096\n",
       "4    3787193\n",
       "5    4209449\n",
       "6    4500246\n",
       "Name: orders_day_of_the_week, dtype: int64"
      ]
     },
     "execution_count": 96,
     "metadata": {},
     "output_type": "execute_result"
    }
   ],
   "source": [
    "df['orders_day_of_the_week'].value_counts().sort_index()"
   ]
  },
  {
   "cell_type": "code",
   "execution_count": 97,
   "id": "a4edf0d6",
   "metadata": {},
   "outputs": [],
   "source": [
    "# Create new column for each day of the week\n",
    "\n",
    "df.loc[df['orders_day_of_the_week'] == 0, 'weekday'] = 'Saturday'\n",
    "df.loc[df['orders_day_of_the_week'] == 1, 'weekday'] = 'Sunday'\n",
    "df.loc[df['orders_day_of_the_week'] == 2, 'weekday'] = 'Monday'\n",
    "df.loc[df['orders_day_of_the_week'] == 3, 'weekday'] = 'Tuesday'\n",
    "df.loc[df['orders_day_of_the_week'] == 4, 'weekday'] = 'Wednesday'\n",
    "df.loc[df['orders_day_of_the_week'] == 5, 'weekday'] = 'Thursday'\n",
    "df.loc[df['orders_day_of_the_week'] == 6, 'weekday'] = 'Friday'"
   ]
  },
  {
   "cell_type": "code",
   "execution_count": 98,
   "id": "dfc6485b",
   "metadata": {},
   "outputs": [
    {
     "data": {
      "text/plain": [
       "Saturday     6209632\n",
       "Sunday       5665830\n",
       "Friday       4500246\n",
       "Monday       4217766\n",
       "Thursday     4209449\n",
       "Tuesday      3844096\n",
       "Wednesday    3787193\n",
       "Name: weekday, dtype: int64"
      ]
     },
     "execution_count": 98,
     "metadata": {},
     "output_type": "execute_result"
    }
   ],
   "source": [
    "# Check the weekday column\n",
    "\n",
    "df['weekday'].value_counts()"
   ]
  },
  {
   "cell_type": "code",
   "execution_count": 99,
   "id": "82aa99c9",
   "metadata": {},
   "outputs": [],
   "source": [
    "# Spenders and day of the week\n",
    "\n",
    "crosstab_spender_day = pd.crosstab(df['weekday'], df['spending_flag'], dropna = False)"
   ]
  },
  {
   "cell_type": "code",
   "execution_count": 100,
   "id": "8808e228",
   "metadata": {},
   "outputs": [
    {
     "data": {
      "text/html": [
       "<div>\n",
       "<style scoped>\n",
       "    .dataframe tbody tr th:only-of-type {\n",
       "        vertical-align: middle;\n",
       "    }\n",
       "\n",
       "    .dataframe tbody tr th {\n",
       "        vertical-align: top;\n",
       "    }\n",
       "\n",
       "    .dataframe thead th {\n",
       "        text-align: right;\n",
       "    }\n",
       "</style>\n",
       "<table border=\"1\" class=\"dataframe\">\n",
       "  <thead>\n",
       "    <tr style=\"text-align: right;\">\n",
       "      <th>spending_flag</th>\n",
       "      <th>High Spender</th>\n",
       "      <th>Low Spender</th>\n",
       "    </tr>\n",
       "    <tr>\n",
       "      <th>weekday</th>\n",
       "      <th></th>\n",
       "      <th></th>\n",
       "    </tr>\n",
       "  </thead>\n",
       "  <tbody>\n",
       "    <tr>\n",
       "      <th>Friday</th>\n",
       "      <td>81316</td>\n",
       "      <td>4418930</td>\n",
       "    </tr>\n",
       "    <tr>\n",
       "      <th>Monday</th>\n",
       "      <td>86833</td>\n",
       "      <td>4130933</td>\n",
       "    </tr>\n",
       "    <tr>\n",
       "      <th>Saturday</th>\n",
       "      <td>106886</td>\n",
       "      <td>6102746</td>\n",
       "    </tr>\n",
       "    <tr>\n",
       "      <th>Sunday</th>\n",
       "      <td>114401</td>\n",
       "      <td>5551429</td>\n",
       "    </tr>\n",
       "    <tr>\n",
       "      <th>Thursday</th>\n",
       "      <td>87415</td>\n",
       "      <td>4122034</td>\n",
       "    </tr>\n",
       "    <tr>\n",
       "      <th>Tuesday</th>\n",
       "      <td>79965</td>\n",
       "      <td>3764131</td>\n",
       "    </tr>\n",
       "    <tr>\n",
       "      <th>Wednesday</th>\n",
       "      <td>78517</td>\n",
       "      <td>3708676</td>\n",
       "    </tr>\n",
       "  </tbody>\n",
       "</table>\n",
       "</div>"
      ],
      "text/plain": [
       "spending_flag  High Spender  Low Spender\n",
       "weekday                                 \n",
       "Friday                81316      4418930\n",
       "Monday                86833      4130933\n",
       "Saturday             106886      6102746\n",
       "Sunday               114401      5551429\n",
       "Thursday              87415      4122034\n",
       "Tuesday               79965      3764131\n",
       "Wednesday             78517      3708676"
      ]
     },
     "execution_count": 100,
     "metadata": {},
     "output_type": "execute_result"
    }
   ],
   "source": [
    "crosstab_spender_day"
   ]
  },
  {
   "cell_type": "code",
   "execution_count": 101,
   "id": "cbcb6b1e",
   "metadata": {},
   "outputs": [
    {
     "data": {
      "text/plain": [
       "<matplotlib.legend.Legend at 0x22680f96730>"
      ]
     },
     "execution_count": 101,
     "metadata": {},
     "output_type": "execute_result"
    },
    {
     "data": {
      "image/png": "[encoded data removed]",
      "text/plain": [
       "<Figure size 432x288 with 1 Axes>"
      ]
     },
     "metadata": {
      "needs_background": "light"
     },
     "output_type": "display_data"
    }
   ],
   "source": [
    "# Creat a stacked bar chart\n",
    "\n",
    "bar_weekday_spending = crosstab_spender_day.plot.bar(stacked = True, color = ['blue', 'orange'])\n",
    "plt.legend(title = 'spending flag')"
   ]
  },
  {
   "cell_type": "code",
   "execution_count": 102,
   "id": "2db03a43",
   "metadata": {},
   "outputs": [],
   "source": [
    "# Export Chart\n",
    "\n",
    "bar_weekday_spending.figure.savefig(os.path.join(path, '04 Analysis', 'Visualizations', 'bar_weekday_spending.png'))"
   ]
  },
  {
   "cell_type": "code",
   "execution_count": 103,
   "id": "f457fa3d",
   "metadata": {},
   "outputs": [],
   "source": [
    "# Parental Status and Weekday\n",
    "\n",
    "crosstab_stat_day = pd.crosstab(df['weekday'], df['parental_status'], dropna = False)"
   ]
  },
  {
   "cell_type": "code",
   "execution_count": 104,
   "id": "fae68f4d",
   "metadata": {},
   "outputs": [
    {
     "data": {
      "text/html": [
       "<div>\n",
       "<style scoped>\n",
       "    .dataframe tbody tr th:only-of-type {\n",
       "        vertical-align: middle;\n",
       "    }\n",
       "\n",
       "    .dataframe tbody tr th {\n",
       "        vertical-align: top;\n",
       "    }\n",
       "\n",
       "    .dataframe thead th {\n",
       "        text-align: right;\n",
       "    }\n",
       "</style>\n",
       "<table border=\"1\" class=\"dataframe\">\n",
       "  <thead>\n",
       "    <tr style=\"text-align: right;\">\n",
       "      <th>parental_status</th>\n",
       "      <th>Not a Parent</th>\n",
       "      <th>Parent</th>\n",
       "    </tr>\n",
       "    <tr>\n",
       "      <th>weekday</th>\n",
       "      <th></th>\n",
       "      <th></th>\n",
       "    </tr>\n",
       "  </thead>\n",
       "  <tbody>\n",
       "    <tr>\n",
       "      <th>Friday</th>\n",
       "      <td>1112581</td>\n",
       "      <td>3387665</td>\n",
       "    </tr>\n",
       "    <tr>\n",
       "      <th>Monday</th>\n",
       "      <td>1050136</td>\n",
       "      <td>3167630</td>\n",
       "    </tr>\n",
       "    <tr>\n",
       "      <th>Saturday</th>\n",
       "      <td>1551751</td>\n",
       "      <td>4657881</td>\n",
       "    </tr>\n",
       "    <tr>\n",
       "      <th>Sunday</th>\n",
       "      <td>1426200</td>\n",
       "      <td>4239630</td>\n",
       "    </tr>\n",
       "    <tr>\n",
       "      <th>Thursday</th>\n",
       "      <td>1058149</td>\n",
       "      <td>3151300</td>\n",
       "    </tr>\n",
       "    <tr>\n",
       "      <th>Tuesday</th>\n",
       "      <td>960249</td>\n",
       "      <td>2883847</td>\n",
       "    </tr>\n",
       "    <tr>\n",
       "      <th>Wednesday</th>\n",
       "      <td>946131</td>\n",
       "      <td>2841062</td>\n",
       "    </tr>\n",
       "  </tbody>\n",
       "</table>\n",
       "</div>"
      ],
      "text/plain": [
       "parental_status  Not a Parent   Parent\n",
       "weekday                               \n",
       "Friday                1112581  3387665\n",
       "Monday                1050136  3167630\n",
       "Saturday              1551751  4657881\n",
       "Sunday                1426200  4239630\n",
       "Thursday              1058149  3151300\n",
       "Tuesday                960249  2883847\n",
       "Wednesday              946131  2841062"
      ]
     },
     "execution_count": 104,
     "metadata": {},
     "output_type": "execute_result"
    }
   ],
   "source": [
    "crosstab_stat_day"
   ]
  },
  {
   "cell_type": "code",
   "execution_count": 105,
   "id": "371b0b19",
   "metadata": {},
   "outputs": [],
   "source": [
    "# Weekday and Department\n",
    "\n",
    "crosstab_day_depart = pd.crosstab(df['department'], df['weekday'], dropna = False)"
   ]
  },
  {
   "cell_type": "code",
   "execution_count": 106,
   "id": "bce6dc1e",
   "metadata": {},
   "outputs": [
    {
     "data": {
      "text/html": [
       "<div>\n",
       "<style scoped>\n",
       "    .dataframe tbody tr th:only-of-type {\n",
       "        vertical-align: middle;\n",
       "    }\n",
       "\n",
       "    .dataframe tbody tr th {\n",
       "        vertical-align: top;\n",
       "    }\n",
       "\n",
       "    .dataframe thead th {\n",
       "        text-align: right;\n",
       "    }\n",
       "</style>\n",
       "<table border=\"1\" class=\"dataframe\">\n",
       "  <thead>\n",
       "    <tr style=\"text-align: right;\">\n",
       "      <th>weekday</th>\n",
       "      <th>Friday</th>\n",
       "      <th>Monday</th>\n",
       "      <th>Saturday</th>\n",
       "      <th>Sunday</th>\n",
       "      <th>Thursday</th>\n",
       "      <th>Tuesday</th>\n",
       "      <th>Wednesday</th>\n",
       "    </tr>\n",
       "    <tr>\n",
       "      <th>department</th>\n",
       "      <th></th>\n",
       "      <th></th>\n",
       "      <th></th>\n",
       "      <th></th>\n",
       "      <th></th>\n",
       "      <th></th>\n",
       "      <th></th>\n",
       "    </tr>\n",
       "  </thead>\n",
       "  <tbody>\n",
       "    <tr>\n",
       "      <th>alcohol</th>\n",
       "      <td>19312</td>\n",
       "      <td>20329</td>\n",
       "      <td>17442</td>\n",
       "      <td>20606</td>\n",
       "      <td>27440</td>\n",
       "      <td>22463</td>\n",
       "      <td>26151</td>\n",
       "    </tr>\n",
       "    <tr>\n",
       "      <th>babies</th>\n",
       "      <td>56829</td>\n",
       "      <td>56698</td>\n",
       "      <td>81622</td>\n",
       "      <td>73057</td>\n",
       "      <td>51573</td>\n",
       "      <td>52455</td>\n",
       "      <td>51568</td>\n",
       "    </tr>\n",
       "    <tr>\n",
       "      <th>bakery</th>\n",
       "      <td>163327</td>\n",
       "      <td>152710</td>\n",
       "      <td>225382</td>\n",
       "      <td>204386</td>\n",
       "      <td>153850</td>\n",
       "      <td>139410</td>\n",
       "      <td>137722</td>\n",
       "    </tr>\n",
       "    <tr>\n",
       "      <th>beverages</th>\n",
       "      <td>341371</td>\n",
       "      <td>371282</td>\n",
       "      <td>432725</td>\n",
       "      <td>482355</td>\n",
       "      <td>375917</td>\n",
       "      <td>344579</td>\n",
       "      <td>339930</td>\n",
       "    </tr>\n",
       "    <tr>\n",
       "      <th>breakfast</th>\n",
       "      <td>90350</td>\n",
       "      <td>96000</td>\n",
       "      <td>127363</td>\n",
       "      <td>129622</td>\n",
       "      <td>94431</td>\n",
       "      <td>87299</td>\n",
       "      <td>85582</td>\n",
       "    </tr>\n",
       "    <tr>\n",
       "      <th>bulk</th>\n",
       "      <td>4723</td>\n",
       "      <td>4559</td>\n",
       "      <td>6137</td>\n",
       "      <td>6339</td>\n",
       "      <td>4580</td>\n",
       "      <td>4246</td>\n",
       "      <td>3989</td>\n",
       "    </tr>\n",
       "    <tr>\n",
       "      <th>canned goods</th>\n",
       "      <td>163607</td>\n",
       "      <td>132596</td>\n",
       "      <td>228161</td>\n",
       "      <td>179995</td>\n",
       "      <td>129185</td>\n",
       "      <td>119361</td>\n",
       "      <td>115153</td>\n",
       "    </tr>\n",
       "    <tr>\n",
       "      <th>dairy eggs</th>\n",
       "      <td>737729</td>\n",
       "      <td>708983</td>\n",
       "      <td>1020167</td>\n",
       "      <td>957422</td>\n",
       "      <td>712251</td>\n",
       "      <td>641481</td>\n",
       "      <td>635983</td>\n",
       "    </tr>\n",
       "    <tr>\n",
       "      <th>deli</th>\n",
       "      <td>145169</td>\n",
       "      <td>135582</td>\n",
       "      <td>209526</td>\n",
       "      <td>184736</td>\n",
       "      <td>134434</td>\n",
       "      <td>122133</td>\n",
       "      <td>119669</td>\n",
       "    </tr>\n",
       "    <tr>\n",
       "      <th>dry goods pasta</th>\n",
       "      <td>127263</td>\n",
       "      <td>111066</td>\n",
       "      <td>182149</td>\n",
       "      <td>147855</td>\n",
       "      <td>103684</td>\n",
       "      <td>98761</td>\n",
       "      <td>95849</td>\n",
       "    </tr>\n",
       "    <tr>\n",
       "      <th>frozen</th>\n",
       "      <td>336884</td>\n",
       "      <td>282308</td>\n",
       "      <td>439144</td>\n",
       "      <td>360790</td>\n",
       "      <td>290980</td>\n",
       "      <td>266237</td>\n",
       "      <td>260089</td>\n",
       "    </tr>\n",
       "    <tr>\n",
       "      <th>households</th>\n",
       "      <td>102601</td>\n",
       "      <td>100229</td>\n",
       "      <td>126237</td>\n",
       "      <td>121267</td>\n",
       "      <td>99366</td>\n",
       "      <td>95575</td>\n",
       "      <td>93391</td>\n",
       "    </tr>\n",
       "    <tr>\n",
       "      <th>international</th>\n",
       "      <td>38728</td>\n",
       "      <td>34429</td>\n",
       "      <td>55728</td>\n",
       "      <td>46394</td>\n",
       "      <td>32836</td>\n",
       "      <td>31540</td>\n",
       "      <td>29598</td>\n",
       "    </tr>\n",
       "    <tr>\n",
       "      <th>meat seafood</th>\n",
       "      <td>108822</td>\n",
       "      <td>86830</td>\n",
       "      <td>151417</td>\n",
       "      <td>119042</td>\n",
       "      <td>87963</td>\n",
       "      <td>77950</td>\n",
       "      <td>76907</td>\n",
       "    </tr>\n",
       "    <tr>\n",
       "      <th>missing</th>\n",
       "      <td>10072</td>\n",
       "      <td>8574</td>\n",
       "      <td>13220</td>\n",
       "      <td>11378</td>\n",
       "      <td>9415</td>\n",
       "      <td>8312</td>\n",
       "      <td>8174</td>\n",
       "    </tr>\n",
       "    <tr>\n",
       "      <th>other</th>\n",
       "      <td>5040</td>\n",
       "      <td>4969</td>\n",
       "      <td>6086</td>\n",
       "      <td>5978</td>\n",
       "      <td>5053</td>\n",
       "      <td>4602</td>\n",
       "      <td>4563</td>\n",
       "    </tr>\n",
       "    <tr>\n",
       "      <th>pantry</th>\n",
       "      <td>276273</td>\n",
       "      <td>240848</td>\n",
       "      <td>351950</td>\n",
       "      <td>305068</td>\n",
       "      <td>248719</td>\n",
       "      <td>227591</td>\n",
       "      <td>225128</td>\n",
       "    </tr>\n",
       "    <tr>\n",
       "      <th>personal care</th>\n",
       "      <td>64336</td>\n",
       "      <td>60002</td>\n",
       "      <td>80532</td>\n",
       "      <td>72322</td>\n",
       "      <td>57953</td>\n",
       "      <td>57354</td>\n",
       "      <td>55192</td>\n",
       "    </tr>\n",
       "    <tr>\n",
       "      <th>pets</th>\n",
       "      <td>15413</td>\n",
       "      <td>11924</td>\n",
       "      <td>17151</td>\n",
       "      <td>14526</td>\n",
       "      <td>13704</td>\n",
       "      <td>12589</td>\n",
       "      <td>12417</td>\n",
       "    </tr>\n",
       "    <tr>\n",
       "      <th>produce</th>\n",
       "      <td>1338596</td>\n",
       "      <td>1198541</td>\n",
       "      <td>1953784</td>\n",
       "      <td>1685056</td>\n",
       "      <td>1181596</td>\n",
       "      <td>1069260</td>\n",
       "      <td>1052458</td>\n",
       "    </tr>\n",
       "    <tr>\n",
       "      <th>snacks</th>\n",
       "      <td>353801</td>\n",
       "      <td>399307</td>\n",
       "      <td>483709</td>\n",
       "      <td>537636</td>\n",
       "      <td>394519</td>\n",
       "      <td>360898</td>\n",
       "      <td>357680</td>\n",
       "    </tr>\n",
       "  </tbody>\n",
       "</table>\n",
       "</div>"
      ],
      "text/plain": [
       "weekday           Friday   Monday  Saturday   Sunday  Thursday  Tuesday  \\\n",
       "department                                                                \n",
       "alcohol            19312    20329     17442    20606     27440    22463   \n",
       "babies             56829    56698     81622    73057     51573    52455   \n",
       "bakery            163327   152710    225382   204386    153850   139410   \n",
       "beverages         341371   371282    432725   482355    375917   344579   \n",
       "breakfast          90350    96000    127363   129622     94431    87299   \n",
       "bulk                4723     4559      6137     6339      4580     4246   \n",
       "canned goods      163607   132596    228161   179995    129185   119361   \n",
       "dairy eggs        737729   708983   1020167   957422    712251   641481   \n",
       "deli              145169   135582    209526   184736    134434   122133   \n",
       "dry goods pasta   127263   111066    182149   147855    103684    98761   \n",
       "frozen            336884   282308    439144   360790    290980   266237   \n",
       "households        102601   100229    126237   121267     99366    95575   \n",
       "international      38728    34429     55728    46394     32836    31540   \n",
       "meat seafood      108822    86830    151417   119042     87963    77950   \n",
       "missing            10072     8574     13220    11378      9415     8312   \n",
       "other               5040     4969      6086     5978      5053     4602   \n",
       "pantry            276273   240848    351950   305068    248719   227591   \n",
       "personal care      64336    60002     80532    72322     57953    57354   \n",
       "pets               15413    11924     17151    14526     13704    12589   \n",
       "produce          1338596  1198541   1953784  1685056   1181596  1069260   \n",
       "snacks            353801   399307    483709   537636    394519   360898   \n",
       "\n",
       "weekday          Wednesday  \n",
       "department                  \n",
       "alcohol              26151  \n",
       "babies               51568  \n",
       "bakery              137722  \n",
       "beverages           339930  \n",
       "breakfast            85582  \n",
       "bulk                  3989  \n",
       "canned goods        115153  \n",
       "dairy eggs          635983  \n",
       "deli                119669  \n",
       "dry goods pasta      95849  \n",
       "frozen              260089  \n",
       "households           93391  \n",
       "international        29598  \n",
       "meat seafood         76907  \n",
       "missing               8174  \n",
       "other                 4563  \n",
       "pantry              225128  \n",
       "personal care        55192  \n",
       "pets                 12417  \n",
       "produce            1052458  \n",
       "snacks              357680  "
      ]
     },
     "execution_count": 106,
     "metadata": {},
     "output_type": "execute_result"
    }
   ],
   "source": [
    "crosstab_day_depart"
   ]
  },
  {
   "cell_type": "code",
   "execution_count": 107,
   "id": "ecbbc970",
   "metadata": {},
   "outputs": [
    {
     "data": {
      "text/plain": [
       "<matplotlib.legend.Legend at 0x2290bc6bd60>"
      ]
     },
     "execution_count": 107,
     "metadata": {},
     "output_type": "execute_result"
    },
    {
     "data": {
      "image/png": "[encoded data removed]",
      "text/plain": [
       "<Figure size 432x288 with 1 Axes>"
      ]
     },
     "metadata": {
      "needs_background": "light"
     },
     "output_type": "display_data"
    }
   ],
   "source": [
    "# Create stacked bar chart\n",
    "\n",
    "bar_dept_weekday = crosstab_day_depart.plot.bar(stacked = True, color = ['blue', 'orange', 'green', 'red', 'yellow', 'purple', 'pink'])\n",
    "plt.legend(title = 'weekday')"
   ]
  },
  {
   "cell_type": "code",
   "execution_count": 108,
   "id": "54aebc4a",
   "metadata": {},
   "outputs": [],
   "source": [
    "# Export stacked bar chart\n",
    "\n",
    "bar_dept_weekday.figure.savefig(os.path.join(path, '04 Analysis', 'Visualizations',' bar_dept_weekday.png'))"
   ]
  },
  {
   "cell_type": "markdown",
   "id": "80a90424",
   "metadata": {},
   "source": [
    "#### ORDERS HOUR OF DAY"
   ]
  },
  {
   "cell_type": "code",
   "execution_count": 109,
   "id": "33af587d",
   "metadata": {},
   "outputs": [
    {
     "data": {
      "text/plain": [
       "0      218942\n",
       "1      115786\n",
       "2       69431\n",
       "3       51317\n",
       "4       53283\n",
       "5       88057\n",
       "6      290770\n",
       "7      891928\n",
       "8     1719952\n",
       "9     2456661\n",
       "10    2764390\n",
       "11    2738585\n",
       "12    2620800\n",
       "13    2663272\n",
       "14    2691563\n",
       "15    2664522\n",
       "16    2537469\n",
       "17    2089452\n",
       "18    1637922\n",
       "19    1259382\n",
       "20     977017\n",
       "21     796362\n",
       "22     634737\n",
       "23     402612\n",
       "Name: order_hour_of_day, dtype: int64"
      ]
     },
     "execution_count": 109,
     "metadata": {},
     "output_type": "execute_result"
    }
   ],
   "source": [
    "df['order_hour_of_day'].value_counts().sort_index()"
   ]
  },
  {
   "cell_type": "code",
   "execution_count": 110,
   "id": "71a7a1a3",
   "metadata": {},
   "outputs": [],
   "source": [
    "# Family Status and Order Hour of Day\n",
    "\n",
    "crosstab_famstat_hour = pd.crosstab(df['order_hour_of_day'], df['Family_status'], dropna = False)"
   ]
  },
  {
   "cell_type": "code",
   "execution_count": 111,
   "id": "e68f138d",
   "metadata": {},
   "outputs": [
    {
     "data": {
      "text/html": [
       "<div>\n",
       "<style scoped>\n",
       "    .dataframe tbody tr th:only-of-type {\n",
       "        vertical-align: middle;\n",
       "    }\n",
       "\n",
       "    .dataframe tbody tr th {\n",
       "        vertical-align: top;\n",
       "    }\n",
       "\n",
       "    .dataframe thead th {\n",
       "        text-align: right;\n",
       "    }\n",
       "</style>\n",
       "<table border=\"1\" class=\"dataframe\">\n",
       "  <thead>\n",
       "    <tr style=\"text-align: right;\">\n",
       "      <th>Family_status</th>\n",
       "      <th>divorced/widowed</th>\n",
       "      <th>living with parents and siblings</th>\n",
       "      <th>married</th>\n",
       "      <th>single</th>\n",
       "    </tr>\n",
       "    <tr>\n",
       "      <th>order_hour_of_day</th>\n",
       "      <th></th>\n",
       "      <th></th>\n",
       "      <th></th>\n",
       "      <th></th>\n",
       "    </tr>\n",
       "  </thead>\n",
       "  <tbody>\n",
       "    <tr>\n",
       "      <th>0</th>\n",
       "      <td>17142</td>\n",
       "      <td>11054</td>\n",
       "      <td>153668</td>\n",
       "      <td>37078</td>\n",
       "    </tr>\n",
       "    <tr>\n",
       "      <th>1</th>\n",
       "      <td>9050</td>\n",
       "      <td>5951</td>\n",
       "      <td>81472</td>\n",
       "      <td>19313</td>\n",
       "    </tr>\n",
       "    <tr>\n",
       "      <th>2</th>\n",
       "      <td>6498</td>\n",
       "      <td>3754</td>\n",
       "      <td>48092</td>\n",
       "      <td>11087</td>\n",
       "    </tr>\n",
       "    <tr>\n",
       "      <th>3</th>\n",
       "      <td>4651</td>\n",
       "      <td>2603</td>\n",
       "      <td>35689</td>\n",
       "      <td>8374</td>\n",
       "    </tr>\n",
       "    <tr>\n",
       "      <th>4</th>\n",
       "      <td>4186</td>\n",
       "      <td>2992</td>\n",
       "      <td>37545</td>\n",
       "      <td>8560</td>\n",
       "    </tr>\n",
       "    <tr>\n",
       "      <th>5</th>\n",
       "      <td>8067</td>\n",
       "      <td>4558</td>\n",
       "      <td>61418</td>\n",
       "      <td>14014</td>\n",
       "    </tr>\n",
       "    <tr>\n",
       "      <th>6</th>\n",
       "      <td>24450</td>\n",
       "      <td>15506</td>\n",
       "      <td>201707</td>\n",
       "      <td>49107</td>\n",
       "    </tr>\n",
       "    <tr>\n",
       "      <th>7</th>\n",
       "      <td>79691</td>\n",
       "      <td>43906</td>\n",
       "      <td>620792</td>\n",
       "      <td>147539</td>\n",
       "    </tr>\n",
       "    <tr>\n",
       "      <th>8</th>\n",
       "      <td>147884</td>\n",
       "      <td>79003</td>\n",
       "      <td>1208971</td>\n",
       "      <td>284094</td>\n",
       "    </tr>\n",
       "    <tr>\n",
       "      <th>9</th>\n",
       "      <td>207740</td>\n",
       "      <td>114813</td>\n",
       "      <td>1728194</td>\n",
       "      <td>405914</td>\n",
       "    </tr>\n",
       "    <tr>\n",
       "      <th>10</th>\n",
       "      <td>234264</td>\n",
       "      <td>132674</td>\n",
       "      <td>1947016</td>\n",
       "      <td>450436</td>\n",
       "    </tr>\n",
       "    <tr>\n",
       "      <th>11</th>\n",
       "      <td>232011</td>\n",
       "      <td>131196</td>\n",
       "      <td>1925076</td>\n",
       "      <td>450302</td>\n",
       "    </tr>\n",
       "    <tr>\n",
       "      <th>12</th>\n",
       "      <td>223835</td>\n",
       "      <td>125099</td>\n",
       "      <td>1845224</td>\n",
       "      <td>426642</td>\n",
       "    </tr>\n",
       "    <tr>\n",
       "      <th>13</th>\n",
       "      <td>227222</td>\n",
       "      <td>128146</td>\n",
       "      <td>1873463</td>\n",
       "      <td>434441</td>\n",
       "    </tr>\n",
       "    <tr>\n",
       "      <th>14</th>\n",
       "      <td>229820</td>\n",
       "      <td>129231</td>\n",
       "      <td>1892159</td>\n",
       "      <td>440353</td>\n",
       "    </tr>\n",
       "    <tr>\n",
       "      <th>15</th>\n",
       "      <td>228419</td>\n",
       "      <td>127307</td>\n",
       "      <td>1869056</td>\n",
       "      <td>439740</td>\n",
       "    </tr>\n",
       "    <tr>\n",
       "      <th>16</th>\n",
       "      <td>219353</td>\n",
       "      <td>121407</td>\n",
       "      <td>1774756</td>\n",
       "      <td>421953</td>\n",
       "    </tr>\n",
       "    <tr>\n",
       "      <th>17</th>\n",
       "      <td>177696</td>\n",
       "      <td>100558</td>\n",
       "      <td>1466084</td>\n",
       "      <td>345114</td>\n",
       "    </tr>\n",
       "    <tr>\n",
       "      <th>18</th>\n",
       "      <td>138094</td>\n",
       "      <td>78584</td>\n",
       "      <td>1154772</td>\n",
       "      <td>266472</td>\n",
       "    </tr>\n",
       "    <tr>\n",
       "      <th>19</th>\n",
       "      <td>110297</td>\n",
       "      <td>61060</td>\n",
       "      <td>882564</td>\n",
       "      <td>205461</td>\n",
       "    </tr>\n",
       "    <tr>\n",
       "      <th>20</th>\n",
       "      <td>85636</td>\n",
       "      <td>45918</td>\n",
       "      <td>685075</td>\n",
       "      <td>160388</td>\n",
       "    </tr>\n",
       "    <tr>\n",
       "      <th>21</th>\n",
       "      <td>69260</td>\n",
       "      <td>37022</td>\n",
       "      <td>560356</td>\n",
       "      <td>129724</td>\n",
       "    </tr>\n",
       "    <tr>\n",
       "      <th>22</th>\n",
       "      <td>54199</td>\n",
       "      <td>30240</td>\n",
       "      <td>443878</td>\n",
       "      <td>106420</td>\n",
       "    </tr>\n",
       "    <tr>\n",
       "      <th>23</th>\n",
       "      <td>34963</td>\n",
       "      <td>19520</td>\n",
       "      <td>279886</td>\n",
       "      <td>68243</td>\n",
       "    </tr>\n",
       "  </tbody>\n",
       "</table>\n",
       "</div>"
      ],
      "text/plain": [
       "Family_status      divorced/widowed  living with parents and siblings  \\\n",
       "order_hour_of_day                                                       \n",
       "0                             17142                             11054   \n",
       "1                              9050                              5951   \n",
       "2                              6498                              3754   \n",
       "3                              4651                              2603   \n",
       "4                              4186                              2992   \n",
       "5                              8067                              4558   \n",
       "6                             24450                             15506   \n",
       "7                             79691                             43906   \n",
       "8                            147884                             79003   \n",
       "9                            207740                            114813   \n",
       "10                           234264                            132674   \n",
       "11                           232011                            131196   \n",
       "12                           223835                            125099   \n",
       "13                           227222                            128146   \n",
       "14                           229820                            129231   \n",
       "15                           228419                            127307   \n",
       "16                           219353                            121407   \n",
       "17                           177696                            100558   \n",
       "18                           138094                             78584   \n",
       "19                           110297                             61060   \n",
       "20                            85636                             45918   \n",
       "21                            69260                             37022   \n",
       "22                            54199                             30240   \n",
       "23                            34963                             19520   \n",
       "\n",
       "Family_status      married  single  \n",
       "order_hour_of_day                   \n",
       "0                   153668   37078  \n",
       "1                    81472   19313  \n",
       "2                    48092   11087  \n",
       "3                    35689    8374  \n",
       "4                    37545    8560  \n",
       "5                    61418   14014  \n",
       "6                   201707   49107  \n",
       "7                   620792  147539  \n",
       "8                  1208971  284094  \n",
       "9                  1728194  405914  \n",
       "10                 1947016  450436  \n",
       "11                 1925076  450302  \n",
       "12                 1845224  426642  \n",
       "13                 1873463  434441  \n",
       "14                 1892159  440353  \n",
       "15                 1869056  439740  \n",
       "16                 1774756  421953  \n",
       "17                 1466084  345114  \n",
       "18                 1154772  266472  \n",
       "19                  882564  205461  \n",
       "20                  685075  160388  \n",
       "21                  560356  129724  \n",
       "22                  443878  106420  \n",
       "23                  279886   68243  "
      ]
     },
     "execution_count": 111,
     "metadata": {},
     "output_type": "execute_result"
    }
   ],
   "source": [
    "crosstab_famstat_hour"
   ]
  },
  {
   "cell_type": "code",
   "execution_count": 112,
   "id": "f542939c",
   "metadata": {},
   "outputs": [
    {
     "data": {
      "text/plain": [
       "<matplotlib.legend.Legend at 0x226821f1af0>"
      ]
     },
     "execution_count": 112,
     "metadata": {},
     "output_type": "execute_result"
    },
    {
     "data": {
      "image/png": "[encoded data removed]",
      "text/plain": [
       "<Figure size 432x288 with 1 Axes>"
      ]
     },
     "metadata": {
      "needs_background": "light"
     },
     "output_type": "display_data"
    }
   ],
   "source": [
    "# Create stacked bar chart\n",
    "\n",
    "bar_famstat_hour = crosstab_famstat_hour.plot.bar(stacked = True, color = ['blue', 'orange', 'green', 'red'])\n",
    "plt.legend(title = 'Family_status')"
   ]
  },
  {
   "cell_type": "code",
   "execution_count": 113,
   "id": "c20f0c72",
   "metadata": {},
   "outputs": [],
   "source": [
    "# Export chart\n",
    "\n",
    "bar_famstat_hour.figure.savefig(os.path.join(path, '04 Analysis', 'Visualizations', 'bar_famstat_hour.png'))"
   ]
  },
  {
   "cell_type": "code",
   "execution_count": 114,
   "id": "c0e4e17b",
   "metadata": {},
   "outputs": [],
   "source": [
    "# NUmber of Dependants and Order Hour of Day\n",
    "\n",
    "crosstab_depend_hour = pd.crosstab(df['order_hour_of_day'], df['Number_of_Dependants'], dropna = False)"
   ]
  },
  {
   "cell_type": "code",
   "execution_count": 115,
   "id": "8c2f51a0",
   "metadata": {},
   "outputs": [
    {
     "data": {
      "text/html": [
       "<div>\n",
       "<style scoped>\n",
       "    .dataframe tbody tr th:only-of-type {\n",
       "        vertical-align: middle;\n",
       "    }\n",
       "\n",
       "    .dataframe tbody tr th {\n",
       "        vertical-align: top;\n",
       "    }\n",
       "\n",
       "    .dataframe thead th {\n",
       "        text-align: right;\n",
       "    }\n",
       "</style>\n",
       "<table border=\"1\" class=\"dataframe\">\n",
       "  <thead>\n",
       "    <tr style=\"text-align: right;\">\n",
       "      <th>Number_of_Dependants</th>\n",
       "      <th>0</th>\n",
       "      <th>1</th>\n",
       "      <th>2</th>\n",
       "      <th>3</th>\n",
       "    </tr>\n",
       "    <tr>\n",
       "      <th>order_hour_of_day</th>\n",
       "      <th></th>\n",
       "      <th></th>\n",
       "      <th></th>\n",
       "      <th></th>\n",
       "    </tr>\n",
       "  </thead>\n",
       "  <tbody>\n",
       "    <tr>\n",
       "      <th>0</th>\n",
       "      <td>54220</td>\n",
       "      <td>54177</td>\n",
       "      <td>56002</td>\n",
       "      <td>54543</td>\n",
       "    </tr>\n",
       "    <tr>\n",
       "      <th>1</th>\n",
       "      <td>28363</td>\n",
       "      <td>29004</td>\n",
       "      <td>28919</td>\n",
       "      <td>29500</td>\n",
       "    </tr>\n",
       "    <tr>\n",
       "      <th>2</th>\n",
       "      <td>17585</td>\n",
       "      <td>18099</td>\n",
       "      <td>16837</td>\n",
       "      <td>16910</td>\n",
       "    </tr>\n",
       "    <tr>\n",
       "      <th>3</th>\n",
       "      <td>13025</td>\n",
       "      <td>12579</td>\n",
       "      <td>12542</td>\n",
       "      <td>13171</td>\n",
       "    </tr>\n",
       "    <tr>\n",
       "      <th>4</th>\n",
       "      <td>12746</td>\n",
       "      <td>14273</td>\n",
       "      <td>12806</td>\n",
       "      <td>13458</td>\n",
       "    </tr>\n",
       "    <tr>\n",
       "      <th>5</th>\n",
       "      <td>22081</td>\n",
       "      <td>23001</td>\n",
       "      <td>20540</td>\n",
       "      <td>22435</td>\n",
       "    </tr>\n",
       "    <tr>\n",
       "      <th>6</th>\n",
       "      <td>73557</td>\n",
       "      <td>72975</td>\n",
       "      <td>71532</td>\n",
       "      <td>72706</td>\n",
       "    </tr>\n",
       "    <tr>\n",
       "      <th>7</th>\n",
       "      <td>227230</td>\n",
       "      <td>219713</td>\n",
       "      <td>222624</td>\n",
       "      <td>222361</td>\n",
       "    </tr>\n",
       "    <tr>\n",
       "      <th>8</th>\n",
       "      <td>431978</td>\n",
       "      <td>428370</td>\n",
       "      <td>426002</td>\n",
       "      <td>433602</td>\n",
       "    </tr>\n",
       "    <tr>\n",
       "      <th>9</th>\n",
       "      <td>613654</td>\n",
       "      <td>619647</td>\n",
       "      <td>615391</td>\n",
       "      <td>607969</td>\n",
       "    </tr>\n",
       "    <tr>\n",
       "      <th>10</th>\n",
       "      <td>684700</td>\n",
       "      <td>694181</td>\n",
       "      <td>689647</td>\n",
       "      <td>695862</td>\n",
       "    </tr>\n",
       "    <tr>\n",
       "      <th>11</th>\n",
       "      <td>682313</td>\n",
       "      <td>683580</td>\n",
       "      <td>685225</td>\n",
       "      <td>687467</td>\n",
       "    </tr>\n",
       "    <tr>\n",
       "      <th>12</th>\n",
       "      <td>650477</td>\n",
       "      <td>656749</td>\n",
       "      <td>662919</td>\n",
       "      <td>650655</td>\n",
       "    </tr>\n",
       "    <tr>\n",
       "      <th>13</th>\n",
       "      <td>661663</td>\n",
       "      <td>663787</td>\n",
       "      <td>671570</td>\n",
       "      <td>666252</td>\n",
       "    </tr>\n",
       "    <tr>\n",
       "      <th>14</th>\n",
       "      <td>670173</td>\n",
       "      <td>673035</td>\n",
       "      <td>669326</td>\n",
       "      <td>679029</td>\n",
       "    </tr>\n",
       "    <tr>\n",
       "      <th>15</th>\n",
       "      <td>668159</td>\n",
       "      <td>669489</td>\n",
       "      <td>656218</td>\n",
       "      <td>670656</td>\n",
       "    </tr>\n",
       "    <tr>\n",
       "      <th>16</th>\n",
       "      <td>641306</td>\n",
       "      <td>628646</td>\n",
       "      <td>629277</td>\n",
       "      <td>638240</td>\n",
       "    </tr>\n",
       "    <tr>\n",
       "      <th>17</th>\n",
       "      <td>522810</td>\n",
       "      <td>519194</td>\n",
       "      <td>519882</td>\n",
       "      <td>527566</td>\n",
       "    </tr>\n",
       "    <tr>\n",
       "      <th>18</th>\n",
       "      <td>404566</td>\n",
       "      <td>408964</td>\n",
       "      <td>407202</td>\n",
       "      <td>417190</td>\n",
       "    </tr>\n",
       "    <tr>\n",
       "      <th>19</th>\n",
       "      <td>315758</td>\n",
       "      <td>311693</td>\n",
       "      <td>313721</td>\n",
       "      <td>318210</td>\n",
       "    </tr>\n",
       "    <tr>\n",
       "      <th>20</th>\n",
       "      <td>246024</td>\n",
       "      <td>236500</td>\n",
       "      <td>246633</td>\n",
       "      <td>247860</td>\n",
       "    </tr>\n",
       "    <tr>\n",
       "      <th>21</th>\n",
       "      <td>198984</td>\n",
       "      <td>194191</td>\n",
       "      <td>204103</td>\n",
       "      <td>199084</td>\n",
       "    </tr>\n",
       "    <tr>\n",
       "      <th>22</th>\n",
       "      <td>160619</td>\n",
       "      <td>156141</td>\n",
       "      <td>158172</td>\n",
       "      <td>159805</td>\n",
       "    </tr>\n",
       "    <tr>\n",
       "      <th>23</th>\n",
       "      <td>103206</td>\n",
       "      <td>100322</td>\n",
       "      <td>101297</td>\n",
       "      <td>97787</td>\n",
       "    </tr>\n",
       "  </tbody>\n",
       "</table>\n",
       "</div>"
      ],
      "text/plain": [
       "Number_of_Dependants       0       1       2       3\n",
       "order_hour_of_day                                   \n",
       "0                      54220   54177   56002   54543\n",
       "1                      28363   29004   28919   29500\n",
       "2                      17585   18099   16837   16910\n",
       "3                      13025   12579   12542   13171\n",
       "4                      12746   14273   12806   13458\n",
       "5                      22081   23001   20540   22435\n",
       "6                      73557   72975   71532   72706\n",
       "7                     227230  219713  222624  222361\n",
       "8                     431978  428370  426002  433602\n",
       "9                     613654  619647  615391  607969\n",
       "10                    684700  694181  689647  695862\n",
       "11                    682313  683580  685225  687467\n",
       "12                    650477  656749  662919  650655\n",
       "13                    661663  663787  671570  666252\n",
       "14                    670173  673035  669326  679029\n",
       "15                    668159  669489  656218  670656\n",
       "16                    641306  628646  629277  638240\n",
       "17                    522810  519194  519882  527566\n",
       "18                    404566  408964  407202  417190\n",
       "19                    315758  311693  313721  318210\n",
       "20                    246024  236500  246633  247860\n",
       "21                    198984  194191  204103  199084\n",
       "22                    160619  156141  158172  159805\n",
       "23                    103206  100322  101297   97787"
      ]
     },
     "execution_count": 115,
     "metadata": {},
     "output_type": "execute_result"
    }
   ],
   "source": [
    "crosstab_depend_hour"
   ]
  },
  {
   "cell_type": "code",
   "execution_count": 116,
   "id": "ed3ffded",
   "metadata": {},
   "outputs": [
    {
     "data": {
      "text/plain": [
       "<matplotlib.legend.Legend at 0x226823840d0>"
      ]
     },
     "execution_count": 116,
     "metadata": {},
     "output_type": "execute_result"
    },
    {
     "data": {
      "image/png": "[encoded data removed]",
      "text/plain": [
       "<Figure size 432x288 with 1 Axes>"
      ]
     },
     "metadata": {
      "needs_background": "light"
     },
     "output_type": "display_data"
    }
   ],
   "source": [
    "# Create stacked bar chart\n",
    "\n",
    "bar_dependants_hour = crosstab_depend_hour.plot.bar(stacked = True, color = ['blue', 'yellow', 'green', 'red'])\n",
    "plt.legend(title = 'Number_of_Dependants')"
   ]
  },
  {
   "cell_type": "code",
   "execution_count": 117,
   "id": "9bb437c7",
   "metadata": {},
   "outputs": [],
   "source": [
    "# Export chart\n",
    "\n",
    "bar_dependants_hour.figure.savefig(os.path.join(path, '04 Analysis', 'Visualizations', 'bar_dependants_hour.png'))"
   ]
  },
  {
   "cell_type": "code",
   "execution_count": 118,
   "id": "75111144",
   "metadata": {},
   "outputs": [
    {
     "data": {
      "text/plain": [
       "Text(0.5, 0, 'Hours of the Day')"
      ]
     },
     "execution_count": 118,
     "metadata": {},
     "output_type": "execute_result"
    },
    {
     "data": {
      "image/png": "[encoded data removed]",
      "text/plain": [
       "<Figure size 432x288 with 1 Axes>"
      ]
     },
     "metadata": {
      "needs_background": "light"
     },
     "output_type": "display_data"
    }
   ],
   "source": [
    "# Look at the busiest hours of the day\n",
    "\n",
    "bar_busiest_hour = df['order_hour_of_day'].value_counts().sort_index().plot.bar(color = ['Green'])\n",
    "plt.title('Orders per hour')\n",
    "plt.xlabel('Hours of the Day')"
   ]
  },
  {
   "cell_type": "code",
   "execution_count": 119,
   "id": "9d4a63b6",
   "metadata": {},
   "outputs": [],
   "source": [
    "# Export chart\n",
    "\n",
    "bar_busiest_hour.figure.savefig(os.path.join(path, '04 Analysis', 'Visualizations', 'bar_busiest_hour.png'))"
   ]
  },
  {
   "cell_type": "markdown",
   "id": "d71add4f",
   "metadata": {},
   "source": [
    "#### CUSTOMER LOYALTY"
   ]
  },
  {
   "cell_type": "code",
   "execution_count": 120,
   "id": "6f12575c",
   "metadata": {},
   "outputs": [
    {
     "data": {
      "text/plain": [
       "Regular customer    15891077\n",
       "Loyal customer      10293737\n",
       "New customer         6249398\n",
       "Name: loyalty_flag, dtype: int64"
      ]
     },
     "execution_count": 120,
     "metadata": {},
     "output_type": "execute_result"
    }
   ],
   "source": [
    "df['loyalty_flag'].value_counts()"
   ]
  },
  {
   "cell_type": "code",
   "execution_count": 121,
   "id": "55231d02",
   "metadata": {},
   "outputs": [
    {
     "data": {
      "image/png": "[encoded data removed]",
      "text/plain": [
       "<Figure size 432x288 with 1 Axes>"
      ]
     },
     "metadata": {},
     "output_type": "display_data"
    }
   ],
   "source": [
    "# Pie chart to show the percentages of the customer\n",
    "\n",
    "labels = 'New Customer', 'Loyal Customer', 'Regular Customer'\n",
    "sizes = [6249398, 10293737, 15891077]\n",
    "\n",
    "fig1, ax1 = plt.subplots()\n",
    "ax1.pie(sizes, labels=labels, autopct='%1.1f%%')\n",
    "ax1.axis('equal')\n",
    "ax1.set_title('Customer Categories')\n",
    "\n",
    "plt.show()"
   ]
  },
  {
   "cell_type": "code",
   "execution_count": 122,
   "id": "a55e9c33",
   "metadata": {},
   "outputs": [],
   "source": [
    "#Export chart\n",
    "\n",
    "ax1.figure.savefig(os.path.join(path, '04 Analysis', 'Visualizations', 'pie_loyalty.png'))"
   ]
  },
  {
   "cell_type": "markdown",
   "id": "9f900fea",
   "metadata": {},
   "source": [
    "#### REGION"
   ]
  },
  {
   "cell_type": "code",
   "execution_count": 123,
   "id": "7073c93d",
   "metadata": {},
   "outputs": [
    {
     "data": {
      "text/plain": [
       "South        10801610\n",
       "West          8300445\n",
       "Midwest       7603810\n",
       "Northeast     5728347\n",
       "Name: Region, dtype: int64"
      ]
     },
     "execution_count": 123,
     "metadata": {},
     "output_type": "execute_result"
    }
   ],
   "source": [
    "df['Region'].value_counts()"
   ]
  },
  {
   "cell_type": "code",
   "execution_count": 124,
   "id": "45ddf7cb",
   "metadata": {},
   "outputs": [],
   "source": [
    "# Look at Region and Orders Hour of Day\n",
    "\n",
    "crosstab_region_hours = pd.crosstab(df['order_hour_of_day'], df['Region'], dropna = False)"
   ]
  },
  {
   "cell_type": "code",
   "execution_count": 125,
   "id": "8b15c015",
   "metadata": {},
   "outputs": [
    {
     "data": {
      "text/html": [
       "<div>\n",
       "<style scoped>\n",
       "    .dataframe tbody tr th:only-of-type {\n",
       "        vertical-align: middle;\n",
       "    }\n",
       "\n",
       "    .dataframe tbody tr th {\n",
       "        vertical-align: top;\n",
       "    }\n",
       "\n",
       "    .dataframe thead th {\n",
       "        text-align: right;\n",
       "    }\n",
       "</style>\n",
       "<table border=\"1\" class=\"dataframe\">\n",
       "  <thead>\n",
       "    <tr style=\"text-align: right;\">\n",
       "      <th>Region</th>\n",
       "      <th>Midwest</th>\n",
       "      <th>Northeast</th>\n",
       "      <th>South</th>\n",
       "      <th>West</th>\n",
       "    </tr>\n",
       "    <tr>\n",
       "      <th>order_hour_of_day</th>\n",
       "      <th></th>\n",
       "      <th></th>\n",
       "      <th></th>\n",
       "      <th></th>\n",
       "    </tr>\n",
       "  </thead>\n",
       "  <tbody>\n",
       "    <tr>\n",
       "      <th>0</th>\n",
       "      <td>50785</td>\n",
       "      <td>38587</td>\n",
       "      <td>73351</td>\n",
       "      <td>56219</td>\n",
       "    </tr>\n",
       "    <tr>\n",
       "      <th>1</th>\n",
       "      <td>27378</td>\n",
       "      <td>21568</td>\n",
       "      <td>37926</td>\n",
       "      <td>28914</td>\n",
       "    </tr>\n",
       "    <tr>\n",
       "      <th>2</th>\n",
       "      <td>16997</td>\n",
       "      <td>12449</td>\n",
       "      <td>21994</td>\n",
       "      <td>17991</td>\n",
       "    </tr>\n",
       "    <tr>\n",
       "      <th>3</th>\n",
       "      <td>11917</td>\n",
       "      <td>9227</td>\n",
       "      <td>17446</td>\n",
       "      <td>12727</td>\n",
       "    </tr>\n",
       "    <tr>\n",
       "      <th>4</th>\n",
       "      <td>12697</td>\n",
       "      <td>9516</td>\n",
       "      <td>17981</td>\n",
       "      <td>13089</td>\n",
       "    </tr>\n",
       "    <tr>\n",
       "      <th>5</th>\n",
       "      <td>19872</td>\n",
       "      <td>15413</td>\n",
       "      <td>30881</td>\n",
       "      <td>21891</td>\n",
       "    </tr>\n",
       "    <tr>\n",
       "      <th>6</th>\n",
       "      <td>67368</td>\n",
       "      <td>50605</td>\n",
       "      <td>98769</td>\n",
       "      <td>74028</td>\n",
       "    </tr>\n",
       "    <tr>\n",
       "      <th>7</th>\n",
       "      <td>208452</td>\n",
       "      <td>159145</td>\n",
       "      <td>298007</td>\n",
       "      <td>226324</td>\n",
       "    </tr>\n",
       "    <tr>\n",
       "      <th>8</th>\n",
       "      <td>398566</td>\n",
       "      <td>305673</td>\n",
       "      <td>579649</td>\n",
       "      <td>436064</td>\n",
       "    </tr>\n",
       "    <tr>\n",
       "      <th>9</th>\n",
       "      <td>573385</td>\n",
       "      <td>430570</td>\n",
       "      <td>823696</td>\n",
       "      <td>629010</td>\n",
       "    </tr>\n",
       "    <tr>\n",
       "      <th>10</th>\n",
       "      <td>647210</td>\n",
       "      <td>485320</td>\n",
       "      <td>924203</td>\n",
       "      <td>707657</td>\n",
       "    </tr>\n",
       "    <tr>\n",
       "      <th>11</th>\n",
       "      <td>642398</td>\n",
       "      <td>483329</td>\n",
       "      <td>910154</td>\n",
       "      <td>702704</td>\n",
       "    </tr>\n",
       "    <tr>\n",
       "      <th>12</th>\n",
       "      <td>612850</td>\n",
       "      <td>466078</td>\n",
       "      <td>869344</td>\n",
       "      <td>672528</td>\n",
       "    </tr>\n",
       "    <tr>\n",
       "      <th>13</th>\n",
       "      <td>619243</td>\n",
       "      <td>473144</td>\n",
       "      <td>880305</td>\n",
       "      <td>690580</td>\n",
       "    </tr>\n",
       "    <tr>\n",
       "      <th>14</th>\n",
       "      <td>625636</td>\n",
       "      <td>475816</td>\n",
       "      <td>893998</td>\n",
       "      <td>696113</td>\n",
       "    </tr>\n",
       "    <tr>\n",
       "      <th>15</th>\n",
       "      <td>628670</td>\n",
       "      <td>470633</td>\n",
       "      <td>883160</td>\n",
       "      <td>682059</td>\n",
       "    </tr>\n",
       "    <tr>\n",
       "      <th>16</th>\n",
       "      <td>597864</td>\n",
       "      <td>446864</td>\n",
       "      <td>841769</td>\n",
       "      <td>650972</td>\n",
       "    </tr>\n",
       "    <tr>\n",
       "      <th>17</th>\n",
       "      <td>491673</td>\n",
       "      <td>366517</td>\n",
       "      <td>695465</td>\n",
       "      <td>535797</td>\n",
       "    </tr>\n",
       "    <tr>\n",
       "      <th>18</th>\n",
       "      <td>389036</td>\n",
       "      <td>287653</td>\n",
       "      <td>544018</td>\n",
       "      <td>417215</td>\n",
       "    </tr>\n",
       "    <tr>\n",
       "      <th>19</th>\n",
       "      <td>296947</td>\n",
       "      <td>219466</td>\n",
       "      <td>423913</td>\n",
       "      <td>319056</td>\n",
       "    </tr>\n",
       "    <tr>\n",
       "      <th>20</th>\n",
       "      <td>231460</td>\n",
       "      <td>170886</td>\n",
       "      <td>324441</td>\n",
       "      <td>250230</td>\n",
       "    </tr>\n",
       "    <tr>\n",
       "      <th>21</th>\n",
       "      <td>189458</td>\n",
       "      <td>140483</td>\n",
       "      <td>266990</td>\n",
       "      <td>199431</td>\n",
       "    </tr>\n",
       "    <tr>\n",
       "      <th>22</th>\n",
       "      <td>151382</td>\n",
       "      <td>114599</td>\n",
       "      <td>209070</td>\n",
       "      <td>159686</td>\n",
       "    </tr>\n",
       "    <tr>\n",
       "      <th>23</th>\n",
       "      <td>92566</td>\n",
       "      <td>74806</td>\n",
       "      <td>135080</td>\n",
       "      <td>100160</td>\n",
       "    </tr>\n",
       "  </tbody>\n",
       "</table>\n",
       "</div>"
      ],
      "text/plain": [
       "Region             Midwest  Northeast   South    West\n",
       "order_hour_of_day                                    \n",
       "0                    50785      38587   73351   56219\n",
       "1                    27378      21568   37926   28914\n",
       "2                    16997      12449   21994   17991\n",
       "3                    11917       9227   17446   12727\n",
       "4                    12697       9516   17981   13089\n",
       "5                    19872      15413   30881   21891\n",
       "6                    67368      50605   98769   74028\n",
       "7                   208452     159145  298007  226324\n",
       "8                   398566     305673  579649  436064\n",
       "9                   573385     430570  823696  629010\n",
       "10                  647210     485320  924203  707657\n",
       "11                  642398     483329  910154  702704\n",
       "12                  612850     466078  869344  672528\n",
       "13                  619243     473144  880305  690580\n",
       "14                  625636     475816  893998  696113\n",
       "15                  628670     470633  883160  682059\n",
       "16                  597864     446864  841769  650972\n",
       "17                  491673     366517  695465  535797\n",
       "18                  389036     287653  544018  417215\n",
       "19                  296947     219466  423913  319056\n",
       "20                  231460     170886  324441  250230\n",
       "21                  189458     140483  266990  199431\n",
       "22                  151382     114599  209070  159686\n",
       "23                   92566      74806  135080  100160"
      ]
     },
     "execution_count": 125,
     "metadata": {},
     "output_type": "execute_result"
    }
   ],
   "source": [
    "crosstab_region_hours"
   ]
  },
  {
   "cell_type": "code",
   "execution_count": 126,
   "id": "869fab06",
   "metadata": {
    "scrolled": true
   },
   "outputs": [
    {
     "data": {
      "text/plain": [
       "<matplotlib.legend.Legend at 0x226825fb3d0>"
      ]
     },
     "execution_count": 126,
     "metadata": {},
     "output_type": "execute_result"
    },
    {
     "data": {
      "image/png": "[encoded data removed]",
      "text/plain": [
       "<Figure size 432x288 with 1 Axes>"
      ]
     },
     "metadata": {
      "needs_background": "light"
     },
     "output_type": "display_data"
    }
   ],
   "source": [
    "# Create Stacked Bar\n",
    "\n",
    "bar_region_hour = crosstab_region_hours.plot.bar(stacked = True, color = ['blue', 'yellow', 'green', 'red'])\n",
    "plt.legend(title = 'Region')"
   ]
  },
  {
   "cell_type": "code",
   "execution_count": 127,
   "id": "39ab645c",
   "metadata": {},
   "outputs": [],
   "source": [
    "# Export chart\n",
    "\n",
    "bar_region_hour.figure.savefig(os.path.join(path, '04 Analysis', 'Visualizations', 'bar_region_hour.png'))"
   ]
  },
  {
   "cell_type": "code",
   "execution_count": 128,
   "id": "0cf65340",
   "metadata": {},
   "outputs": [],
   "source": [
    "# Region and weekday\n",
    "\n",
    "crosstab_region_weekday = pd.crosstab(df['weekday'], df['Region'], dropna = False)"
   ]
  },
  {
   "cell_type": "code",
   "execution_count": 129,
   "id": "a82c46f9",
   "metadata": {
    "scrolled": true
   },
   "outputs": [
    {
     "data": {
      "text/html": [
       "<div>\n",
       "<style scoped>\n",
       "    .dataframe tbody tr th:only-of-type {\n",
       "        vertical-align: middle;\n",
       "    }\n",
       "\n",
       "    .dataframe tbody tr th {\n",
       "        vertical-align: top;\n",
       "    }\n",
       "\n",
       "    .dataframe thead th {\n",
       "        text-align: right;\n",
       "    }\n",
       "</style>\n",
       "<table border=\"1\" class=\"dataframe\">\n",
       "  <thead>\n",
       "    <tr style=\"text-align: right;\">\n",
       "      <th>Region</th>\n",
       "      <th>Midwest</th>\n",
       "      <th>Northeast</th>\n",
       "      <th>South</th>\n",
       "      <th>West</th>\n",
       "    </tr>\n",
       "    <tr>\n",
       "      <th>weekday</th>\n",
       "      <th></th>\n",
       "      <th></th>\n",
       "      <th></th>\n",
       "      <th></th>\n",
       "    </tr>\n",
       "  </thead>\n",
       "  <tbody>\n",
       "    <tr>\n",
       "      <th>Friday</th>\n",
       "      <td>1058902</td>\n",
       "      <td>787995</td>\n",
       "      <td>1498091</td>\n",
       "      <td>1155258</td>\n",
       "    </tr>\n",
       "    <tr>\n",
       "      <th>Monday</th>\n",
       "      <td>992673</td>\n",
       "      <td>746892</td>\n",
       "      <td>1405940</td>\n",
       "      <td>1072261</td>\n",
       "    </tr>\n",
       "    <tr>\n",
       "      <th>Saturday</th>\n",
       "      <td>1461356</td>\n",
       "      <td>1098361</td>\n",
       "      <td>2054551</td>\n",
       "      <td>1595364</td>\n",
       "    </tr>\n",
       "    <tr>\n",
       "      <th>Sunday</th>\n",
       "      <td>1322079</td>\n",
       "      <td>1000935</td>\n",
       "      <td>1893905</td>\n",
       "      <td>1448911</td>\n",
       "    </tr>\n",
       "    <tr>\n",
       "      <th>Thursday</th>\n",
       "      <td>984001</td>\n",
       "      <td>747209</td>\n",
       "      <td>1401009</td>\n",
       "      <td>1077230</td>\n",
       "    </tr>\n",
       "    <tr>\n",
       "      <th>Tuesday</th>\n",
       "      <td>895896</td>\n",
       "      <td>679977</td>\n",
       "      <td>1288493</td>\n",
       "      <td>979730</td>\n",
       "    </tr>\n",
       "    <tr>\n",
       "      <th>Wednesday</th>\n",
       "      <td>888903</td>\n",
       "      <td>666978</td>\n",
       "      <td>1259621</td>\n",
       "      <td>971691</td>\n",
       "    </tr>\n",
       "  </tbody>\n",
       "</table>\n",
       "</div>"
      ],
      "text/plain": [
       "Region     Midwest  Northeast    South     West\n",
       "weekday                                        \n",
       "Friday     1058902     787995  1498091  1155258\n",
       "Monday      992673     746892  1405940  1072261\n",
       "Saturday   1461356    1098361  2054551  1595364\n",
       "Sunday     1322079    1000935  1893905  1448911\n",
       "Thursday    984001     747209  1401009  1077230\n",
       "Tuesday     895896     679977  1288493   979730\n",
       "Wednesday   888903     666978  1259621   971691"
      ]
     },
     "execution_count": 129,
     "metadata": {},
     "output_type": "execute_result"
    }
   ],
   "source": [
    "crosstab_region_weekday"
   ]
  },
  {
   "cell_type": "code",
   "execution_count": 130,
   "id": "fb06607d",
   "metadata": {},
   "outputs": [
    {
     "data": {
      "text/plain": [
       "<matplotlib.legend.Legend at 0x22682735b50>"
      ]
     },
     "execution_count": 130,
     "metadata": {},
     "output_type": "execute_result"
    },
    {
     "data": {
      "image/png": "[encoded data removed]",
      "text/plain": [
       "<Figure size 432x288 with 1 Axes>"
      ]
     },
     "metadata": {
      "needs_background": "light"
     },
     "output_type": "display_data"
    }
   ],
   "source": [
    "# Create Stacked bar chart\n",
    "\n",
    "bar_region_weekday = crosstab_region_weekday.plot.bar(stacked = True, color = ['blue', 'yellow', 'green', 'red'])\n",
    "plt.legend(title = 'Region')"
   ]
  },
  {
   "cell_type": "code",
   "execution_count": 131,
   "id": "de20b50d",
   "metadata": {},
   "outputs": [],
   "source": [
    "# Export the chart\n",
    "\n",
    "bar_region_weekday.figure.savefig(os.path.join(path, '04 Analysis', 'Visualizations', 'bar_region_weekday.png'))"
   ]
  },
  {
   "cell_type": "code",
   "execution_count": 132,
   "id": "b9bc4e7c",
   "metadata": {},
   "outputs": [],
   "source": [
    "# Region and loyalty\n",
    "\n",
    "crosstab_region_loyalty = pd.crosstab(df['Region'], df['loyalty_flag'], dropna = False)"
   ]
  },
  {
   "cell_type": "code",
   "execution_count": 133,
   "id": "fb4c95d7",
   "metadata": {},
   "outputs": [
    {
     "data": {
      "text/html": [
       "<div>\n",
       "<style scoped>\n",
       "    .dataframe tbody tr th:only-of-type {\n",
       "        vertical-align: middle;\n",
       "    }\n",
       "\n",
       "    .dataframe tbody tr th {\n",
       "        vertical-align: top;\n",
       "    }\n",
       "\n",
       "    .dataframe thead th {\n",
       "        text-align: right;\n",
       "    }\n",
       "</style>\n",
       "<table border=\"1\" class=\"dataframe\">\n",
       "  <thead>\n",
       "    <tr style=\"text-align: right;\">\n",
       "      <th>loyalty_flag</th>\n",
       "      <th>Loyal customer</th>\n",
       "      <th>New customer</th>\n",
       "      <th>Regular customer</th>\n",
       "    </tr>\n",
       "    <tr>\n",
       "      <th>Region</th>\n",
       "      <th></th>\n",
       "      <th></th>\n",
       "      <th></th>\n",
       "    </tr>\n",
       "  </thead>\n",
       "  <tbody>\n",
       "    <tr>\n",
       "      <th>Midwest</th>\n",
       "      <td>2375969</td>\n",
       "      <td>1473837</td>\n",
       "      <td>3754004</td>\n",
       "    </tr>\n",
       "    <tr>\n",
       "      <th>Northeast</th>\n",
       "      <td>1843750</td>\n",
       "      <td>1101220</td>\n",
       "      <td>2783377</td>\n",
       "    </tr>\n",
       "    <tr>\n",
       "      <th>South</th>\n",
       "      <td>3408818</td>\n",
       "      <td>2076194</td>\n",
       "      <td>5316598</td>\n",
       "    </tr>\n",
       "    <tr>\n",
       "      <th>West</th>\n",
       "      <td>2665200</td>\n",
       "      <td>1598147</td>\n",
       "      <td>4037098</td>\n",
       "    </tr>\n",
       "  </tbody>\n",
       "</table>\n",
       "</div>"
      ],
      "text/plain": [
       "loyalty_flag  Loyal customer  New customer  Regular customer\n",
       "Region                                                      \n",
       "Midwest              2375969       1473837           3754004\n",
       "Northeast            1843750       1101220           2783377\n",
       "South                3408818       2076194           5316598\n",
       "West                 2665200       1598147           4037098"
      ]
     },
     "execution_count": 133,
     "metadata": {},
     "output_type": "execute_result"
    }
   ],
   "source": [
    "crosstab_region_loyalty"
   ]
  },
  {
   "cell_type": "code",
   "execution_count": 134,
   "id": "d08c3496",
   "metadata": {
    "scrolled": true
   },
   "outputs": [
    {
     "data": {
      "text/plain": [
       "<matplotlib.legend.Legend at 0x22682856520>"
      ]
     },
     "execution_count": 134,
     "metadata": {},
     "output_type": "execute_result"
    },
    {
     "data": {
      "image/png": "[encoded data removed]",
      "text/plain": [
       "<Figure size 432x288 with 1 Axes>"
      ]
     },
     "metadata": {
      "needs_background": "light"
     },
     "output_type": "display_data"
    }
   ],
   "source": [
    "# Create stacked bar chart\n",
    "\n",
    "bar_region_loyalty = crosstab_region_loyalty.plot.bar(stacked = True, color = ['blue', 'yellow', 'green'])\n",
    "plt.legend(title = 'Region')"
   ]
  },
  {
   "cell_type": "code",
   "execution_count": 135,
   "id": "63f03119",
   "metadata": {},
   "outputs": [],
   "source": [
    "# Export the chart\n",
    "\n",
    "bar_region_loyalty.figure.savefig(os.path.join(path, '04 Analysis', 'Visualizations', 'bar_region_loyalty.png'))"
   ]
  },
  {
   "cell_type": "code",
   "execution_count": 136,
   "id": "5b52e92b",
   "metadata": {},
   "outputs": [],
   "source": [
    "# Region and Family Status\n",
    "\n",
    "crosstab_region_Fam_status = pd.crosstab(df['Region'], df['Family_status'], dropna = False)"
   ]
  },
  {
   "cell_type": "code",
   "execution_count": 137,
   "id": "4caf3bda",
   "metadata": {},
   "outputs": [
    {
     "data": {
      "text/html": [
       "<div>\n",
       "<style scoped>\n",
       "    .dataframe tbody tr th:only-of-type {\n",
       "        vertical-align: middle;\n",
       "    }\n",
       "\n",
       "    .dataframe tbody tr th {\n",
       "        vertical-align: top;\n",
       "    }\n",
       "\n",
       "    .dataframe thead th {\n",
       "        text-align: right;\n",
       "    }\n",
       "</style>\n",
       "<table border=\"1\" class=\"dataframe\">\n",
       "  <thead>\n",
       "    <tr style=\"text-align: right;\">\n",
       "      <th>Family_status</th>\n",
       "      <th>divorced/widowed</th>\n",
       "      <th>living with parents and siblings</th>\n",
       "      <th>married</th>\n",
       "      <th>single</th>\n",
       "    </tr>\n",
       "    <tr>\n",
       "      <th>Region</th>\n",
       "      <th></th>\n",
       "      <th></th>\n",
       "      <th></th>\n",
       "      <th></th>\n",
       "    </tr>\n",
       "  </thead>\n",
       "  <tbody>\n",
       "    <tr>\n",
       "      <th>Midwest</th>\n",
       "      <td>646939</td>\n",
       "      <td>366785</td>\n",
       "      <td>5330068</td>\n",
       "      <td>1260018</td>\n",
       "    </tr>\n",
       "    <tr>\n",
       "      <th>Northeast</th>\n",
       "      <td>501556</td>\n",
       "      <td>268480</td>\n",
       "      <td>4040166</td>\n",
       "      <td>918145</td>\n",
       "    </tr>\n",
       "    <tr>\n",
       "      <th>South</th>\n",
       "      <td>921608</td>\n",
       "      <td>530050</td>\n",
       "      <td>7567385</td>\n",
       "      <td>1782567</td>\n",
       "    </tr>\n",
       "    <tr>\n",
       "      <th>West</th>\n",
       "      <td>704325</td>\n",
       "      <td>386787</td>\n",
       "      <td>5839294</td>\n",
       "      <td>1370039</td>\n",
       "    </tr>\n",
       "  </tbody>\n",
       "</table>\n",
       "</div>"
      ],
      "text/plain": [
       "Family_status  divorced/widowed  living with parents and siblings  married  \\\n",
       "Region                                                                       \n",
       "Midwest                  646939                            366785  5330068   \n",
       "Northeast                501556                            268480  4040166   \n",
       "South                    921608                            530050  7567385   \n",
       "West                     704325                            386787  5839294   \n",
       "\n",
       "Family_status   single  \n",
       "Region                  \n",
       "Midwest        1260018  \n",
       "Northeast       918145  \n",
       "South          1782567  \n",
       "West           1370039  "
      ]
     },
     "execution_count": 137,
     "metadata": {},
     "output_type": "execute_result"
    }
   ],
   "source": [
    "crosstab_region_Fam_status"
   ]
  },
  {
   "cell_type": "code",
   "execution_count": 138,
   "id": "de2b73df",
   "metadata": {},
   "outputs": [
    {
     "data": {
      "text/plain": [
       "<matplotlib.legend.Legend at 0x226828b4dc0>"
      ]
     },
     "execution_count": 138,
     "metadata": {},
     "output_type": "execute_result"
    },
    {
     "data": {
      "image/png": "[encoded data removed]",
      "text/plain": [
       "<Figure size 432x288 with 1 Axes>"
      ]
     },
     "metadata": {
      "needs_background": "light"
     },
     "output_type": "display_data"
    }
   ],
   "source": [
    "# Create Stacked Bar Chart\n",
    "\n",
    "bar_region_famstatus = crosstab_region_Fam_status.plot.bar(stacked = True, color = ['blue', 'yellow', 'green', 'red'])\n",
    "plt.legend(title = 'Family_status')"
   ]
  },
  {
   "cell_type": "code",
   "execution_count": 139,
   "id": "5b0bd1ef",
   "metadata": {},
   "outputs": [],
   "source": [
    "# Export chart\n",
    "\n",
    "bar_region_famstatus.figure.savefig(os.path.join(path, '04 Analysis', 'Visualizations', 'bar_region_famstatus.png'))"
   ]
  },
  {
   "cell_type": "markdown",
   "id": "96af74b7",
   "metadata": {},
   "source": [
    "### 7. Aggregate the max, mean and min variables on a customer-profile level for usage frequency and expenditure."
   ]
  },
  {
   "cell_type": "code",
   "execution_count": 140,
   "id": "7d8d9b70",
   "metadata": {},
   "outputs": [
    {
     "data": {
      "text/html": [
       "<div>\n",
       "<style scoped>\n",
       "    .dataframe tbody tr th:only-of-type {\n",
       "        vertical-align: middle;\n",
       "    }\n",
       "\n",
       "    .dataframe tbody tr th {\n",
       "        vertical-align: top;\n",
       "    }\n",
       "\n",
       "    .dataframe thead tr th {\n",
       "        text-align: left;\n",
       "    }\n",
       "\n",
       "    .dataframe thead tr:last-of-type th {\n",
       "        text-align: right;\n",
       "    }\n",
       "</style>\n",
       "<table border=\"1\" class=\"dataframe\">\n",
       "  <thead>\n",
       "    <tr>\n",
       "      <th></th>\n",
       "      <th colspan=\"3\" halign=\"left\">prices</th>\n",
       "    </tr>\n",
       "    <tr>\n",
       "      <th></th>\n",
       "      <th>max</th>\n",
       "      <th>mean</th>\n",
       "      <th>min</th>\n",
       "    </tr>\n",
       "    <tr>\n",
       "      <th>age_bracket</th>\n",
       "      <th></th>\n",
       "      <th></th>\n",
       "      <th></th>\n",
       "    </tr>\n",
       "  </thead>\n",
       "  <tbody>\n",
       "    <tr>\n",
       "      <th>18-20</th>\n",
       "      <td>99999</td>\n",
       "      <td>10.131371</td>\n",
       "      <td>1</td>\n",
       "    </tr>\n",
       "    <tr>\n",
       "      <th>21-30</th>\n",
       "      <td>99999</td>\n",
       "      <td>12.064667</td>\n",
       "      <td>1</td>\n",
       "    </tr>\n",
       "    <tr>\n",
       "      <th>31-40</th>\n",
       "      <td>99999</td>\n",
       "      <td>11.676949</td>\n",
       "      <td>1</td>\n",
       "    </tr>\n",
       "    <tr>\n",
       "      <th>41-50</th>\n",
       "      <td>99999</td>\n",
       "      <td>11.615481</td>\n",
       "      <td>1</td>\n",
       "    </tr>\n",
       "    <tr>\n",
       "      <th>51-60</th>\n",
       "      <td>99999</td>\n",
       "      <td>11.501928</td>\n",
       "      <td>1</td>\n",
       "    </tr>\n",
       "    <tr>\n",
       "      <th>61-70</th>\n",
       "      <td>99999</td>\n",
       "      <td>11.494016</td>\n",
       "      <td>1</td>\n",
       "    </tr>\n",
       "    <tr>\n",
       "      <th>71-80</th>\n",
       "      <td>99999</td>\n",
       "      <td>11.489368</td>\n",
       "      <td>1</td>\n",
       "    </tr>\n",
       "    <tr>\n",
       "      <th>80+</th>\n",
       "      <td>99999</td>\n",
       "      <td>9.700134</td>\n",
       "      <td>1</td>\n",
       "    </tr>\n",
       "  </tbody>\n",
       "</table>\n",
       "</div>"
      ],
      "text/plain": [
       "            prices               \n",
       "               max       mean min\n",
       "age_bracket                      \n",
       "18-20        99999  10.131371   1\n",
       "21-30        99999  12.064667   1\n",
       "31-40        99999  11.676949   1\n",
       "41-50        99999  11.615481   1\n",
       "51-60        99999  11.501928   1\n",
       "61-70        99999  11.494016   1\n",
       "71-80        99999  11.489368   1\n",
       "80+          99999   9.700134   1"
      ]
     },
     "execution_count": 140,
     "metadata": {},
     "output_type": "execute_result"
    }
   ],
   "source": [
    "# Age and expenditure\n",
    "\n",
    "df.groupby('age_bracket').agg({'prices': ['max', 'mean', 'min']})"
   ]
  },
  {
   "cell_type": "code",
   "execution_count": 141,
   "id": "6a719bc0",
   "metadata": {},
   "outputs": [
    {
     "data": {
      "text/html": [
       "<div>\n",
       "<style scoped>\n",
       "    .dataframe tbody tr th:only-of-type {\n",
       "        vertical-align: middle;\n",
       "    }\n",
       "\n",
       "    .dataframe tbody tr th {\n",
       "        vertical-align: top;\n",
       "    }\n",
       "\n",
       "    .dataframe thead tr th {\n",
       "        text-align: left;\n",
       "    }\n",
       "\n",
       "    .dataframe thead tr:last-of-type th {\n",
       "        text-align: right;\n",
       "    }\n",
       "</style>\n",
       "<table border=\"1\" class=\"dataframe\">\n",
       "  <thead>\n",
       "    <tr>\n",
       "      <th></th>\n",
       "      <th colspan=\"3\" halign=\"left\">frequency</th>\n",
       "    </tr>\n",
       "    <tr>\n",
       "      <th></th>\n",
       "      <th>max</th>\n",
       "      <th>mean</th>\n",
       "      <th>min</th>\n",
       "    </tr>\n",
       "    <tr>\n",
       "      <th>age_bracket</th>\n",
       "      <th></th>\n",
       "      <th></th>\n",
       "      <th></th>\n",
       "    </tr>\n",
       "  </thead>\n",
       "  <tbody>\n",
       "    <tr>\n",
       "      <th>18-20</th>\n",
       "      <td>30.0</td>\n",
       "      <td>9.640035</td>\n",
       "      <td>0.0</td>\n",
       "    </tr>\n",
       "    <tr>\n",
       "      <th>21-30</th>\n",
       "      <td>30.0</td>\n",
       "      <td>9.638961</td>\n",
       "      <td>0.0</td>\n",
       "    </tr>\n",
       "    <tr>\n",
       "      <th>31-40</th>\n",
       "      <td>30.0</td>\n",
       "      <td>9.622607</td>\n",
       "      <td>0.0</td>\n",
       "    </tr>\n",
       "    <tr>\n",
       "      <th>41-50</th>\n",
       "      <td>30.0</td>\n",
       "      <td>9.615832</td>\n",
       "      <td>0.0</td>\n",
       "    </tr>\n",
       "    <tr>\n",
       "      <th>51-60</th>\n",
       "      <td>30.0</td>\n",
       "      <td>9.646486</td>\n",
       "      <td>0.0</td>\n",
       "    </tr>\n",
       "    <tr>\n",
       "      <th>61-70</th>\n",
       "      <td>30.0</td>\n",
       "      <td>9.585110</td>\n",
       "      <td>0.0</td>\n",
       "    </tr>\n",
       "    <tr>\n",
       "      <th>71-80</th>\n",
       "      <td>30.0</td>\n",
       "      <td>9.589852</td>\n",
       "      <td>0.0</td>\n",
       "    </tr>\n",
       "    <tr>\n",
       "      <th>80+</th>\n",
       "      <td>30.0</td>\n",
       "      <td>9.631227</td>\n",
       "      <td>1.0</td>\n",
       "    </tr>\n",
       "  </tbody>\n",
       "</table>\n",
       "</div>"
      ],
      "text/plain": [
       "            frequency               \n",
       "                  max      mean  min\n",
       "age_bracket                         \n",
       "18-20            30.0  9.640035  0.0\n",
       "21-30            30.0  9.638961  0.0\n",
       "31-40            30.0  9.622607  0.0\n",
       "41-50            30.0  9.615832  0.0\n",
       "51-60            30.0  9.646486  0.0\n",
       "61-70            30.0  9.585110  0.0\n",
       "71-80            30.0  9.589852  0.0\n",
       "80+              30.0  9.631227  1.0"
      ]
     },
     "execution_count": 141,
     "metadata": {},
     "output_type": "execute_result"
    }
   ],
   "source": [
    "df.groupby('age_bracket').agg({'frequency': ['max', 'mean', 'min']})"
   ]
  },
  {
   "cell_type": "code",
   "execution_count": 142,
   "id": "b3810021",
   "metadata": {},
   "outputs": [
    {
     "data": {
      "text/html": [
       "<div>\n",
       "<style scoped>\n",
       "    .dataframe tbody tr th:only-of-type {\n",
       "        vertical-align: middle;\n",
       "    }\n",
       "\n",
       "    .dataframe tbody tr th {\n",
       "        vertical-align: top;\n",
       "    }\n",
       "\n",
       "    .dataframe thead tr th {\n",
       "        text-align: left;\n",
       "    }\n",
       "\n",
       "    .dataframe thead tr:last-of-type th {\n",
       "        text-align: right;\n",
       "    }\n",
       "</style>\n",
       "<table border=\"1\" class=\"dataframe\">\n",
       "  <thead>\n",
       "    <tr>\n",
       "      <th></th>\n",
       "      <th colspan=\"3\" halign=\"left\">days_since_prior_order</th>\n",
       "    </tr>\n",
       "    <tr>\n",
       "      <th></th>\n",
       "      <th>max</th>\n",
       "      <th>mean</th>\n",
       "      <th>min</th>\n",
       "    </tr>\n",
       "    <tr>\n",
       "      <th>age_bracket</th>\n",
       "      <th></th>\n",
       "      <th></th>\n",
       "      <th></th>\n",
       "    </tr>\n",
       "  </thead>\n",
       "  <tbody>\n",
       "    <tr>\n",
       "      <th>18-20</th>\n",
       "      <td>30.0</td>\n",
       "      <td>10.515923</td>\n",
       "      <td>0.0</td>\n",
       "    </tr>\n",
       "    <tr>\n",
       "      <th>21-30</th>\n",
       "      <td>30.0</td>\n",
       "      <td>10.483410</td>\n",
       "      <td>0.0</td>\n",
       "    </tr>\n",
       "    <tr>\n",
       "      <th>31-40</th>\n",
       "      <td>30.0</td>\n",
       "      <td>10.442939</td>\n",
       "      <td>0.0</td>\n",
       "    </tr>\n",
       "    <tr>\n",
       "      <th>41-50</th>\n",
       "      <td>30.0</td>\n",
       "      <td>10.460215</td>\n",
       "      <td>0.0</td>\n",
       "    </tr>\n",
       "    <tr>\n",
       "      <th>51-60</th>\n",
       "      <td>30.0</td>\n",
       "      <td>10.496769</td>\n",
       "      <td>0.0</td>\n",
       "    </tr>\n",
       "    <tr>\n",
       "      <th>61-70</th>\n",
       "      <td>30.0</td>\n",
       "      <td>10.438521</td>\n",
       "      <td>0.0</td>\n",
       "    </tr>\n",
       "    <tr>\n",
       "      <th>71-80</th>\n",
       "      <td>30.0</td>\n",
       "      <td>10.444821</td>\n",
       "      <td>0.0</td>\n",
       "    </tr>\n",
       "    <tr>\n",
       "      <th>80+</th>\n",
       "      <td>30.0</td>\n",
       "      <td>10.473548</td>\n",
       "      <td>0.0</td>\n",
       "    </tr>\n",
       "  </tbody>\n",
       "</table>\n",
       "</div>"
      ],
      "text/plain": [
       "            days_since_prior_order                \n",
       "                               max       mean  min\n",
       "age_bracket                                       \n",
       "18-20                         30.0  10.515923  0.0\n",
       "21-30                         30.0  10.483410  0.0\n",
       "31-40                         30.0  10.442939  0.0\n",
       "41-50                         30.0  10.460215  0.0\n",
       "51-60                         30.0  10.496769  0.0\n",
       "61-70                         30.0  10.438521  0.0\n",
       "71-80                         30.0  10.444821  0.0\n",
       "80+                           30.0  10.473548  0.0"
      ]
     },
     "execution_count": 142,
     "metadata": {},
     "output_type": "execute_result"
    }
   ],
   "source": [
    "df.groupby('age_bracket').agg({'days_since_prior_order': ['max', 'mean', 'min']})"
   ]
  },
  {
   "cell_type": "code",
   "execution_count": 143,
   "id": "206412b9",
   "metadata": {},
   "outputs": [
    {
     "data": {
      "text/html": [
       "<div>\n",
       "<style scoped>\n",
       "    .dataframe tbody tr th:only-of-type {\n",
       "        vertical-align: middle;\n",
       "    }\n",
       "\n",
       "    .dataframe tbody tr th {\n",
       "        vertical-align: top;\n",
       "    }\n",
       "\n",
       "    .dataframe thead tr th {\n",
       "        text-align: left;\n",
       "    }\n",
       "\n",
       "    .dataframe thead tr:last-of-type th {\n",
       "        text-align: right;\n",
       "    }\n",
       "</style>\n",
       "<table border=\"1\" class=\"dataframe\">\n",
       "  <thead>\n",
       "    <tr>\n",
       "      <th></th>\n",
       "      <th colspan=\"3\" halign=\"left\">prices</th>\n",
       "    </tr>\n",
       "    <tr>\n",
       "      <th></th>\n",
       "      <th>max</th>\n",
       "      <th>mean</th>\n",
       "      <th>min</th>\n",
       "    </tr>\n",
       "    <tr>\n",
       "      <th>Income_Range</th>\n",
       "      <th></th>\n",
       "      <th></th>\n",
       "      <th></th>\n",
       "    </tr>\n",
       "  </thead>\n",
       "  <tbody>\n",
       "    <tr>\n",
       "      <th>0 - 100k</th>\n",
       "      <td>99999</td>\n",
       "      <td>7.669870</td>\n",
       "      <td>1</td>\n",
       "    </tr>\n",
       "    <tr>\n",
       "      <th>100-200k</th>\n",
       "      <td>99999</td>\n",
       "      <td>11.732582</td>\n",
       "      <td>1</td>\n",
       "    </tr>\n",
       "    <tr>\n",
       "      <th>200-300k</th>\n",
       "      <td>99999</td>\n",
       "      <td>260.014319</td>\n",
       "      <td>1</td>\n",
       "    </tr>\n",
       "    <tr>\n",
       "      <th>300-400k</th>\n",
       "      <td>99999</td>\n",
       "      <td>308.764466</td>\n",
       "      <td>1</td>\n",
       "    </tr>\n",
       "    <tr>\n",
       "      <th>400-500k</th>\n",
       "      <td>99999</td>\n",
       "      <td>261.952715</td>\n",
       "      <td>1</td>\n",
       "    </tr>\n",
       "    <tr>\n",
       "      <th>Over 500k</th>\n",
       "      <td>99999</td>\n",
       "      <td>176.118936</td>\n",
       "      <td>1</td>\n",
       "    </tr>\n",
       "  </tbody>\n",
       "</table>\n",
       "</div>"
      ],
      "text/plain": [
       "             prices                \n",
       "                max        mean min\n",
       "Income_Range                       \n",
       "0 - 100k      99999    7.669870   1\n",
       "100-200k      99999   11.732582   1\n",
       "200-300k      99999  260.014319   1\n",
       "300-400k      99999  308.764466   1\n",
       "400-500k      99999  261.952715   1\n",
       "Over 500k     99999  176.118936   1"
      ]
     },
     "execution_count": 143,
     "metadata": {},
     "output_type": "execute_result"
    }
   ],
   "source": [
    "df.groupby('Income_Range').agg({'prices': ['max', 'mean', 'min']})"
   ]
  },
  {
   "cell_type": "code",
   "execution_count": 144,
   "id": "877311a4",
   "metadata": {},
   "outputs": [
    {
     "data": {
      "text/html": [
       "<div>\n",
       "<style scoped>\n",
       "    .dataframe tbody tr th:only-of-type {\n",
       "        vertical-align: middle;\n",
       "    }\n",
       "\n",
       "    .dataframe tbody tr th {\n",
       "        vertical-align: top;\n",
       "    }\n",
       "\n",
       "    .dataframe thead tr th {\n",
       "        text-align: left;\n",
       "    }\n",
       "\n",
       "    .dataframe thead tr:last-of-type th {\n",
       "        text-align: right;\n",
       "    }\n",
       "</style>\n",
       "<table border=\"1\" class=\"dataframe\">\n",
       "  <thead>\n",
       "    <tr>\n",
       "      <th></th>\n",
       "      <th colspan=\"3\" halign=\"left\">days_since_prior_order</th>\n",
       "    </tr>\n",
       "    <tr>\n",
       "      <th></th>\n",
       "      <th>max</th>\n",
       "      <th>mean</th>\n",
       "      <th>min</th>\n",
       "    </tr>\n",
       "    <tr>\n",
       "      <th>Income_Range</th>\n",
       "      <th></th>\n",
       "      <th></th>\n",
       "      <th></th>\n",
       "    </tr>\n",
       "  </thead>\n",
       "  <tbody>\n",
       "    <tr>\n",
       "      <th>0 - 100k</th>\n",
       "      <td>30.0</td>\n",
       "      <td>10.503894</td>\n",
       "      <td>0.0</td>\n",
       "    </tr>\n",
       "    <tr>\n",
       "      <th>100-200k</th>\n",
       "      <td>30.0</td>\n",
       "      <td>10.427925</td>\n",
       "      <td>0.0</td>\n",
       "    </tr>\n",
       "    <tr>\n",
       "      <th>200-300k</th>\n",
       "      <td>30.0</td>\n",
       "      <td>9.771923</td>\n",
       "      <td>0.0</td>\n",
       "    </tr>\n",
       "    <tr>\n",
       "      <th>300-400k</th>\n",
       "      <td>30.0</td>\n",
       "      <td>9.605929</td>\n",
       "      <td>0.0</td>\n",
       "    </tr>\n",
       "    <tr>\n",
       "      <th>400-500k</th>\n",
       "      <td>30.0</td>\n",
       "      <td>9.986281</td>\n",
       "      <td>0.0</td>\n",
       "    </tr>\n",
       "    <tr>\n",
       "      <th>Over 500k</th>\n",
       "      <td>30.0</td>\n",
       "      <td>9.901256</td>\n",
       "      <td>0.0</td>\n",
       "    </tr>\n",
       "  </tbody>\n",
       "</table>\n",
       "</div>"
      ],
      "text/plain": [
       "             days_since_prior_order                \n",
       "                                max       mean  min\n",
       "Income_Range                                       \n",
       "0 - 100k                       30.0  10.503894  0.0\n",
       "100-200k                       30.0  10.427925  0.0\n",
       "200-300k                       30.0   9.771923  0.0\n",
       "300-400k                       30.0   9.605929  0.0\n",
       "400-500k                       30.0   9.986281  0.0\n",
       "Over 500k                      30.0   9.901256  0.0"
      ]
     },
     "execution_count": 144,
     "metadata": {},
     "output_type": "execute_result"
    }
   ],
   "source": [
    "df.groupby('Income_Range').agg({'days_since_prior_order': ['max', 'mean', 'min']})"
   ]
  },
  {
   "cell_type": "code",
   "execution_count": 145,
   "id": "55834731",
   "metadata": {},
   "outputs": [
    {
     "data": {
      "text/html": [
       "<div>\n",
       "<style scoped>\n",
       "    .dataframe tbody tr th:only-of-type {\n",
       "        vertical-align: middle;\n",
       "    }\n",
       "\n",
       "    .dataframe tbody tr th {\n",
       "        vertical-align: top;\n",
       "    }\n",
       "\n",
       "    .dataframe thead tr th {\n",
       "        text-align: left;\n",
       "    }\n",
       "\n",
       "    .dataframe thead tr:last-of-type th {\n",
       "        text-align: right;\n",
       "    }\n",
       "</style>\n",
       "<table border=\"1\" class=\"dataframe\">\n",
       "  <thead>\n",
       "    <tr>\n",
       "      <th></th>\n",
       "      <th colspan=\"3\" halign=\"left\">prices</th>\n",
       "    </tr>\n",
       "    <tr>\n",
       "      <th></th>\n",
       "      <th>max</th>\n",
       "      <th>mean</th>\n",
       "      <th>min</th>\n",
       "    </tr>\n",
       "    <tr>\n",
       "      <th>Family_status</th>\n",
       "      <th></th>\n",
       "      <th></th>\n",
       "      <th></th>\n",
       "    </tr>\n",
       "  </thead>\n",
       "  <tbody>\n",
       "    <tr>\n",
       "      <th>divorced/widowed</th>\n",
       "      <td>99999</td>\n",
       "      <td>11.013583</td>\n",
       "      <td>1</td>\n",
       "    </tr>\n",
       "    <tr>\n",
       "      <th>living with parents and siblings</th>\n",
       "      <td>99999</td>\n",
       "      <td>10.388785</td>\n",
       "      <td>1</td>\n",
       "    </tr>\n",
       "    <tr>\n",
       "      <th>married</th>\n",
       "      <td>99999</td>\n",
       "      <td>11.564773</td>\n",
       "      <td>1</td>\n",
       "    </tr>\n",
       "    <tr>\n",
       "      <th>single</th>\n",
       "      <td>99999</td>\n",
       "      <td>12.039654</td>\n",
       "      <td>1</td>\n",
       "    </tr>\n",
       "  </tbody>\n",
       "</table>\n",
       "</div>"
      ],
      "text/plain": [
       "                                 prices               \n",
       "                                    max       mean min\n",
       "Family_status                                         \n",
       "divorced/widowed                  99999  11.013583   1\n",
       "living with parents and siblings  99999  10.388785   1\n",
       "married                           99999  11.564773   1\n",
       "single                            99999  12.039654   1"
      ]
     },
     "execution_count": 145,
     "metadata": {},
     "output_type": "execute_result"
    }
   ],
   "source": [
    "df.groupby('Family_status').agg({'prices': ['max', 'mean', 'min']})"
   ]
  },
  {
   "cell_type": "code",
   "execution_count": 146,
   "id": "150f2c5e",
   "metadata": {},
   "outputs": [
    {
     "data": {
      "text/html": [
       "<div>\n",
       "<style scoped>\n",
       "    .dataframe tbody tr th:only-of-type {\n",
       "        vertical-align: middle;\n",
       "    }\n",
       "\n",
       "    .dataframe tbody tr th {\n",
       "        vertical-align: top;\n",
       "    }\n",
       "\n",
       "    .dataframe thead tr th {\n",
       "        text-align: left;\n",
       "    }\n",
       "\n",
       "    .dataframe thead tr:last-of-type th {\n",
       "        text-align: right;\n",
       "    }\n",
       "</style>\n",
       "<table border=\"1\" class=\"dataframe\">\n",
       "  <thead>\n",
       "    <tr>\n",
       "      <th></th>\n",
       "      <th colspan=\"3\" halign=\"left\">days_since_prior_order</th>\n",
       "    </tr>\n",
       "    <tr>\n",
       "      <th></th>\n",
       "      <th>max</th>\n",
       "      <th>mean</th>\n",
       "      <th>min</th>\n",
       "    </tr>\n",
       "    <tr>\n",
       "      <th>Family_status</th>\n",
       "      <th></th>\n",
       "      <th></th>\n",
       "      <th></th>\n",
       "    </tr>\n",
       "  </thead>\n",
       "  <tbody>\n",
       "    <tr>\n",
       "      <th>divorced/widowed</th>\n",
       "      <td>30.0</td>\n",
       "      <td>10.411665</td>\n",
       "      <td>0.0</td>\n",
       "    </tr>\n",
       "    <tr>\n",
       "      <th>living with parents and siblings</th>\n",
       "      <td>30.0</td>\n",
       "      <td>10.416305</td>\n",
       "      <td>0.0</td>\n",
       "    </tr>\n",
       "    <tr>\n",
       "      <th>married</th>\n",
       "      <td>30.0</td>\n",
       "      <td>10.474735</td>\n",
       "      <td>0.0</td>\n",
       "    </tr>\n",
       "    <tr>\n",
       "      <th>single</th>\n",
       "      <td>30.0</td>\n",
       "      <td>10.458787</td>\n",
       "      <td>0.0</td>\n",
       "    </tr>\n",
       "  </tbody>\n",
       "</table>\n",
       "</div>"
      ],
      "text/plain": [
       "                                 days_since_prior_order                \n",
       "                                                    max       mean  min\n",
       "Family_status                                                          \n",
       "divorced/widowed                                   30.0  10.411665  0.0\n",
       "living with parents and siblings                   30.0  10.416305  0.0\n",
       "married                                            30.0  10.474735  0.0\n",
       "single                                             30.0  10.458787  0.0"
      ]
     },
     "execution_count": 146,
     "metadata": {},
     "output_type": "execute_result"
    }
   ],
   "source": [
    "df.groupby('Family_status').agg({'days_since_prior_order': ['max', 'mean', 'min']})"
   ]
  },
  {
   "cell_type": "code",
   "execution_count": 147,
   "id": "ff2aeee1",
   "metadata": {},
   "outputs": [
    {
     "data": {
      "text/html": [
       "<div>\n",
       "<style scoped>\n",
       "    .dataframe tbody tr th:only-of-type {\n",
       "        vertical-align: middle;\n",
       "    }\n",
       "\n",
       "    .dataframe tbody tr th {\n",
       "        vertical-align: top;\n",
       "    }\n",
       "\n",
       "    .dataframe thead tr th {\n",
       "        text-align: left;\n",
       "    }\n",
       "\n",
       "    .dataframe thead tr:last-of-type th {\n",
       "        text-align: right;\n",
       "    }\n",
       "</style>\n",
       "<table border=\"1\" class=\"dataframe\">\n",
       "  <thead>\n",
       "    <tr>\n",
       "      <th></th>\n",
       "      <th colspan=\"3\" halign=\"left\">prices</th>\n",
       "    </tr>\n",
       "    <tr>\n",
       "      <th></th>\n",
       "      <th>max</th>\n",
       "      <th>mean</th>\n",
       "      <th>min</th>\n",
       "    </tr>\n",
       "    <tr>\n",
       "      <th>Region</th>\n",
       "      <th></th>\n",
       "      <th></th>\n",
       "      <th></th>\n",
       "    </tr>\n",
       "  </thead>\n",
       "  <tbody>\n",
       "    <tr>\n",
       "      <th>Midwest</th>\n",
       "      <td>99999</td>\n",
       "      <td>12.273984</td>\n",
       "      <td>1</td>\n",
       "    </tr>\n",
       "    <tr>\n",
       "      <th>Northeast</th>\n",
       "      <td>99999</td>\n",
       "      <td>11.114829</td>\n",
       "      <td>1</td>\n",
       "    </tr>\n",
       "    <tr>\n",
       "      <th>South</th>\n",
       "      <td>99999</td>\n",
       "      <td>11.754529</td>\n",
       "      <td>1</td>\n",
       "    </tr>\n",
       "    <tr>\n",
       "      <th>West</th>\n",
       "      <td>99999</td>\n",
       "      <td>10.879513</td>\n",
       "      <td>1</td>\n",
       "    </tr>\n",
       "  </tbody>\n",
       "</table>\n",
       "</div>"
      ],
      "text/plain": [
       "          prices               \n",
       "             max       mean min\n",
       "Region                         \n",
       "Midwest    99999  12.273984   1\n",
       "Northeast  99999  11.114829   1\n",
       "South      99999  11.754529   1\n",
       "West       99999  10.879513   1"
      ]
     },
     "execution_count": 147,
     "metadata": {},
     "output_type": "execute_result"
    }
   ],
   "source": [
    "df.groupby('Region').agg({'prices': ['max', 'mean', 'min']})"
   ]
  },
  {
   "cell_type": "code",
   "execution_count": 148,
   "id": "ad433420",
   "metadata": {},
   "outputs": [
    {
     "data": {
      "text/html": [
       "<div>\n",
       "<style scoped>\n",
       "    .dataframe tbody tr th:only-of-type {\n",
       "        vertical-align: middle;\n",
       "    }\n",
       "\n",
       "    .dataframe tbody tr th {\n",
       "        vertical-align: top;\n",
       "    }\n",
       "\n",
       "    .dataframe thead tr th {\n",
       "        text-align: left;\n",
       "    }\n",
       "\n",
       "    .dataframe thead tr:last-of-type th {\n",
       "        text-align: right;\n",
       "    }\n",
       "</style>\n",
       "<table border=\"1\" class=\"dataframe\">\n",
       "  <thead>\n",
       "    <tr>\n",
       "      <th></th>\n",
       "      <th colspan=\"3\" halign=\"left\">spending</th>\n",
       "    </tr>\n",
       "    <tr>\n",
       "      <th></th>\n",
       "      <th>max</th>\n",
       "      <th>mean</th>\n",
       "      <th>min</th>\n",
       "    </tr>\n",
       "    <tr>\n",
       "      <th>Region</th>\n",
       "      <th></th>\n",
       "      <th></th>\n",
       "      <th></th>\n",
       "    </tr>\n",
       "  </thead>\n",
       "  <tbody>\n",
       "    <tr>\n",
       "      <th>Midwest</th>\n",
       "      <td>25005.425000</td>\n",
       "      <td>12.715745</td>\n",
       "      <td>1.0</td>\n",
       "    </tr>\n",
       "    <tr>\n",
       "      <th>Northeast</th>\n",
       "      <td>7414.485185</td>\n",
       "      <td>11.556398</td>\n",
       "      <td>1.1</td>\n",
       "    </tr>\n",
       "    <tr>\n",
       "      <th>South</th>\n",
       "      <td>15006.940000</td>\n",
       "      <td>12.196270</td>\n",
       "      <td>1.0</td>\n",
       "    </tr>\n",
       "    <tr>\n",
       "      <th>West</th>\n",
       "      <td>10209.987755</td>\n",
       "      <td>11.321374</td>\n",
       "      <td>1.0</td>\n",
       "    </tr>\n",
       "  </tbody>\n",
       "</table>\n",
       "</div>"
      ],
      "text/plain": [
       "               spending                \n",
       "                    max       mean  min\n",
       "Region                                 \n",
       "Midwest    25005.425000  12.715745  1.0\n",
       "Northeast   7414.485185  11.556398  1.1\n",
       "South      15006.940000  12.196270  1.0\n",
       "West       10209.987755  11.321374  1.0"
      ]
     },
     "execution_count": 148,
     "metadata": {},
     "output_type": "execute_result"
    }
   ],
   "source": [
    "df.groupby('Region').agg({'spending': ['max', 'mean', 'min']})"
   ]
  },
  {
   "cell_type": "markdown",
   "id": "f0d91031",
   "metadata": {},
   "source": [
    "### 8. Compare customer profiles with regions and departments. Identify a link between them?\n",
    "### Customers may demonstrate different behaviours across regions.\n",
    "\n",
    "### 9. Produce suitable charts to illustrate your results and export them in to the project folder."
   ]
  },
  {
   "cell_type": "code",
   "execution_count": 149,
   "id": "71878a37",
   "metadata": {},
   "outputs": [],
   "source": [
    "# Look at number of customers in each region\n",
    "\n",
    "crosstab_famstat_region = pd.crosstab(df['Family_status'], df['Region'], dropna = False)"
   ]
  },
  {
   "cell_type": "code",
   "execution_count": 150,
   "id": "035b26d6",
   "metadata": {},
   "outputs": [
    {
     "data": {
      "text/html": [
       "<div>\n",
       "<style scoped>\n",
       "    .dataframe tbody tr th:only-of-type {\n",
       "        vertical-align: middle;\n",
       "    }\n",
       "\n",
       "    .dataframe tbody tr th {\n",
       "        vertical-align: top;\n",
       "    }\n",
       "\n",
       "    .dataframe thead th {\n",
       "        text-align: right;\n",
       "    }\n",
       "</style>\n",
       "<table border=\"1\" class=\"dataframe\">\n",
       "  <thead>\n",
       "    <tr style=\"text-align: right;\">\n",
       "      <th>Region</th>\n",
       "      <th>Midwest</th>\n",
       "      <th>Northeast</th>\n",
       "      <th>South</th>\n",
       "      <th>West</th>\n",
       "    </tr>\n",
       "    <tr>\n",
       "      <th>Family_status</th>\n",
       "      <th></th>\n",
       "      <th></th>\n",
       "      <th></th>\n",
       "      <th></th>\n",
       "    </tr>\n",
       "  </thead>\n",
       "  <tbody>\n",
       "    <tr>\n",
       "      <th>divorced/widowed</th>\n",
       "      <td>646939</td>\n",
       "      <td>501556</td>\n",
       "      <td>921608</td>\n",
       "      <td>704325</td>\n",
       "    </tr>\n",
       "    <tr>\n",
       "      <th>living with parents and siblings</th>\n",
       "      <td>366785</td>\n",
       "      <td>268480</td>\n",
       "      <td>530050</td>\n",
       "      <td>386787</td>\n",
       "    </tr>\n",
       "    <tr>\n",
       "      <th>married</th>\n",
       "      <td>5330068</td>\n",
       "      <td>4040166</td>\n",
       "      <td>7567385</td>\n",
       "      <td>5839294</td>\n",
       "    </tr>\n",
       "    <tr>\n",
       "      <th>single</th>\n",
       "      <td>1260018</td>\n",
       "      <td>918145</td>\n",
       "      <td>1782567</td>\n",
       "      <td>1370039</td>\n",
       "    </tr>\n",
       "  </tbody>\n",
       "</table>\n",
       "</div>"
      ],
      "text/plain": [
       "Region                            Midwest  Northeast    South     West\n",
       "Family_status                                                         \n",
       "divorced/widowed                   646939     501556   921608   704325\n",
       "living with parents and siblings   366785     268480   530050   386787\n",
       "married                           5330068    4040166  7567385  5839294\n",
       "single                            1260018     918145  1782567  1370039"
      ]
     },
     "execution_count": 150,
     "metadata": {},
     "output_type": "execute_result"
    }
   ],
   "source": [
    "crosstab_famstat_region"
   ]
  },
  {
   "cell_type": "code",
   "execution_count": 151,
   "id": "da130669",
   "metadata": {},
   "outputs": [
    {
     "data": {
      "text/plain": [
       "<matplotlib.legend.Legend at 0x22682815d90>"
      ]
     },
     "execution_count": 151,
     "metadata": {},
     "output_type": "execute_result"
    },
    {
     "data": {
      "image/png": "[encoded data removed]",
      "text/plain": [
       "<Figure size 432x288 with 1 Axes>"
      ]
     },
     "metadata": {
      "needs_background": "light"
     },
     "output_type": "display_data"
    }
   ],
   "source": [
    "# Create stacked bar chart\n",
    "\n",
    "bar_famstat_region = crosstab_famstat_region.plot.bar(stacked = True, color = ['orange', 'green', 'red', 'blue'])\n",
    "plt.legend(title = 'Family Status')"
   ]
  },
  {
   "cell_type": "code",
   "execution_count": 152,
   "id": "0e4f5a06",
   "metadata": {},
   "outputs": [],
   "source": [
    "# Export Chart\n",
    "\n",
    "bar_famstat_region.figure.savefig(os.path.join(path, '04 Analysis', 'Visualizations', 'bar_famstat_region.png'))"
   ]
  },
  {
   "cell_type": "code",
   "execution_count": 153,
   "id": "efd91adf",
   "metadata": {
    "scrolled": true
   },
   "outputs": [],
   "source": [
    "# Department and Region\n",
    "\n",
    "crosstab_dept_region = pd.crosstab(df['department'], df['Region'], dropna = False)"
   ]
  },
  {
   "cell_type": "code",
   "execution_count": 154,
   "id": "6614a477",
   "metadata": {},
   "outputs": [
    {
     "data": {
      "text/html": [
       "<div>\n",
       "<style scoped>\n",
       "    .dataframe tbody tr th:only-of-type {\n",
       "        vertical-align: middle;\n",
       "    }\n",
       "\n",
       "    .dataframe tbody tr th {\n",
       "        vertical-align: top;\n",
       "    }\n",
       "\n",
       "    .dataframe thead th {\n",
       "        text-align: right;\n",
       "    }\n",
       "</style>\n",
       "<table border=\"1\" class=\"dataframe\">\n",
       "  <thead>\n",
       "    <tr style=\"text-align: right;\">\n",
       "      <th>Region</th>\n",
       "      <th>Midwest</th>\n",
       "      <th>Northeast</th>\n",
       "      <th>South</th>\n",
       "      <th>West</th>\n",
       "    </tr>\n",
       "    <tr>\n",
       "      <th>department</th>\n",
       "      <th></th>\n",
       "      <th></th>\n",
       "      <th></th>\n",
       "      <th></th>\n",
       "    </tr>\n",
       "  </thead>\n",
       "  <tbody>\n",
       "    <tr>\n",
       "      <th>alcohol</th>\n",
       "      <td>36195</td>\n",
       "      <td>26559</td>\n",
       "      <td>51633</td>\n",
       "      <td>39356</td>\n",
       "    </tr>\n",
       "    <tr>\n",
       "      <th>babies</th>\n",
       "      <td>98983</td>\n",
       "      <td>75139</td>\n",
       "      <td>143654</td>\n",
       "      <td>106026</td>\n",
       "    </tr>\n",
       "    <tr>\n",
       "      <th>bakery</th>\n",
       "      <td>274777</td>\n",
       "      <td>209468</td>\n",
       "      <td>390294</td>\n",
       "      <td>302248</td>\n",
       "    </tr>\n",
       "    <tr>\n",
       "      <th>beverages</th>\n",
       "      <td>625585</td>\n",
       "      <td>483422</td>\n",
       "      <td>898957</td>\n",
       "      <td>680195</td>\n",
       "    </tr>\n",
       "    <tr>\n",
       "      <th>breakfast</th>\n",
       "      <td>165269</td>\n",
       "      <td>125068</td>\n",
       "      <td>236753</td>\n",
       "      <td>183557</td>\n",
       "    </tr>\n",
       "    <tr>\n",
       "      <th>bulk</th>\n",
       "      <td>8193</td>\n",
       "      <td>5802</td>\n",
       "      <td>11533</td>\n",
       "      <td>9045</td>\n",
       "    </tr>\n",
       "    <tr>\n",
       "      <th>canned goods</th>\n",
       "      <td>250702</td>\n",
       "      <td>186755</td>\n",
       "      <td>356015</td>\n",
       "      <td>274586</td>\n",
       "    </tr>\n",
       "    <tr>\n",
       "      <th>dairy eggs</th>\n",
       "      <td>1267696</td>\n",
       "      <td>956809</td>\n",
       "      <td>1801966</td>\n",
       "      <td>1387545</td>\n",
       "    </tr>\n",
       "    <tr>\n",
       "      <th>deli</th>\n",
       "      <td>245678</td>\n",
       "      <td>186817</td>\n",
       "      <td>349419</td>\n",
       "      <td>269335</td>\n",
       "    </tr>\n",
       "    <tr>\n",
       "      <th>dry goods pasta</th>\n",
       "      <td>203769</td>\n",
       "      <td>151816</td>\n",
       "      <td>287444</td>\n",
       "      <td>223598</td>\n",
       "    </tr>\n",
       "    <tr>\n",
       "      <th>frozen</th>\n",
       "      <td>524404</td>\n",
       "      <td>391311</td>\n",
       "      <td>748463</td>\n",
       "      <td>572254</td>\n",
       "    </tr>\n",
       "    <tr>\n",
       "      <th>households</th>\n",
       "      <td>175824</td>\n",
       "      <td>131485</td>\n",
       "      <td>243070</td>\n",
       "      <td>188287</td>\n",
       "    </tr>\n",
       "    <tr>\n",
       "      <th>international</th>\n",
       "      <td>63736</td>\n",
       "      <td>46891</td>\n",
       "      <td>89142</td>\n",
       "      <td>69484</td>\n",
       "    </tr>\n",
       "    <tr>\n",
       "      <th>meat seafood</th>\n",
       "      <td>166130</td>\n",
       "      <td>124621</td>\n",
       "      <td>235754</td>\n",
       "      <td>182426</td>\n",
       "    </tr>\n",
       "    <tr>\n",
       "      <th>missing</th>\n",
       "      <td>16535</td>\n",
       "      <td>12374</td>\n",
       "      <td>23193</td>\n",
       "      <td>17043</td>\n",
       "    </tr>\n",
       "    <tr>\n",
       "      <th>other</th>\n",
       "      <td>8420</td>\n",
       "      <td>6585</td>\n",
       "      <td>12212</td>\n",
       "      <td>9074</td>\n",
       "    </tr>\n",
       "    <tr>\n",
       "      <th>pantry</th>\n",
       "      <td>442134</td>\n",
       "      <td>329479</td>\n",
       "      <td>622529</td>\n",
       "      <td>481435</td>\n",
       "    </tr>\n",
       "    <tr>\n",
       "      <th>personal care</th>\n",
       "      <td>105772</td>\n",
       "      <td>78831</td>\n",
       "      <td>150410</td>\n",
       "      <td>112678</td>\n",
       "    </tr>\n",
       "    <tr>\n",
       "      <th>pets</th>\n",
       "      <td>22356</td>\n",
       "      <td>18601</td>\n",
       "      <td>31272</td>\n",
       "      <td>25495</td>\n",
       "    </tr>\n",
       "    <tr>\n",
       "      <th>produce</th>\n",
       "      <td>2227937</td>\n",
       "      <td>1665839</td>\n",
       "      <td>3160551</td>\n",
       "      <td>2424964</td>\n",
       "    </tr>\n",
       "    <tr>\n",
       "      <th>snacks</th>\n",
       "      <td>673715</td>\n",
       "      <td>514675</td>\n",
       "      <td>957346</td>\n",
       "      <td>741814</td>\n",
       "    </tr>\n",
       "  </tbody>\n",
       "</table>\n",
       "</div>"
      ],
      "text/plain": [
       "Region           Midwest  Northeast    South     West\n",
       "department                                           \n",
       "alcohol            36195      26559    51633    39356\n",
       "babies             98983      75139   143654   106026\n",
       "bakery            274777     209468   390294   302248\n",
       "beverages         625585     483422   898957   680195\n",
       "breakfast         165269     125068   236753   183557\n",
       "bulk                8193       5802    11533     9045\n",
       "canned goods      250702     186755   356015   274586\n",
       "dairy eggs       1267696     956809  1801966  1387545\n",
       "deli              245678     186817   349419   269335\n",
       "dry goods pasta   203769     151816   287444   223598\n",
       "frozen            524404     391311   748463   572254\n",
       "households        175824     131485   243070   188287\n",
       "international      63736      46891    89142    69484\n",
       "meat seafood      166130     124621   235754   182426\n",
       "missing            16535      12374    23193    17043\n",
       "other               8420       6585    12212     9074\n",
       "pantry            442134     329479   622529   481435\n",
       "personal care     105772      78831   150410   112678\n",
       "pets               22356      18601    31272    25495\n",
       "produce          2227937    1665839  3160551  2424964\n",
       "snacks            673715     514675   957346   741814"
      ]
     },
     "execution_count": 154,
     "metadata": {},
     "output_type": "execute_result"
    }
   ],
   "source": [
    "crosstab_dept_region"
   ]
  },
  {
   "cell_type": "code",
   "execution_count": 155,
   "id": "4a9d5285",
   "metadata": {},
   "outputs": [
    {
     "data": {
      "text/plain": [
       "<matplotlib.legend.Legend at 0x22682945df0>"
      ]
     },
     "execution_count": 155,
     "metadata": {},
     "output_type": "execute_result"
    },
    {
     "data": {
      "image/png": "[encoded data removed]",
      "text/plain": [
       "<Figure size 432x288 with 1 Axes>"
      ]
     },
     "metadata": {
      "needs_background": "light"
     },
     "output_type": "display_data"
    }
   ],
   "source": [
    "# Create stacked bar chart\n",
    "\n",
    "bar_dept_region = crosstab_dept_region.plot.bar(stacked = True, color = ['blue', 'yellow', 'green', 'red'])\n",
    "plt.legend(title = 'Region')"
   ]
  },
  {
   "cell_type": "code",
   "execution_count": 156,
   "id": "ad78abdc",
   "metadata": {},
   "outputs": [],
   "source": [
    "#Export the chart\n",
    "\n",
    "bar_dept_region.figure.savefig(os.path.join(path, '04 Analysis', 'Visualizations', 'bar_dept_region.png'))"
   ]
  },
  {
   "cell_type": "code",
   "execution_count": 157,
   "id": "783f6618",
   "metadata": {},
   "outputs": [
    {
     "data": {
      "image/png": "[encoded data removed]",
      "text/plain": [
       "<Figure size 432x288 with 1 Axes>"
      ]
     },
     "metadata": {
      "needs_background": "light"
     },
     "output_type": "display_data"
    }
   ],
   "source": [
    "# 100% stacked bar chart\n",
    "\n",
    "bar_dept_region_100 = crosstab_dept_region.apply(lambda r: r/r.sum()*100, axis=1).plot(kind = 'bar', stacked = True, color = sns.color_palette('plasma',4))\n",
    "plt.tight_layout()"
   ]
  },
  {
   "cell_type": "code",
   "execution_count": 158,
   "id": "f96378f1",
   "metadata": {},
   "outputs": [],
   "source": [
    "# Export Chart\n",
    "\n",
    "bar_dept_region_100.figure.savefig(os.path.join(path, '04 Analysis', 'Visualizations', 'bar_dept_region_100.png'))"
   ]
  },
  {
   "cell_type": "code",
   "execution_count": 159,
   "id": "7df03a39",
   "metadata": {},
   "outputs": [],
   "source": [
    "# Look at Region and the Spending Flag\n",
    "\n",
    "crosstab_region_spending = pd.crosstab(df['Region'], df['spending_flag'], dropna = False)"
   ]
  },
  {
   "cell_type": "code",
   "execution_count": 160,
   "id": "5f4dba66",
   "metadata": {},
   "outputs": [
    {
     "data": {
      "text/html": [
       "<div>\n",
       "<style scoped>\n",
       "    .dataframe tbody tr th:only-of-type {\n",
       "        vertical-align: middle;\n",
       "    }\n",
       "\n",
       "    .dataframe tbody tr th {\n",
       "        vertical-align: top;\n",
       "    }\n",
       "\n",
       "    .dataframe thead th {\n",
       "        text-align: right;\n",
       "    }\n",
       "</style>\n",
       "<table border=\"1\" class=\"dataframe\">\n",
       "  <thead>\n",
       "    <tr style=\"text-align: right;\">\n",
       "      <th>spending_flag</th>\n",
       "      <th>High Spender</th>\n",
       "      <th>Low Spender</th>\n",
       "    </tr>\n",
       "    <tr>\n",
       "      <th>Region</th>\n",
       "      <th></th>\n",
       "      <th></th>\n",
       "    </tr>\n",
       "  </thead>\n",
       "  <tbody>\n",
       "    <tr>\n",
       "      <th>Midwest</th>\n",
       "      <td>156100</td>\n",
       "      <td>7447710</td>\n",
       "    </tr>\n",
       "    <tr>\n",
       "      <th>Northeast</th>\n",
       "      <td>108336</td>\n",
       "      <td>5620011</td>\n",
       "    </tr>\n",
       "    <tr>\n",
       "      <th>South</th>\n",
       "      <td>210128</td>\n",
       "      <td>10591482</td>\n",
       "    </tr>\n",
       "    <tr>\n",
       "      <th>West</th>\n",
       "      <td>160769</td>\n",
       "      <td>8139676</td>\n",
       "    </tr>\n",
       "  </tbody>\n",
       "</table>\n",
       "</div>"
      ],
      "text/plain": [
       "spending_flag  High Spender  Low Spender\n",
       "Region                                  \n",
       "Midwest              156100      7447710\n",
       "Northeast            108336      5620011\n",
       "South                210128     10591482\n",
       "West                 160769      8139676"
      ]
     },
     "execution_count": 160,
     "metadata": {},
     "output_type": "execute_result"
    }
   ],
   "source": [
    "crosstab_region_spending"
   ]
  },
  {
   "cell_type": "code",
   "execution_count": 161,
   "id": "a7a80845",
   "metadata": {},
   "outputs": [
    {
     "data": {
      "text/plain": [
       "<matplotlib.legend.Legend at 0x226a16329d0>"
      ]
     },
     "execution_count": 161,
     "metadata": {},
     "output_type": "execute_result"
    },
    {
     "data": {
      "image/png": "[encoded data removed]",
      "text/plain": [
       "<Figure size 432x288 with 1 Axes>"
      ]
     },
     "metadata": {
      "needs_background": "light"
     },
     "output_type": "display_data"
    }
   ],
   "source": [
    "bar_region_spend = crosstab_region_spending.plot.bar(stacked = True, color = ['limegreen', 'orchid'])\n",
    "plt.legend(title = 'Region')"
   ]
  },
  {
   "cell_type": "code",
   "execution_count": 162,
   "id": "98b8f113",
   "metadata": {},
   "outputs": [],
   "source": [
    "# Export\n",
    "\n",
    "bar_region_spend.figure.savefig(os.path.join(path, '04 Analysis', 'Visualizations', 'bar_region_spend.png'))"
   ]
  },
  {
   "cell_type": "code",
   "execution_count": 163,
   "id": "d494499d",
   "metadata": {},
   "outputs": [],
   "source": [
    "# Look at Frequency Flag and products\n",
    "\n",
    "crosstab_freq_dept = pd.crosstab(df['department'], df['frequency_flag'], dropna = False)"
   ]
  },
  {
   "cell_type": "code",
   "execution_count": 164,
   "id": "669d2401",
   "metadata": {},
   "outputs": [
    {
     "data": {
      "text/html": [
       "<div>\n",
       "<style scoped>\n",
       "    .dataframe tbody tr th:only-of-type {\n",
       "        vertical-align: middle;\n",
       "    }\n",
       "\n",
       "    .dataframe tbody tr th {\n",
       "        vertical-align: top;\n",
       "    }\n",
       "\n",
       "    .dataframe thead th {\n",
       "        text-align: right;\n",
       "    }\n",
       "</style>\n",
       "<table border=\"1\" class=\"dataframe\">\n",
       "  <thead>\n",
       "    <tr style=\"text-align: right;\">\n",
       "      <th>frequency_flag</th>\n",
       "      <th>Frequent Customer</th>\n",
       "      <th>Non-frequent customer</th>\n",
       "      <th>Regular customer</th>\n",
       "    </tr>\n",
       "    <tr>\n",
       "      <th>department</th>\n",
       "      <th></th>\n",
       "      <th></th>\n",
       "      <th></th>\n",
       "    </tr>\n",
       "  </thead>\n",
       "  <tbody>\n",
       "    <tr>\n",
       "      <th>alcohol</th>\n",
       "      <td>109946</td>\n",
       "      <td>12630</td>\n",
       "      <td>31167</td>\n",
       "    </tr>\n",
       "    <tr>\n",
       "      <th>babies</th>\n",
       "      <td>332714</td>\n",
       "      <td>22546</td>\n",
       "      <td>68542</td>\n",
       "    </tr>\n",
       "    <tr>\n",
       "      <th>bakery</th>\n",
       "      <td>831171</td>\n",
       "      <td>95408</td>\n",
       "      <td>250208</td>\n",
       "    </tr>\n",
       "    <tr>\n",
       "      <th>beverages</th>\n",
       "      <td>1884772</td>\n",
       "      <td>227508</td>\n",
       "      <td>575879</td>\n",
       "    </tr>\n",
       "    <tr>\n",
       "      <th>breakfast</th>\n",
       "      <td>494989</td>\n",
       "      <td>60725</td>\n",
       "      <td>154933</td>\n",
       "    </tr>\n",
       "    <tr>\n",
       "      <th>bulk</th>\n",
       "      <td>26300</td>\n",
       "      <td>2202</td>\n",
       "      <td>6071</td>\n",
       "    </tr>\n",
       "    <tr>\n",
       "      <th>canned goods</th>\n",
       "      <td>716976</td>\n",
       "      <td>102117</td>\n",
       "      <td>248965</td>\n",
       "    </tr>\n",
       "    <tr>\n",
       "      <th>dairy eggs</th>\n",
       "      <td>3885121</td>\n",
       "      <td>418663</td>\n",
       "      <td>1110232</td>\n",
       "    </tr>\n",
       "    <tr>\n",
       "      <th>deli</th>\n",
       "      <td>726875</td>\n",
       "      <td>90904</td>\n",
       "      <td>233470</td>\n",
       "    </tr>\n",
       "    <tr>\n",
       "      <th>dry goods pasta</th>\n",
       "      <td>579752</td>\n",
       "      <td>82298</td>\n",
       "      <td>204577</td>\n",
       "    </tr>\n",
       "    <tr>\n",
       "      <th>frozen</th>\n",
       "      <td>1488558</td>\n",
       "      <td>213283</td>\n",
       "      <td>534591</td>\n",
       "    </tr>\n",
       "    <tr>\n",
       "      <th>households</th>\n",
       "      <td>476580</td>\n",
       "      <td>80467</td>\n",
       "      <td>181619</td>\n",
       "    </tr>\n",
       "    <tr>\n",
       "      <th>international</th>\n",
       "      <td>184955</td>\n",
       "      <td>24253</td>\n",
       "      <td>60045</td>\n",
       "    </tr>\n",
       "    <tr>\n",
       "      <th>meat seafood</th>\n",
       "      <td>487477</td>\n",
       "      <td>62267</td>\n",
       "      <td>159187</td>\n",
       "    </tr>\n",
       "    <tr>\n",
       "      <th>missing</th>\n",
       "      <td>52714</td>\n",
       "      <td>4126</td>\n",
       "      <td>12305</td>\n",
       "    </tr>\n",
       "    <tr>\n",
       "      <th>other</th>\n",
       "      <td>25535</td>\n",
       "      <td>3126</td>\n",
       "      <td>7630</td>\n",
       "    </tr>\n",
       "    <tr>\n",
       "      <th>pantry</th>\n",
       "      <td>1292837</td>\n",
       "      <td>170212</td>\n",
       "      <td>412528</td>\n",
       "    </tr>\n",
       "    <tr>\n",
       "      <th>personal care</th>\n",
       "      <td>298834</td>\n",
       "      <td>43991</td>\n",
       "      <td>104866</td>\n",
       "    </tr>\n",
       "    <tr>\n",
       "      <th>pets</th>\n",
       "      <td>64048</td>\n",
       "      <td>8990</td>\n",
       "      <td>24686</td>\n",
       "    </tr>\n",
       "    <tr>\n",
       "      <th>produce</th>\n",
       "      <td>6818627</td>\n",
       "      <td>726178</td>\n",
       "      <td>1934486</td>\n",
       "    </tr>\n",
       "    <tr>\n",
       "      <th>snacks</th>\n",
       "      <td>2035192</td>\n",
       "      <td>238093</td>\n",
       "      <td>614265</td>\n",
       "    </tr>\n",
       "  </tbody>\n",
       "</table>\n",
       "</div>"
      ],
      "text/plain": [
       "frequency_flag   Frequent Customer  Non-frequent customer  Regular customer\n",
       "department                                                                 \n",
       "alcohol                     109946                  12630             31167\n",
       "babies                      332714                  22546             68542\n",
       "bakery                      831171                  95408            250208\n",
       "beverages                  1884772                 227508            575879\n",
       "breakfast                   494989                  60725            154933\n",
       "bulk                         26300                   2202              6071\n",
       "canned goods                716976                 102117            248965\n",
       "dairy eggs                 3885121                 418663           1110232\n",
       "deli                        726875                  90904            233470\n",
       "dry goods pasta             579752                  82298            204577\n",
       "frozen                     1488558                 213283            534591\n",
       "households                  476580                  80467            181619\n",
       "international               184955                  24253             60045\n",
       "meat seafood                487477                  62267            159187\n",
       "missing                      52714                   4126             12305\n",
       "other                        25535                   3126              7630\n",
       "pantry                     1292837                 170212            412528\n",
       "personal care               298834                  43991            104866\n",
       "pets                         64048                   8990             24686\n",
       "produce                    6818627                 726178           1934486\n",
       "snacks                     2035192                 238093            614265"
      ]
     },
     "execution_count": 164,
     "metadata": {},
     "output_type": "execute_result"
    }
   ],
   "source": [
    "crosstab_freq_dept"
   ]
  },
  {
   "cell_type": "code",
   "execution_count": 165,
   "id": "f06e645f",
   "metadata": {},
   "outputs": [
    {
     "data": {
      "text/plain": [
       "<matplotlib.legend.Legend at 0x226a16bd7f0>"
      ]
     },
     "execution_count": 165,
     "metadata": {},
     "output_type": "execute_result"
    },
    {
     "data": {
      "image/png": "[encoded data removed]",
      "text/plain": [
       "<Figure size 432x288 with 1 Axes>"
      ]
     },
     "metadata": {
      "needs_background": "light"
     },
     "output_type": "display_data"
    }
   ],
   "source": [
    "# Create stacked bar chart\n",
    "\n",
    "bar_freq_dept = crosstab_freq_dept.plot.bar(stacked = True, color = sns.color_palette('husl'))\n",
    "plt.legend(title = 'frequency_flag')"
   ]
  },
  {
   "cell_type": "code",
   "execution_count": 166,
   "id": "1dce507a",
   "metadata": {},
   "outputs": [],
   "source": [
    "# Export\n",
    "\n",
    "bar_freq_dept.figure.savefig(os.path.join(path, '04 Analysis', 'Visualizations', 'bar_freq_dept.png'))"
   ]
  },
  {
   "cell_type": "code",
   "execution_count": 167,
   "id": "1696923d",
   "metadata": {},
   "outputs": [
    {
     "data": {
      "text/plain": [
       "Frequent Customer        22813973\n",
       "Regular customer          6930252\n",
       "Non-frequent customer     2689987\n",
       "Name: frequency_flag, dtype: int64"
      ]
     },
     "execution_count": 167,
     "metadata": {},
     "output_type": "execute_result"
    }
   ],
   "source": [
    "df['frequency_flag'].value_counts()"
   ]
  },
  {
   "cell_type": "code",
   "execution_count": 168,
   "id": "fd3db4ca",
   "metadata": {},
   "outputs": [
    {
     "data": {
      "image/png": "[encoded data removed]",
      "text/plain": [
       "<Figure size 432x288 with 1 Axes>"
      ]
     },
     "metadata": {},
     "output_type": "display_data"
    }
   ],
   "source": [
    "# Frequent Customers\n",
    "\n",
    "labels = 'Frequent customer', 'Non-frequent customer', 'Regular customer'\n",
    "sizes = [22813973, 6930252, 2689987]\n",
    "\n",
    "fig2, ax2 = plt.subplots()\n",
    "ax2.pie(sizes, labels=labels, autopct='%1.1f%%')\n",
    "ax2.axis('equal')\n",
    "ax2.set_title('Customer Frequencies')\n",
    "\n",
    "plt.show()"
   ]
  },
  {
   "cell_type": "code",
   "execution_count": 169,
   "id": "ace57add",
   "metadata": {},
   "outputs": [],
   "source": [
    "# Export\n",
    "\n",
    "ax2.figure.savefig(os.path.join(path, '04 Analysis', 'Visualizations', 'pie_cust_freq.png'))"
   ]
  },
  {
   "cell_type": "code",
   "execution_count": 170,
   "id": "6e7081e5",
   "metadata": {},
   "outputs": [],
   "source": [
    "# Parental status and region\n",
    "\n",
    "crosstab_parstat_region = pd.crosstab(df['parental_status'], df['Region'], dropna = False)"
   ]
  },
  {
   "cell_type": "code",
   "execution_count": 171,
   "id": "5e868169",
   "metadata": {},
   "outputs": [
    {
     "data": {
      "text/html": [
       "<div>\n",
       "<style scoped>\n",
       "    .dataframe tbody tr th:only-of-type {\n",
       "        vertical-align: middle;\n",
       "    }\n",
       "\n",
       "    .dataframe tbody tr th {\n",
       "        vertical-align: top;\n",
       "    }\n",
       "\n",
       "    .dataframe thead th {\n",
       "        text-align: right;\n",
       "    }\n",
       "</style>\n",
       "<table border=\"1\" class=\"dataframe\">\n",
       "  <thead>\n",
       "    <tr style=\"text-align: right;\">\n",
       "      <th>Region</th>\n",
       "      <th>Midwest</th>\n",
       "      <th>Northeast</th>\n",
       "      <th>South</th>\n",
       "      <th>West</th>\n",
       "    </tr>\n",
       "    <tr>\n",
       "      <th>parental_status</th>\n",
       "      <th></th>\n",
       "      <th></th>\n",
       "      <th></th>\n",
       "      <th></th>\n",
       "    </tr>\n",
       "  </thead>\n",
       "  <tbody>\n",
       "    <tr>\n",
       "      <th>Not a Parent</th>\n",
       "      <td>1906957</td>\n",
       "      <td>1419701</td>\n",
       "      <td>2704175</td>\n",
       "      <td>2074364</td>\n",
       "    </tr>\n",
       "    <tr>\n",
       "      <th>Parent</th>\n",
       "      <td>5696853</td>\n",
       "      <td>4308646</td>\n",
       "      <td>8097435</td>\n",
       "      <td>6226081</td>\n",
       "    </tr>\n",
       "  </tbody>\n",
       "</table>\n",
       "</div>"
      ],
      "text/plain": [
       "Region           Midwest  Northeast    South     West\n",
       "parental_status                                      \n",
       "Not a Parent     1906957    1419701  2704175  2074364\n",
       "Parent           5696853    4308646  8097435  6226081"
      ]
     },
     "execution_count": 171,
     "metadata": {},
     "output_type": "execute_result"
    }
   ],
   "source": [
    "crosstab_parstat_region"
   ]
  },
  {
   "cell_type": "code",
   "execution_count": 172,
   "id": "403b2d9d",
   "metadata": {},
   "outputs": [
    {
     "data": {
      "text/plain": [
       "<matplotlib.legend.Legend at 0x226a1872e50>"
      ]
     },
     "execution_count": 172,
     "metadata": {},
     "output_type": "execute_result"
    },
    {
     "data": {
      "image/png": "[encoded data removed]",
      "text/plain": [
       "<Figure size 432x288 with 1 Axes>"
      ]
     },
     "metadata": {
      "needs_background": "light"
     },
     "output_type": "display_data"
    }
   ],
   "source": [
    "# Create stacked bar\n",
    "\n",
    "bar_parstat_region = crosstab_parstat_region.plot.bar(stacked = True, color = sns.color_palette('husl'))\n",
    "plt.legend(title = 'Region')"
   ]
  },
  {
   "cell_type": "code",
   "execution_count": 173,
   "id": "354402e1",
   "metadata": {},
   "outputs": [],
   "source": [
    "# Export\n",
    "\n",
    "bar_parstat_region.figure.savefig(os.path.join(path, '04 Analysis', 'Visualizations', 'bar_parstat_region.png'))"
   ]
  },
  {
   "cell_type": "code",
   "execution_count": 174,
   "id": "cfe738c4",
   "metadata": {},
   "outputs": [],
   "source": [
    "# Income and Region\n",
    "\n",
    "crosstab_inc_reg = pd.crosstab(df['Income_Range'], df['Region'], dropna = False)"
   ]
  },
  {
   "cell_type": "code",
   "execution_count": 175,
   "id": "9b41dc01",
   "metadata": {},
   "outputs": [
    {
     "data": {
      "text/html": [
       "<div>\n",
       "<style scoped>\n",
       "    .dataframe tbody tr th:only-of-type {\n",
       "        vertical-align: middle;\n",
       "    }\n",
       "\n",
       "    .dataframe tbody tr th {\n",
       "        vertical-align: top;\n",
       "    }\n",
       "\n",
       "    .dataframe thead th {\n",
       "        text-align: right;\n",
       "    }\n",
       "</style>\n",
       "<table border=\"1\" class=\"dataframe\">\n",
       "  <thead>\n",
       "    <tr style=\"text-align: right;\">\n",
       "      <th>Region</th>\n",
       "      <th>Midwest</th>\n",
       "      <th>Northeast</th>\n",
       "      <th>South</th>\n",
       "      <th>West</th>\n",
       "    </tr>\n",
       "    <tr>\n",
       "      <th>Income_Range</th>\n",
       "      <th></th>\n",
       "      <th></th>\n",
       "      <th></th>\n",
       "      <th></th>\n",
       "    </tr>\n",
       "  </thead>\n",
       "  <tbody>\n",
       "    <tr>\n",
       "      <th>0 - 100k</th>\n",
       "      <td>4061049</td>\n",
       "      <td>3097363</td>\n",
       "      <td>5931734</td>\n",
       "      <td>4516729</td>\n",
       "    </tr>\n",
       "    <tr>\n",
       "      <th>100-200k</th>\n",
       "      <td>3477433</td>\n",
       "      <td>2589840</td>\n",
       "      <td>4784968</td>\n",
       "      <td>3716504</td>\n",
       "    </tr>\n",
       "    <tr>\n",
       "      <th>200-300k</th>\n",
       "      <td>34144</td>\n",
       "      <td>25412</td>\n",
       "      <td>52973</td>\n",
       "      <td>44398</td>\n",
       "    </tr>\n",
       "    <tr>\n",
       "      <th>300-400k</th>\n",
       "      <td>14577</td>\n",
       "      <td>8874</td>\n",
       "      <td>19541</td>\n",
       "      <td>10979</td>\n",
       "    </tr>\n",
       "    <tr>\n",
       "      <th>400-500k</th>\n",
       "      <td>8948</td>\n",
       "      <td>3374</td>\n",
       "      <td>7912</td>\n",
       "      <td>8105</td>\n",
       "    </tr>\n",
       "    <tr>\n",
       "      <th>Over 500k</th>\n",
       "      <td>7659</td>\n",
       "      <td>3484</td>\n",
       "      <td>4482</td>\n",
       "      <td>3730</td>\n",
       "    </tr>\n",
       "  </tbody>\n",
       "</table>\n",
       "</div>"
      ],
      "text/plain": [
       "Region        Midwest  Northeast    South     West\n",
       "Income_Range                                      \n",
       "0 - 100k      4061049    3097363  5931734  4516729\n",
       "100-200k      3477433    2589840  4784968  3716504\n",
       "200-300k        34144      25412    52973    44398\n",
       "300-400k        14577       8874    19541    10979\n",
       "400-500k         8948       3374     7912     8105\n",
       "Over 500k        7659       3484     4482     3730"
      ]
     },
     "execution_count": 175,
     "metadata": {},
     "output_type": "execute_result"
    }
   ],
   "source": [
    "crosstab_inc_reg"
   ]
  },
  {
   "cell_type": "code",
   "execution_count": 176,
   "id": "a8a634f9",
   "metadata": {},
   "outputs": [
    {
     "data": {
      "text/plain": [
       "<matplotlib.legend.Legend at 0x226a1843eb0>"
      ]
     },
     "execution_count": 176,
     "metadata": {},
     "output_type": "execute_result"
    },
    {
     "data": {
      "image/png": "[encoded data removed]",
      "text/plain": [
       "<Figure size 432x288 with 1 Axes>"
      ]
     },
     "metadata": {
      "needs_background": "light"
     },
     "output_type": "display_data"
    }
   ],
   "source": [
    "# Create Stacked bar Chart\n",
    "\n",
    "bar_inc_reg = crosstab_inc_reg.plot.bar(stacked = True, color = sns.color_palette('plasma'))\n",
    "plt.legend(title = 'Region')"
   ]
  },
  {
   "cell_type": "code",
   "execution_count": 177,
   "id": "9d215c31",
   "metadata": {},
   "outputs": [],
   "source": [
    "# Export\n",
    "\n",
    "bar_inc_reg.figure.savefig(os.path.join(path, '04 Analysis', 'Visualizations', 'bar_inc_reg.png'))"
   ]
  },
  {
   "cell_type": "code",
   "execution_count": 178,
   "id": "31fa53e3",
   "metadata": {},
   "outputs": [],
   "source": [
    "# Age and Region\n",
    "\n",
    "crosstab_age_reg = pd.crosstab(df['age_bracket'], df['Region'], dropna = False)"
   ]
  },
  {
   "cell_type": "code",
   "execution_count": 179,
   "id": "b0a94fcc",
   "metadata": {},
   "outputs": [
    {
     "data": {
      "text/html": [
       "<div>\n",
       "<style scoped>\n",
       "    .dataframe tbody tr th:only-of-type {\n",
       "        vertical-align: middle;\n",
       "    }\n",
       "\n",
       "    .dataframe tbody tr th {\n",
       "        vertical-align: top;\n",
       "    }\n",
       "\n",
       "    .dataframe thead th {\n",
       "        text-align: right;\n",
       "    }\n",
       "</style>\n",
       "<table border=\"1\" class=\"dataframe\">\n",
       "  <thead>\n",
       "    <tr style=\"text-align: right;\">\n",
       "      <th>Region</th>\n",
       "      <th>Midwest</th>\n",
       "      <th>Northeast</th>\n",
       "      <th>South</th>\n",
       "      <th>West</th>\n",
       "    </tr>\n",
       "    <tr>\n",
       "      <th>age_bracket</th>\n",
       "      <th></th>\n",
       "      <th></th>\n",
       "      <th></th>\n",
       "      <th></th>\n",
       "    </tr>\n",
       "  </thead>\n",
       "  <tbody>\n",
       "    <tr>\n",
       "      <th>18-20</th>\n",
       "      <td>355427</td>\n",
       "      <td>265863</td>\n",
       "      <td>517208</td>\n",
       "      <td>385866</td>\n",
       "    </tr>\n",
       "    <tr>\n",
       "      <th>21-30</th>\n",
       "      <td>1176146</td>\n",
       "      <td>897037</td>\n",
       "      <td>1711768</td>\n",
       "      <td>1296185</td>\n",
       "    </tr>\n",
       "    <tr>\n",
       "      <th>31-40</th>\n",
       "      <td>1185372</td>\n",
       "      <td>884978</td>\n",
       "      <td>1724535</td>\n",
       "      <td>1280131</td>\n",
       "    </tr>\n",
       "    <tr>\n",
       "      <th>41-50</th>\n",
       "      <td>1230165</td>\n",
       "      <td>894070</td>\n",
       "      <td>1667818</td>\n",
       "      <td>1304510</td>\n",
       "    </tr>\n",
       "    <tr>\n",
       "      <th>51-60</th>\n",
       "      <td>1189528</td>\n",
       "      <td>890386</td>\n",
       "      <td>1659038</td>\n",
       "      <td>1325908</td>\n",
       "    </tr>\n",
       "    <tr>\n",
       "      <th>61-70</th>\n",
       "      <td>1177967</td>\n",
       "      <td>901694</td>\n",
       "      <td>1659195</td>\n",
       "      <td>1270460</td>\n",
       "    </tr>\n",
       "    <tr>\n",
       "      <th>71-80</th>\n",
       "      <td>1158532</td>\n",
       "      <td>910267</td>\n",
       "      <td>1703285</td>\n",
       "      <td>1301146</td>\n",
       "    </tr>\n",
       "    <tr>\n",
       "      <th>80+</th>\n",
       "      <td>130673</td>\n",
       "      <td>84052</td>\n",
       "      <td>158763</td>\n",
       "      <td>136239</td>\n",
       "    </tr>\n",
       "  </tbody>\n",
       "</table>\n",
       "</div>"
      ],
      "text/plain": [
       "Region       Midwest  Northeast    South     West\n",
       "age_bracket                                      \n",
       "18-20         355427     265863   517208   385866\n",
       "21-30        1176146     897037  1711768  1296185\n",
       "31-40        1185372     884978  1724535  1280131\n",
       "41-50        1230165     894070  1667818  1304510\n",
       "51-60        1189528     890386  1659038  1325908\n",
       "61-70        1177967     901694  1659195  1270460\n",
       "71-80        1158532     910267  1703285  1301146\n",
       "80+           130673      84052   158763   136239"
      ]
     },
     "execution_count": 179,
     "metadata": {},
     "output_type": "execute_result"
    }
   ],
   "source": [
    "crosstab_age_reg"
   ]
  },
  {
   "cell_type": "code",
   "execution_count": 180,
   "id": "d06381cb",
   "metadata": {
    "scrolled": true
   },
   "outputs": [
    {
     "data": {
      "text/plain": [
       "<matplotlib.legend.Legend at 0x226a20ded30>"
      ]
     },
     "execution_count": 180,
     "metadata": {},
     "output_type": "execute_result"
    },
    {
     "data": {
      "image/png": "[encoded data removed]",
      "text/plain": [
       "<Figure size 432x288 with 1 Axes>"
      ]
     },
     "metadata": {
      "needs_background": "light"
     },
     "output_type": "display_data"
    }
   ],
   "source": [
    "# Creat stacked Bar chart\n",
    "\n",
    "bar_age_reg = crosstab_age_reg.plot.bar(stacked = True, color = sns.color_palette('Blues_r', 4))\n",
    "plt.legend(title = 'Region')"
   ]
  },
  {
   "cell_type": "code",
   "execution_count": 181,
   "id": "d183fff9",
   "metadata": {},
   "outputs": [],
   "source": [
    "# Export\n",
    "\n",
    "bar_age_reg.figure.savefig(os.path.join(path, '04 Analysis', 'Visualizations', 'bar_age_reg.png'))"
   ]
  },
  {
   "cell_type": "code",
   "execution_count": 182,
   "id": "9c7f2011",
   "metadata": {},
   "outputs": [],
   "source": [
    "# Look at spending costs at the different times of the day\n",
    "\n",
    "crosstab_prices_hour = pd.crosstab(df['order_hour_of_day'], df['prices'], dropna = False)"
   ]
  },
  {
   "cell_type": "code",
   "execution_count": 183,
   "id": "9d9defce",
   "metadata": {},
   "outputs": [
    {
     "data": {
      "text/html": [
       "<div>\n",
       "<style scoped>\n",
       "    .dataframe tbody tr th:only-of-type {\n",
       "        vertical-align: middle;\n",
       "    }\n",
       "\n",
       "    .dataframe tbody tr th {\n",
       "        vertical-align: top;\n",
       "    }\n",
       "\n",
       "    .dataframe thead th {\n",
       "        text-align: right;\n",
       "    }\n",
       "</style>\n",
       "<table border=\"1\" class=\"dataframe\">\n",
       "  <thead>\n",
       "    <tr style=\"text-align: right;\">\n",
       "      <th>prices</th>\n",
       "      <th>1</th>\n",
       "      <th>2</th>\n",
       "      <th>3</th>\n",
       "      <th>4</th>\n",
       "      <th>5</th>\n",
       "      <th>6</th>\n",
       "      <th>7</th>\n",
       "      <th>8</th>\n",
       "      <th>9</th>\n",
       "      <th>10</th>\n",
       "      <th>...</th>\n",
       "      <th>18</th>\n",
       "      <th>19</th>\n",
       "      <th>20</th>\n",
       "      <th>21</th>\n",
       "      <th>22</th>\n",
       "      <th>23</th>\n",
       "      <th>24</th>\n",
       "      <th>25</th>\n",
       "      <th>14900</th>\n",
       "      <th>99999</th>\n",
       "    </tr>\n",
       "    <tr>\n",
       "      <th>order_hour_of_day</th>\n",
       "      <th></th>\n",
       "      <th></th>\n",
       "      <th></th>\n",
       "      <th></th>\n",
       "      <th></th>\n",
       "      <th></th>\n",
       "      <th></th>\n",
       "      <th></th>\n",
       "      <th></th>\n",
       "      <th></th>\n",
       "      <th></th>\n",
       "      <th></th>\n",
       "      <th></th>\n",
       "      <th></th>\n",
       "      <th></th>\n",
       "      <th></th>\n",
       "      <th></th>\n",
       "      <th></th>\n",
       "      <th></th>\n",
       "      <th></th>\n",
       "      <th></th>\n",
       "    </tr>\n",
       "  </thead>\n",
       "  <tbody>\n",
       "    <tr>\n",
       "      <th>0</th>\n",
       "      <td>17494</td>\n",
       "      <td>14405</td>\n",
       "      <td>16520</td>\n",
       "      <td>18231</td>\n",
       "      <td>15626</td>\n",
       "      <td>18832</td>\n",
       "      <td>15952</td>\n",
       "      <td>16073</td>\n",
       "      <td>13320</td>\n",
       "      <td>13615</td>\n",
       "      <td>...</td>\n",
       "      <td>363</td>\n",
       "      <td>324</td>\n",
       "      <td>194</td>\n",
       "      <td>384</td>\n",
       "      <td>227</td>\n",
       "      <td>373</td>\n",
       "      <td>273</td>\n",
       "      <td>99</td>\n",
       "      <td>25</td>\n",
       "      <td>2</td>\n",
       "    </tr>\n",
       "    <tr>\n",
       "      <th>1</th>\n",
       "      <td>9223</td>\n",
       "      <td>7721</td>\n",
       "      <td>8613</td>\n",
       "      <td>9602</td>\n",
       "      <td>8401</td>\n",
       "      <td>9951</td>\n",
       "      <td>8413</td>\n",
       "      <td>8704</td>\n",
       "      <td>7052</td>\n",
       "      <td>6960</td>\n",
       "      <td>...</td>\n",
       "      <td>195</td>\n",
       "      <td>163</td>\n",
       "      <td>89</td>\n",
       "      <td>183</td>\n",
       "      <td>104</td>\n",
       "      <td>210</td>\n",
       "      <td>163</td>\n",
       "      <td>37</td>\n",
       "      <td>17</td>\n",
       "      <td>0</td>\n",
       "    </tr>\n",
       "    <tr>\n",
       "      <th>2</th>\n",
       "      <td>5517</td>\n",
       "      <td>4713</td>\n",
       "      <td>5283</td>\n",
       "      <td>5745</td>\n",
       "      <td>5090</td>\n",
       "      <td>5883</td>\n",
       "      <td>4984</td>\n",
       "      <td>5020</td>\n",
       "      <td>4245</td>\n",
       "      <td>4303</td>\n",
       "      <td>...</td>\n",
       "      <td>132</td>\n",
       "      <td>108</td>\n",
       "      <td>71</td>\n",
       "      <td>93</td>\n",
       "      <td>72</td>\n",
       "      <td>136</td>\n",
       "      <td>78</td>\n",
       "      <td>31</td>\n",
       "      <td>12</td>\n",
       "      <td>3</td>\n",
       "    </tr>\n",
       "    <tr>\n",
       "      <th>3</th>\n",
       "      <td>3917</td>\n",
       "      <td>3460</td>\n",
       "      <td>3767</td>\n",
       "      <td>4290</td>\n",
       "      <td>3726</td>\n",
       "      <td>4444</td>\n",
       "      <td>3745</td>\n",
       "      <td>3763</td>\n",
       "      <td>3173</td>\n",
       "      <td>3256</td>\n",
       "      <td>...</td>\n",
       "      <td>83</td>\n",
       "      <td>68</td>\n",
       "      <td>44</td>\n",
       "      <td>81</td>\n",
       "      <td>64</td>\n",
       "      <td>95</td>\n",
       "      <td>65</td>\n",
       "      <td>19</td>\n",
       "      <td>12</td>\n",
       "      <td>1</td>\n",
       "    </tr>\n",
       "    <tr>\n",
       "      <th>4</th>\n",
       "      <td>4233</td>\n",
       "      <td>3567</td>\n",
       "      <td>4057</td>\n",
       "      <td>4292</td>\n",
       "      <td>3836</td>\n",
       "      <td>4451</td>\n",
       "      <td>3879</td>\n",
       "      <td>3883</td>\n",
       "      <td>3223</td>\n",
       "      <td>3408</td>\n",
       "      <td>...</td>\n",
       "      <td>107</td>\n",
       "      <td>79</td>\n",
       "      <td>45</td>\n",
       "      <td>76</td>\n",
       "      <td>68</td>\n",
       "      <td>119</td>\n",
       "      <td>67</td>\n",
       "      <td>16</td>\n",
       "      <td>9</td>\n",
       "      <td>1</td>\n",
       "    </tr>\n",
       "    <tr>\n",
       "      <th>5</th>\n",
       "      <td>7080</td>\n",
       "      <td>5915</td>\n",
       "      <td>6420</td>\n",
       "      <td>7226</td>\n",
       "      <td>6329</td>\n",
       "      <td>7382</td>\n",
       "      <td>6431</td>\n",
       "      <td>6495</td>\n",
       "      <td>5273</td>\n",
       "      <td>5455</td>\n",
       "      <td>...</td>\n",
       "      <td>131</td>\n",
       "      <td>133</td>\n",
       "      <td>66</td>\n",
       "      <td>141</td>\n",
       "      <td>86</td>\n",
       "      <td>150</td>\n",
       "      <td>129</td>\n",
       "      <td>36</td>\n",
       "      <td>15</td>\n",
       "      <td>2</td>\n",
       "    </tr>\n",
       "    <tr>\n",
       "      <th>6</th>\n",
       "      <td>23366</td>\n",
       "      <td>19179</td>\n",
       "      <td>21318</td>\n",
       "      <td>24149</td>\n",
       "      <td>21110</td>\n",
       "      <td>24610</td>\n",
       "      <td>21646</td>\n",
       "      <td>21117</td>\n",
       "      <td>17673</td>\n",
       "      <td>17949</td>\n",
       "      <td>...</td>\n",
       "      <td>465</td>\n",
       "      <td>472</td>\n",
       "      <td>217</td>\n",
       "      <td>549</td>\n",
       "      <td>351</td>\n",
       "      <td>485</td>\n",
       "      <td>389</td>\n",
       "      <td>137</td>\n",
       "      <td>37</td>\n",
       "      <td>6</td>\n",
       "    </tr>\n",
       "    <tr>\n",
       "      <th>7</th>\n",
       "      <td>71921</td>\n",
       "      <td>58579</td>\n",
       "      <td>64852</td>\n",
       "      <td>74559</td>\n",
       "      <td>65178</td>\n",
       "      <td>74782</td>\n",
       "      <td>66465</td>\n",
       "      <td>64512</td>\n",
       "      <td>54113</td>\n",
       "      <td>55365</td>\n",
       "      <td>...</td>\n",
       "      <td>1463</td>\n",
       "      <td>1486</td>\n",
       "      <td>626</td>\n",
       "      <td>1664</td>\n",
       "      <td>1097</td>\n",
       "      <td>1582</td>\n",
       "      <td>1244</td>\n",
       "      <td>366</td>\n",
       "      <td>107</td>\n",
       "      <td>24</td>\n",
       "    </tr>\n",
       "    <tr>\n",
       "      <th>8</th>\n",
       "      <td>138535</td>\n",
       "      <td>114977</td>\n",
       "      <td>126800</td>\n",
       "      <td>144394</td>\n",
       "      <td>127041</td>\n",
       "      <td>145251</td>\n",
       "      <td>126914</td>\n",
       "      <td>122905</td>\n",
       "      <td>105047</td>\n",
       "      <td>105998</td>\n",
       "      <td>...</td>\n",
       "      <td>2666</td>\n",
       "      <td>2899</td>\n",
       "      <td>1305</td>\n",
       "      <td>3070</td>\n",
       "      <td>1962</td>\n",
       "      <td>3065</td>\n",
       "      <td>2308</td>\n",
       "      <td>691</td>\n",
       "      <td>205</td>\n",
       "      <td>50</td>\n",
       "    </tr>\n",
       "    <tr>\n",
       "      <th>9</th>\n",
       "      <td>197828</td>\n",
       "      <td>167108</td>\n",
       "      <td>185287</td>\n",
       "      <td>207363</td>\n",
       "      <td>184076</td>\n",
       "      <td>209599</td>\n",
       "      <td>179476</td>\n",
       "      <td>171654</td>\n",
       "      <td>149558</td>\n",
       "      <td>149292</td>\n",
       "      <td>...</td>\n",
       "      <td>3629</td>\n",
       "      <td>3973</td>\n",
       "      <td>1827</td>\n",
       "      <td>4069</td>\n",
       "      <td>2528</td>\n",
       "      <td>4310</td>\n",
       "      <td>2890</td>\n",
       "      <td>961</td>\n",
       "      <td>309</td>\n",
       "      <td>52</td>\n",
       "    </tr>\n",
       "    <tr>\n",
       "      <th>10</th>\n",
       "      <td>221283</td>\n",
       "      <td>188909</td>\n",
       "      <td>209431</td>\n",
       "      <td>234151</td>\n",
       "      <td>207273</td>\n",
       "      <td>238477</td>\n",
       "      <td>200002</td>\n",
       "      <td>194312</td>\n",
       "      <td>168748</td>\n",
       "      <td>166382</td>\n",
       "      <td>...</td>\n",
       "      <td>4173</td>\n",
       "      <td>4337</td>\n",
       "      <td>2124</td>\n",
       "      <td>4621</td>\n",
       "      <td>2876</td>\n",
       "      <td>4933</td>\n",
       "      <td>3303</td>\n",
       "      <td>1114</td>\n",
       "      <td>367</td>\n",
       "      <td>60</td>\n",
       "    </tr>\n",
       "    <tr>\n",
       "      <th>11</th>\n",
       "      <td>217736</td>\n",
       "      <td>185379</td>\n",
       "      <td>207211</td>\n",
       "      <td>230803</td>\n",
       "      <td>204017</td>\n",
       "      <td>238461</td>\n",
       "      <td>198401</td>\n",
       "      <td>193813</td>\n",
       "      <td>166856</td>\n",
       "      <td>163801</td>\n",
       "      <td>...</td>\n",
       "      <td>4430</td>\n",
       "      <td>4652</td>\n",
       "      <td>2160</td>\n",
       "      <td>4614</td>\n",
       "      <td>3086</td>\n",
       "      <td>4969</td>\n",
       "      <td>3581</td>\n",
       "      <td>1170</td>\n",
       "      <td>383</td>\n",
       "      <td>63</td>\n",
       "    </tr>\n",
       "    <tr>\n",
       "      <th>12</th>\n",
       "      <td>208250</td>\n",
       "      <td>175286</td>\n",
       "      <td>197328</td>\n",
       "      <td>220493</td>\n",
       "      <td>194098</td>\n",
       "      <td>228036</td>\n",
       "      <td>189933</td>\n",
       "      <td>188550</td>\n",
       "      <td>158679</td>\n",
       "      <td>158148</td>\n",
       "      <td>...</td>\n",
       "      <td>4371</td>\n",
       "      <td>4473</td>\n",
       "      <td>2170</td>\n",
       "      <td>4571</td>\n",
       "      <td>2970</td>\n",
       "      <td>5027</td>\n",
       "      <td>3418</td>\n",
       "      <td>1180</td>\n",
       "      <td>375</td>\n",
       "      <td>53</td>\n",
       "    </tr>\n",
       "    <tr>\n",
       "      <th>13</th>\n",
       "      <td>211065</td>\n",
       "      <td>177660</td>\n",
       "      <td>200338</td>\n",
       "      <td>222887</td>\n",
       "      <td>197761</td>\n",
       "      <td>231558</td>\n",
       "      <td>194093</td>\n",
       "      <td>191685</td>\n",
       "      <td>161792</td>\n",
       "      <td>160477</td>\n",
       "      <td>...</td>\n",
       "      <td>4357</td>\n",
       "      <td>4614</td>\n",
       "      <td>2188</td>\n",
       "      <td>4611</td>\n",
       "      <td>3103</td>\n",
       "      <td>5054</td>\n",
       "      <td>3409</td>\n",
       "      <td>1179</td>\n",
       "      <td>336</td>\n",
       "      <td>48</td>\n",
       "    </tr>\n",
       "    <tr>\n",
       "      <th>14</th>\n",
       "      <td>212282</td>\n",
       "      <td>178677</td>\n",
       "      <td>201119</td>\n",
       "      <td>226858</td>\n",
       "      <td>198733</td>\n",
       "      <td>234300</td>\n",
       "      <td>196319</td>\n",
       "      <td>192825</td>\n",
       "      <td>163941</td>\n",
       "      <td>162940</td>\n",
       "      <td>...</td>\n",
       "      <td>4437</td>\n",
       "      <td>4846</td>\n",
       "      <td>2306</td>\n",
       "      <td>4770</td>\n",
       "      <td>3060</td>\n",
       "      <td>4898</td>\n",
       "      <td>3443</td>\n",
       "      <td>1156</td>\n",
       "      <td>355</td>\n",
       "      <td>53</td>\n",
       "    </tr>\n",
       "    <tr>\n",
       "      <th>15</th>\n",
       "      <td>209586</td>\n",
       "      <td>176738</td>\n",
       "      <td>199017</td>\n",
       "      <td>224958</td>\n",
       "      <td>195803</td>\n",
       "      <td>231879</td>\n",
       "      <td>194273</td>\n",
       "      <td>192982</td>\n",
       "      <td>161967</td>\n",
       "      <td>161490</td>\n",
       "      <td>...</td>\n",
       "      <td>4470</td>\n",
       "      <td>4746</td>\n",
       "      <td>2228</td>\n",
       "      <td>4613</td>\n",
       "      <td>3145</td>\n",
       "      <td>4961</td>\n",
       "      <td>3608</td>\n",
       "      <td>1219</td>\n",
       "      <td>364</td>\n",
       "      <td>62</td>\n",
       "    </tr>\n",
       "    <tr>\n",
       "      <th>16</th>\n",
       "      <td>199482</td>\n",
       "      <td>168743</td>\n",
       "      <td>189599</td>\n",
       "      <td>214020</td>\n",
       "      <td>188315</td>\n",
       "      <td>219966</td>\n",
       "      <td>185057</td>\n",
       "      <td>183763</td>\n",
       "      <td>152612</td>\n",
       "      <td>154034</td>\n",
       "      <td>...</td>\n",
       "      <td>4247</td>\n",
       "      <td>4313</td>\n",
       "      <td>2147</td>\n",
       "      <td>4422</td>\n",
       "      <td>2903</td>\n",
       "      <td>4683</td>\n",
       "      <td>3454</td>\n",
       "      <td>1135</td>\n",
       "      <td>397</td>\n",
       "      <td>61</td>\n",
       "    </tr>\n",
       "    <tr>\n",
       "      <th>17</th>\n",
       "      <td>164949</td>\n",
       "      <td>139278</td>\n",
       "      <td>156726</td>\n",
       "      <td>175008</td>\n",
       "      <td>154231</td>\n",
       "      <td>179496</td>\n",
       "      <td>151250</td>\n",
       "      <td>152186</td>\n",
       "      <td>125303</td>\n",
       "      <td>127456</td>\n",
       "      <td>...</td>\n",
       "      <td>3421</td>\n",
       "      <td>3489</td>\n",
       "      <td>1632</td>\n",
       "      <td>3622</td>\n",
       "      <td>2360</td>\n",
       "      <td>3696</td>\n",
       "      <td>2752</td>\n",
       "      <td>932</td>\n",
       "      <td>325</td>\n",
       "      <td>56</td>\n",
       "    </tr>\n",
       "    <tr>\n",
       "      <th>18</th>\n",
       "      <td>129565</td>\n",
       "      <td>109053</td>\n",
       "      <td>122647</td>\n",
       "      <td>136801</td>\n",
       "      <td>120783</td>\n",
       "      <td>139909</td>\n",
       "      <td>118613</td>\n",
       "      <td>120291</td>\n",
       "      <td>97586</td>\n",
       "      <td>101437</td>\n",
       "      <td>...</td>\n",
       "      <td>2727</td>\n",
       "      <td>2635</td>\n",
       "      <td>1316</td>\n",
       "      <td>2840</td>\n",
       "      <td>1867</td>\n",
       "      <td>2892</td>\n",
       "      <td>2342</td>\n",
       "      <td>673</td>\n",
       "      <td>247</td>\n",
       "      <td>29</td>\n",
       "    </tr>\n",
       "    <tr>\n",
       "      <th>19</th>\n",
       "      <td>99769</td>\n",
       "      <td>84132</td>\n",
       "      <td>94617</td>\n",
       "      <td>105275</td>\n",
       "      <td>93008</td>\n",
       "      <td>107967</td>\n",
       "      <td>91462</td>\n",
       "      <td>92654</td>\n",
       "      <td>74805</td>\n",
       "      <td>77829</td>\n",
       "      <td>...</td>\n",
       "      <td>1970</td>\n",
       "      <td>2000</td>\n",
       "      <td>906</td>\n",
       "      <td>2144</td>\n",
       "      <td>1351</td>\n",
       "      <td>2147</td>\n",
       "      <td>1702</td>\n",
       "      <td>487</td>\n",
       "      <td>199</td>\n",
       "      <td>30</td>\n",
       "    </tr>\n",
       "    <tr>\n",
       "      <th>20</th>\n",
       "      <td>77646</td>\n",
       "      <td>64469</td>\n",
       "      <td>72984</td>\n",
       "      <td>81647</td>\n",
       "      <td>72294</td>\n",
       "      <td>83061</td>\n",
       "      <td>72028</td>\n",
       "      <td>72154</td>\n",
       "      <td>58404</td>\n",
       "      <td>60103</td>\n",
       "      <td>...</td>\n",
       "      <td>1690</td>\n",
       "      <td>1575</td>\n",
       "      <td>741</td>\n",
       "      <td>1763</td>\n",
       "      <td>1054</td>\n",
       "      <td>1681</td>\n",
       "      <td>1269</td>\n",
       "      <td>377</td>\n",
       "      <td>138</td>\n",
       "      <td>18</td>\n",
       "    </tr>\n",
       "    <tr>\n",
       "      <th>21</th>\n",
       "      <td>64040</td>\n",
       "      <td>51920</td>\n",
       "      <td>59292</td>\n",
       "      <td>66117</td>\n",
       "      <td>58216</td>\n",
       "      <td>68601</td>\n",
       "      <td>59060</td>\n",
       "      <td>58459</td>\n",
       "      <td>48347</td>\n",
       "      <td>47825</td>\n",
       "      <td>...</td>\n",
       "      <td>1376</td>\n",
       "      <td>1332</td>\n",
       "      <td>638</td>\n",
       "      <td>1381</td>\n",
       "      <td>887</td>\n",
       "      <td>1471</td>\n",
       "      <td>995</td>\n",
       "      <td>327</td>\n",
       "      <td>96</td>\n",
       "      <td>13</td>\n",
       "    </tr>\n",
       "    <tr>\n",
       "      <th>22</th>\n",
       "      <td>50609</td>\n",
       "      <td>41044</td>\n",
       "      <td>47175</td>\n",
       "      <td>52823</td>\n",
       "      <td>46360</td>\n",
       "      <td>54722</td>\n",
       "      <td>47221</td>\n",
       "      <td>46332</td>\n",
       "      <td>38708</td>\n",
       "      <td>38690</td>\n",
       "      <td>...</td>\n",
       "      <td>1117</td>\n",
       "      <td>1011</td>\n",
       "      <td>497</td>\n",
       "      <td>1058</td>\n",
       "      <td>686</td>\n",
       "      <td>1162</td>\n",
       "      <td>772</td>\n",
       "      <td>282</td>\n",
       "      <td>61</td>\n",
       "      <td>5</td>\n",
       "    </tr>\n",
       "    <tr>\n",
       "      <th>23</th>\n",
       "      <td>31934</td>\n",
       "      <td>26508</td>\n",
       "      <td>30202</td>\n",
       "      <td>33455</td>\n",
       "      <td>29635</td>\n",
       "      <td>35028</td>\n",
       "      <td>29750</td>\n",
       "      <td>29451</td>\n",
       "      <td>24682</td>\n",
       "      <td>24294</td>\n",
       "      <td>...</td>\n",
       "      <td>743</td>\n",
       "      <td>601</td>\n",
       "      <td>304</td>\n",
       "      <td>728</td>\n",
       "      <td>420</td>\n",
       "      <td>725</td>\n",
       "      <td>514</td>\n",
       "      <td>148</td>\n",
       "      <td>38</td>\n",
       "      <td>6</td>\n",
       "    </tr>\n",
       "  </tbody>\n",
       "</table>\n",
       "<p>24 rows × 27 columns</p>\n",
       "</div>"
      ],
      "text/plain": [
       "prices              1       2       3       4       5       6       7      \\\n",
       "order_hour_of_day                                                           \n",
       "0                   17494   14405   16520   18231   15626   18832   15952   \n",
       "1                    9223    7721    8613    9602    8401    9951    8413   \n",
       "2                    5517    4713    5283    5745    5090    5883    4984   \n",
       "3                    3917    3460    3767    4290    3726    4444    3745   \n",
       "4                    4233    3567    4057    4292    3836    4451    3879   \n",
       "5                    7080    5915    6420    7226    6329    7382    6431   \n",
       "6                   23366   19179   21318   24149   21110   24610   21646   \n",
       "7                   71921   58579   64852   74559   65178   74782   66465   \n",
       "8                  138535  114977  126800  144394  127041  145251  126914   \n",
       "9                  197828  167108  185287  207363  184076  209599  179476   \n",
       "10                 221283  188909  209431  234151  207273  238477  200002   \n",
       "11                 217736  185379  207211  230803  204017  238461  198401   \n",
       "12                 208250  175286  197328  220493  194098  228036  189933   \n",
       "13                 211065  177660  200338  222887  197761  231558  194093   \n",
       "14                 212282  178677  201119  226858  198733  234300  196319   \n",
       "15                 209586  176738  199017  224958  195803  231879  194273   \n",
       "16                 199482  168743  189599  214020  188315  219966  185057   \n",
       "17                 164949  139278  156726  175008  154231  179496  151250   \n",
       "18                 129565  109053  122647  136801  120783  139909  118613   \n",
       "19                  99769   84132   94617  105275   93008  107967   91462   \n",
       "20                  77646   64469   72984   81647   72294   83061   72028   \n",
       "21                  64040   51920   59292   66117   58216   68601   59060   \n",
       "22                  50609   41044   47175   52823   46360   54722   47221   \n",
       "23                  31934   26508   30202   33455   29635   35028   29750   \n",
       "\n",
       "prices              8       9       10     ...  18     19     20     21     \\\n",
       "order_hour_of_day                          ...                               \n",
       "0                   16073   13320   13615  ...    363    324    194    384   \n",
       "1                    8704    7052    6960  ...    195    163     89    183   \n",
       "2                    5020    4245    4303  ...    132    108     71     93   \n",
       "3                    3763    3173    3256  ...     83     68     44     81   \n",
       "4                    3883    3223    3408  ...    107     79     45     76   \n",
       "5                    6495    5273    5455  ...    131    133     66    141   \n",
       "6                   21117   17673   17949  ...    465    472    217    549   \n",
       "7                   64512   54113   55365  ...   1463   1486    626   1664   \n",
       "8                  122905  105047  105998  ...   2666   2899   1305   3070   \n",
       "9                  171654  149558  149292  ...   3629   3973   1827   4069   \n",
       "10                 194312  168748  166382  ...   4173   4337   2124   4621   \n",
       "11                 193813  166856  163801  ...   4430   4652   2160   4614   \n",
       "12                 188550  158679  158148  ...   4371   4473   2170   4571   \n",
       "13                 191685  161792  160477  ...   4357   4614   2188   4611   \n",
       "14                 192825  163941  162940  ...   4437   4846   2306   4770   \n",
       "15                 192982  161967  161490  ...   4470   4746   2228   4613   \n",
       "16                 183763  152612  154034  ...   4247   4313   2147   4422   \n",
       "17                 152186  125303  127456  ...   3421   3489   1632   3622   \n",
       "18                 120291   97586  101437  ...   2727   2635   1316   2840   \n",
       "19                  92654   74805   77829  ...   1970   2000    906   2144   \n",
       "20                  72154   58404   60103  ...   1690   1575    741   1763   \n",
       "21                  58459   48347   47825  ...   1376   1332    638   1381   \n",
       "22                  46332   38708   38690  ...   1117   1011    497   1058   \n",
       "23                  29451   24682   24294  ...    743    601    304    728   \n",
       "\n",
       "prices             22     23     24     25     14900  99999  \n",
       "order_hour_of_day                                            \n",
       "0                    227    373    273     99     25      2  \n",
       "1                    104    210    163     37     17      0  \n",
       "2                     72    136     78     31     12      3  \n",
       "3                     64     95     65     19     12      1  \n",
       "4                     68    119     67     16      9      1  \n",
       "5                     86    150    129     36     15      2  \n",
       "6                    351    485    389    137     37      6  \n",
       "7                   1097   1582   1244    366    107     24  \n",
       "8                   1962   3065   2308    691    205     50  \n",
       "9                   2528   4310   2890    961    309     52  \n",
       "10                  2876   4933   3303   1114    367     60  \n",
       "11                  3086   4969   3581   1170    383     63  \n",
       "12                  2970   5027   3418   1180    375     53  \n",
       "13                  3103   5054   3409   1179    336     48  \n",
       "14                  3060   4898   3443   1156    355     53  \n",
       "15                  3145   4961   3608   1219    364     62  \n",
       "16                  2903   4683   3454   1135    397     61  \n",
       "17                  2360   3696   2752    932    325     56  \n",
       "18                  1867   2892   2342    673    247     29  \n",
       "19                  1351   2147   1702    487    199     30  \n",
       "20                  1054   1681   1269    377    138     18  \n",
       "21                   887   1471    995    327     96     13  \n",
       "22                   686   1162    772    282     61      5  \n",
       "23                   420    725    514    148     38      6  \n",
       "\n",
       "[24 rows x 27 columns]"
      ]
     },
     "execution_count": 183,
     "metadata": {},
     "output_type": "execute_result"
    }
   ],
   "source": [
    "crosstab_prices_hour"
   ]
  },
  {
   "cell_type": "code",
   "execution_count": 184,
   "id": "f46ebc99",
   "metadata": {},
   "outputs": [],
   "source": [
    "# It would be more simpler if the mean of prices was found against order hour of day\n",
    "\n",
    "df2 = df.groupby('order_hour_of_day').agg({'prices': ['mean']})"
   ]
  },
  {
   "cell_type": "code",
   "execution_count": 185,
   "id": "01269d1c",
   "metadata": {},
   "outputs": [
    {
     "data": {
      "text/html": [
       "<div>\n",
       "<style scoped>\n",
       "    .dataframe tbody tr th:only-of-type {\n",
       "        vertical-align: middle;\n",
       "    }\n",
       "\n",
       "    .dataframe tbody tr th {\n",
       "        vertical-align: top;\n",
       "    }\n",
       "\n",
       "    .dataframe thead tr th {\n",
       "        text-align: left;\n",
       "    }\n",
       "\n",
       "    .dataframe thead tr:last-of-type th {\n",
       "        text-align: right;\n",
       "    }\n",
       "</style>\n",
       "<table border=\"1\" class=\"dataframe\">\n",
       "  <thead>\n",
       "    <tr>\n",
       "      <th></th>\n",
       "      <th>prices</th>\n",
       "    </tr>\n",
       "    <tr>\n",
       "      <th></th>\n",
       "      <th>mean</th>\n",
       "    </tr>\n",
       "    <tr>\n",
       "      <th>order_hour_of_day</th>\n",
       "      <th></th>\n",
       "    </tr>\n",
       "  </thead>\n",
       "  <tbody>\n",
       "    <tr>\n",
       "      <th>0</th>\n",
       "      <td>9.986129</td>\n",
       "    </tr>\n",
       "    <tr>\n",
       "      <th>1</th>\n",
       "      <td>9.552528</td>\n",
       "    </tr>\n",
       "    <tr>\n",
       "      <th>2</th>\n",
       "      <td>14.253143</td>\n",
       "    </tr>\n",
       "    <tr>\n",
       "      <th>3</th>\n",
       "      <td>12.816455</td>\n",
       "    </tr>\n",
       "    <tr>\n",
       "      <th>4</th>\n",
       "      <td>11.792016</td>\n",
       "    </tr>\n",
       "    <tr>\n",
       "      <th>5</th>\n",
       "      <td>12.200563</td>\n",
       "    </tr>\n",
       "    <tr>\n",
       "      <th>6</th>\n",
       "      <td>11.340059</td>\n",
       "    </tr>\n",
       "    <tr>\n",
       "      <th>7</th>\n",
       "      <td>11.862051</td>\n",
       "    </tr>\n",
       "    <tr>\n",
       "      <th>8</th>\n",
       "      <td>12.036932</td>\n",
       "    </tr>\n",
       "    <tr>\n",
       "      <th>9</th>\n",
       "      <td>11.307466</td>\n",
       "    </tr>\n",
       "    <tr>\n",
       "      <th>10</th>\n",
       "      <td>11.460236</td>\n",
       "    </tr>\n",
       "    <tr>\n",
       "      <th>11</th>\n",
       "      <td>11.717667</td>\n",
       "    </tr>\n",
       "    <tr>\n",
       "      <th>12</th>\n",
       "      <td>11.504939</td>\n",
       "    </tr>\n",
       "    <tr>\n",
       "      <th>13</th>\n",
       "      <td>11.036748</td>\n",
       "    </tr>\n",
       "    <tr>\n",
       "      <th>14</th>\n",
       "      <td>11.298570</td>\n",
       "    </tr>\n",
       "    <tr>\n",
       "      <th>15</th>\n",
       "      <td>11.729959</td>\n",
       "    </tr>\n",
       "    <tr>\n",
       "      <th>16</th>\n",
       "      <td>12.099308</td>\n",
       "    </tr>\n",
       "    <tr>\n",
       "      <th>17</th>\n",
       "      <td>12.365807</td>\n",
       "    </tr>\n",
       "    <tr>\n",
       "      <th>18</th>\n",
       "      <td>11.388496</td>\n",
       "    </tr>\n",
       "    <tr>\n",
       "      <th>19</th>\n",
       "      <td>12.092265</td>\n",
       "    </tr>\n",
       "    <tr>\n",
       "      <th>20</th>\n",
       "      <td>11.308653</td>\n",
       "    </tr>\n",
       "    <tr>\n",
       "      <th>21</th>\n",
       "      <td>10.795520</td>\n",
       "    </tr>\n",
       "    <tr>\n",
       "      <th>22</th>\n",
       "      <td>9.598076</td>\n",
       "    </tr>\n",
       "    <tr>\n",
       "      <th>23</th>\n",
       "      <td>10.253467</td>\n",
       "    </tr>\n",
       "  </tbody>\n",
       "</table>\n",
       "</div>"
      ],
      "text/plain": [
       "                      prices\n",
       "                        mean\n",
       "order_hour_of_day           \n",
       "0                   9.986129\n",
       "1                   9.552528\n",
       "2                  14.253143\n",
       "3                  12.816455\n",
       "4                  11.792016\n",
       "5                  12.200563\n",
       "6                  11.340059\n",
       "7                  11.862051\n",
       "8                  12.036932\n",
       "9                  11.307466\n",
       "10                 11.460236\n",
       "11                 11.717667\n",
       "12                 11.504939\n",
       "13                 11.036748\n",
       "14                 11.298570\n",
       "15                 11.729959\n",
       "16                 12.099308\n",
       "17                 12.365807\n",
       "18                 11.388496\n",
       "19                 12.092265\n",
       "20                 11.308653\n",
       "21                 10.795520\n",
       "22                  9.598076\n",
       "23                 10.253467"
      ]
     },
     "execution_count": 185,
     "metadata": {},
     "output_type": "execute_result"
    }
   ],
   "source": [
    "df2"
   ]
  },
  {
   "cell_type": "code",
   "execution_count": 186,
   "id": "a58e6a9f",
   "metadata": {},
   "outputs": [
    {
     "data": {
      "text/plain": [
       "Text(0, 0.5, 'price(mean)')"
      ]
     },
     "execution_count": 186,
     "metadata": {},
     "output_type": "execute_result"
    },
    {
     "data": {
      "image/png": "[encoded data removed]",
      "text/plain": [
       "<Figure size 432x288 with 1 Axes>"
      ]
     },
     "metadata": {
      "needs_background": "light"
     },
     "output_type": "display_data"
    }
   ],
   "source": [
    "# LIne chart of mean prices and time of orders\n",
    "\n",
    "line_meanprice_time = df2.plot.line(legend = False)\n",
    "plt.ylabel('price(mean)')"
   ]
  },
  {
   "cell_type": "code",
   "execution_count": 187,
   "id": "d7c40f34",
   "metadata": {},
   "outputs": [],
   "source": [
    "# Export line chart\n",
    "\n",
    "line_meanprice_time.figure.savefig(os.path.join(path, '04 Analysis', 'Visualizations', 'line_meanprice_time.png'))"
   ]
  },
  {
   "cell_type": "code",
   "execution_count": 188,
   "id": "11c55671",
   "metadata": {},
   "outputs": [
    {
     "data": {
      "text/plain": [
       "Mid-range product     21890146\n",
       "Low-range product     10126384\n",
       "High-range product      417682\n",
       "Name: price_range_loc, dtype: int64"
      ]
     },
     "execution_count": 188,
     "metadata": {},
     "output_type": "execute_result"
    }
   ],
   "source": [
    "# Look at different price range products\n",
    "\n",
    "df['price_range_loc'].value_counts()"
   ]
  },
  {
   "cell_type": "code",
   "execution_count": 189,
   "id": "626c2b3f",
   "metadata": {},
   "outputs": [
    {
     "data": {
      "image/png": "[encoded data removed]",
      "text/plain": [
       "<Figure size 432x288 with 1 Axes>"
      ]
     },
     "metadata": {},
     "output_type": "display_data"
    }
   ],
   "source": [
    "# Create pie chart\n",
    "\n",
    "labels = 'Mid-range product (bet $5 & $15)', 'Low-range product (<$5)', 'High-range product (>$15)'\n",
    "sizes = [21890146, 10126384, 417682]\n",
    "\n",
    "fig3, ax3 = plt.subplots()\n",
    "ax3.pie(sizes, labels=labels, autopct='%1.1f%%')\n",
    "ax3.axis('equal')\n",
    "ax3.set_title('Price/product range')\n",
    "\n",
    "plt.show()"
   ]
  },
  {
   "cell_type": "code",
   "execution_count": 190,
   "id": "a26d1a90",
   "metadata": {},
   "outputs": [],
   "source": [
    "# Export Pie\n",
    "\n",
    "ax3.figure.savefig(os.path.join(path, '04 Analysis', 'Visualizations', 'pie_price_prodrange.png'))"
   ]
  },
  {
   "cell_type": "code",
   "execution_count": 191,
   "id": "369ce7c8",
   "metadata": {},
   "outputs": [],
   "source": [
    "# Look at different products in different price ranges\n",
    "\n",
    "crosstab_pricerange_spend = pd.crosstab(df['price_range_loc'], df['spending_flag'], dropna = False)"
   ]
  },
  {
   "cell_type": "code",
   "execution_count": 192,
   "id": "5a4495d0",
   "metadata": {},
   "outputs": [
    {
     "data": {
      "text/html": [
       "<div>\n",
       "<style scoped>\n",
       "    .dataframe tbody tr th:only-of-type {\n",
       "        vertical-align: middle;\n",
       "    }\n",
       "\n",
       "    .dataframe tbody tr th {\n",
       "        vertical-align: top;\n",
       "    }\n",
       "\n",
       "    .dataframe thead th {\n",
       "        text-align: right;\n",
       "    }\n",
       "</style>\n",
       "<table border=\"1\" class=\"dataframe\">\n",
       "  <thead>\n",
       "    <tr style=\"text-align: right;\">\n",
       "      <th>spending_flag</th>\n",
       "      <th>High Spender</th>\n",
       "      <th>Low Spender</th>\n",
       "    </tr>\n",
       "    <tr>\n",
       "      <th>price_range_loc</th>\n",
       "      <th></th>\n",
       "      <th></th>\n",
       "    </tr>\n",
       "  </thead>\n",
       "  <tbody>\n",
       "    <tr>\n",
       "      <th>High-range product</th>\n",
       "      <td>20331</td>\n",
       "      <td>397351</td>\n",
       "    </tr>\n",
       "    <tr>\n",
       "      <th>Low-range product</th>\n",
       "      <td>176640</td>\n",
       "      <td>9949744</td>\n",
       "    </tr>\n",
       "    <tr>\n",
       "      <th>Mid-range product</th>\n",
       "      <td>438362</td>\n",
       "      <td>21451784</td>\n",
       "    </tr>\n",
       "  </tbody>\n",
       "</table>\n",
       "</div>"
      ],
      "text/plain": [
       "spending_flag       High Spender  Low Spender\n",
       "price_range_loc                              \n",
       "High-range product         20331       397351\n",
       "Low-range product         176640      9949744\n",
       "Mid-range product         438362     21451784"
      ]
     },
     "execution_count": 192,
     "metadata": {},
     "output_type": "execute_result"
    }
   ],
   "source": [
    "crosstab_pricerange_spend"
   ]
  },
  {
   "cell_type": "code",
   "execution_count": 193,
   "id": "173e99f5",
   "metadata": {},
   "outputs": [
    {
     "data": {
      "text/plain": [
       "<matplotlib.legend.Legend at 0x226a1625040>"
      ]
     },
     "execution_count": 193,
     "metadata": {},
     "output_type": "execute_result"
    },
    {
     "data": {
      "image/png": "[encoded data removed]",
      "text/plain": [
       "<Figure size 432x288 with 1 Axes>"
      ]
     },
     "metadata": {
      "needs_background": "light"
     },
     "output_type": "display_data"
    }
   ],
   "source": [
    "# Create stacked bar chart\n",
    "\n",
    "bar_pricerange_spend = crosstab_pricerange_spend.plot.bar(stacked = True, color = sns.color_palette('Blues_r', 2))\n",
    "plt.legend(title = 'spending_flag')"
   ]
  },
  {
   "cell_type": "code",
   "execution_count": 194,
   "id": "65e729f6",
   "metadata": {},
   "outputs": [],
   "source": [
    "# Export\n",
    "\n",
    "bar_pricerange_spend.figure.savefig(os.path.join(path, '04 Analysis', 'Visualizations', 'bar_pricerange_spend.png'))"
   ]
  },
  {
   "cell_type": "code",
   "execution_count": 209,
   "id": "a932d4b5",
   "metadata": {},
   "outputs": [],
   "source": [
    "# EXPORT FINAL DATA SET\n",
    "\n",
    "df.to_pickle(os.path.join(path, '02 Data', 'Prepared Data', 'ords_prods_custs_complete.pkl'))"
   ]
  },
  {
   "cell_type": "code",
   "execution_count": null,
   "id": "9ce50db6",
   "metadata": {},
   "outputs": [],
   "source": []
  }
 ],
 "metadata": {
  "kernelspec": {
   "display_name": "Python 3",
   "language": "python",
   "name": "python3"
  },
  "language_info": {
   "codemirror_mode": {
    "name": "ipython",
    "version": 3
   },
   "file_extension": ".py",
   "mimetype": "text/x-python",
   "name": "python",
   "nbconvert_exporter": "python",
   "pygments_lexer": "ipython3",
   "version": "3.8.8"
  }
 },
 "nbformat": 4,
 "nbformat_minor": 5
}

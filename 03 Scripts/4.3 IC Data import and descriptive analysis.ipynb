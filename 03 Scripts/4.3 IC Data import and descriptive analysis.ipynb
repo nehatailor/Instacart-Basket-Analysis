{
 "cells": [
  {
   "cell_type": "code",
   "execution_count": 1,
   "id": "f623b1b9",
   "metadata": {},
   "outputs": [],
   "source": [
    "# Import libraries\n",
    "import pandas as pd\n",
    "import numpy as np\n",
    "import os"
   ]
  },
  {
   "cell_type": "code",
   "execution_count": 1,
   "id": "d0997eb7",
   "metadata": {},
   "outputs": [],
   "source": [
    "path = r'C:\\Users\\nehat\\OneDrive\\Desktop\\CF DA Immersion\\Achievement 4\\Instacart Basket Analysis 09'"
   ]
  },
  {
   "cell_type": "code",
   "execution_count": 2,
   "id": "04a55a08",
   "metadata": {},
   "outputs": [
    {
     "data": {
      "text/plain": [
       "'C:\\\\Users\\\\nehat\\\\OneDrive\\\\Desktop\\\\CF DA Immersion\\\\Achievement 4\\\\Instacart Basket Analysis 09'"
      ]
     },
     "execution_count": 2,
     "metadata": {},
     "output_type": "execute_result"
    }
   ],
   "source": [
    "path"
   ]
  }
 ],
 "metadata": {
  "kernelspec": {
   "display_name": "Python 3",
   "language": "python",
   "name": "python3"
  },
  "language_info": {
   "codemirror_mode": {
    "name": "ipython",
    "version": 3
   },
   "file_extension": ".py",
   "mimetype": "text/x-python",
   "name": "python",
   "nbconvert_exporter": "python",
   "pygments_lexer": "ipython3",
   "version": "3.8.8"
  }
 },
 "nbformat": 4,
 "nbformat_minor": 5
}
